{
 "cells": [
  {
   "cell_type": "markdown",
   "id": "748c7dba",
   "metadata": {},
   "source": [
    "This notebook is for Data Science practice.\\\n",
    "The data I use is Shopee Code League 2020- Marketing Analytics."
   ]
  },
  {
   "cell_type": "markdown",
   "id": "63a48e36",
   "metadata": {},
   "source": [
    "For more information about this Code League, see the following kaggle official link: [Ref](https://www.kaggle.com/competitions/open-shopee-code-league-marketing-analytics/data)"
   ]
  },
  {
   "cell_type": "markdown",
   "id": "907b2306",
   "metadata": {},
   "source": [
    "# 1. Load Data"
   ]
  },
  {
   "cell_type": "code",
   "execution_count": 1,
   "id": "3f002ab3",
   "metadata": {},
   "outputs": [],
   "source": [
    "import numpy as np\n",
    "import pandas as pd"
   ]
  },
  {
   "cell_type": "markdown",
   "id": "2b3105b7",
   "metadata": {},
   "source": [
    "We first walk through `_DA_Marketing_Analytics` part"
   ]
  },
  {
   "cell_type": "code",
   "execution_count": 2,
   "id": "46b51d8f",
   "metadata": {},
   "outputs": [],
   "source": [
    "path = 'C:/Users/2022080101/Desktop/Shopee_Dataset_2020/_DA_Marketing_Analytics'"
   ]
  },
  {
   "cell_type": "code",
   "execution_count": 3,
   "id": "b033c697",
   "metadata": {},
   "outputs": [],
   "source": [
    "import os"
   ]
  },
  {
   "cell_type": "code",
   "execution_count": 4,
   "id": "c0d9d28f",
   "metadata": {},
   "outputs": [
    {
     "name": "stdout",
     "output_type": "stream",
     "text": [
      "['sample_submission_0_1.csv', 'test.csv', 'train.csv', 'users.csv']\n"
     ]
    }
   ],
   "source": [
    "print(os.listdir(path))"
   ]
  },
  {
   "cell_type": "markdown",
   "id": "4b969936",
   "metadata": {},
   "source": [
    "There are 4 files in the folder."
   ]
  },
  {
   "cell_type": "markdown",
   "id": "f3f24340",
   "metadata": {},
   "source": [
    "First, we see the train.csv file."
   ]
  },
  {
   "cell_type": "code",
   "execution_count": 5,
   "id": "3a8bb01e",
   "metadata": {},
   "outputs": [],
   "source": [
    "file = os.listdir(path)"
   ]
  },
  {
   "cell_type": "code",
   "execution_count": 6,
   "id": "0195ebdf",
   "metadata": {},
   "outputs": [],
   "source": [
    "df = pd.read_csv(path+'/'+file[2])"
   ]
  },
  {
   "cell_type": "code",
   "execution_count": 7,
   "id": "aad14e2c",
   "metadata": {},
   "outputs": [
    {
     "data": {
      "text/html": [
       "<div>\n",
       "<style scoped>\n",
       "    .dataframe tbody tr th:only-of-type {\n",
       "        vertical-align: middle;\n",
       "    }\n",
       "\n",
       "    .dataframe tbody tr th {\n",
       "        vertical-align: top;\n",
       "    }\n",
       "\n",
       "    .dataframe thead th {\n",
       "        text-align: right;\n",
       "    }\n",
       "</style>\n",
       "<table border=\"1\" class=\"dataframe\">\n",
       "  <thead>\n",
       "    <tr style=\"text-align: right;\">\n",
       "      <th></th>\n",
       "      <th>country_code</th>\n",
       "      <th>grass_date</th>\n",
       "      <th>user_id</th>\n",
       "      <th>subject_line_length</th>\n",
       "      <th>last_open_day</th>\n",
       "      <th>last_login_day</th>\n",
       "      <th>last_checkout_day</th>\n",
       "      <th>open_count_last_10_days</th>\n",
       "      <th>open_count_last_30_days</th>\n",
       "      <th>open_count_last_60_days</th>\n",
       "      <th>login_count_last_10_days</th>\n",
       "      <th>login_count_last_30_days</th>\n",
       "      <th>login_count_last_60_days</th>\n",
       "      <th>checkout_count_last_10_days</th>\n",
       "      <th>checkout_count_last_30_days</th>\n",
       "      <th>checkout_count_last_60_days</th>\n",
       "      <th>open_flag</th>\n",
       "      <th>row_id</th>\n",
       "    </tr>\n",
       "  </thead>\n",
       "  <tbody>\n",
       "    <tr>\n",
       "      <th>0</th>\n",
       "      <td>4</td>\n",
       "      <td>2019-07-16 00:00:00+08:00</td>\n",
       "      <td>43</td>\n",
       "      <td>44</td>\n",
       "      <td>19</td>\n",
       "      <td>6</td>\n",
       "      <td>18</td>\n",
       "      <td>0</td>\n",
       "      <td>2</td>\n",
       "      <td>4</td>\n",
       "      <td>12</td>\n",
       "      <td>43</td>\n",
       "      <td>99</td>\n",
       "      <td>0</td>\n",
       "      <td>5</td>\n",
       "      <td>10</td>\n",
       "      <td>0</td>\n",
       "      <td>0</td>\n",
       "    </tr>\n",
       "    <tr>\n",
       "      <th>1</th>\n",
       "      <td>4</td>\n",
       "      <td>2019-07-16 00:00:00+08:00</td>\n",
       "      <td>102</td>\n",
       "      <td>44</td>\n",
       "      <td>9</td>\n",
       "      <td>4</td>\n",
       "      <td>8</td>\n",
       "      <td>2</td>\n",
       "      <td>9</td>\n",
       "      <td>17</td>\n",
       "      <td>18</td>\n",
       "      <td>48</td>\n",
       "      <td>90</td>\n",
       "      <td>1</td>\n",
       "      <td>1</td>\n",
       "      <td>4</td>\n",
       "      <td>1</td>\n",
       "      <td>1</td>\n",
       "    </tr>\n",
       "    <tr>\n",
       "      <th>2</th>\n",
       "      <td>6</td>\n",
       "      <td>2019-07-16 00:00:00+08:00</td>\n",
       "      <td>177</td>\n",
       "      <td>49</td>\n",
       "      <td>14</td>\n",
       "      <td>5</td>\n",
       "      <td>5</td>\n",
       "      <td>0</td>\n",
       "      <td>4</td>\n",
       "      <td>12</td>\n",
       "      <td>24</td>\n",
       "      <td>69</td>\n",
       "      <td>119</td>\n",
       "      <td>5</td>\n",
       "      <td>19</td>\n",
       "      <td>27</td>\n",
       "      <td>0</td>\n",
       "      <td>2</td>\n",
       "    </tr>\n",
       "    <tr>\n",
       "      <th>3</th>\n",
       "      <td>1</td>\n",
       "      <td>2019-07-16 00:00:00+08:00</td>\n",
       "      <td>184</td>\n",
       "      <td>49</td>\n",
       "      <td>49</td>\n",
       "      <td>9</td>\n",
       "      <td>53</td>\n",
       "      <td>0</td>\n",
       "      <td>0</td>\n",
       "      <td>1</td>\n",
       "      <td>9</td>\n",
       "      <td>23</td>\n",
       "      <td>69</td>\n",
       "      <td>1</td>\n",
       "      <td>3</td>\n",
       "      <td>6</td>\n",
       "      <td>0</td>\n",
       "      <td>3</td>\n",
       "    </tr>\n",
       "    <tr>\n",
       "      <th>4</th>\n",
       "      <td>6</td>\n",
       "      <td>2019-07-16 00:00:00+08:00</td>\n",
       "      <td>221</td>\n",
       "      <td>49</td>\n",
       "      <td>227</td>\n",
       "      <td>6</td>\n",
       "      <td>221</td>\n",
       "      <td>0</td>\n",
       "      <td>0</td>\n",
       "      <td>0</td>\n",
       "      <td>2</td>\n",
       "      <td>5</td>\n",
       "      <td>5</td>\n",
       "      <td>0</td>\n",
       "      <td>0</td>\n",
       "      <td>0</td>\n",
       "      <td>0</td>\n",
       "      <td>4</td>\n",
       "    </tr>\n",
       "    <tr>\n",
       "      <th>5</th>\n",
       "      <td>4</td>\n",
       "      <td>2019-07-16 00:00:00+08:00</td>\n",
       "      <td>246</td>\n",
       "      <td>44</td>\n",
       "      <td>5</td>\n",
       "      <td>8</td>\n",
       "      <td>70</td>\n",
       "      <td>3</td>\n",
       "      <td>7</td>\n",
       "      <td>13</td>\n",
       "      <td>6</td>\n",
       "      <td>18</td>\n",
       "      <td>45</td>\n",
       "      <td>0</td>\n",
       "      <td>0</td>\n",
       "      <td>7</td>\n",
       "      <td>0</td>\n",
       "      <td>5</td>\n",
       "    </tr>\n",
       "    <tr>\n",
       "      <th>6</th>\n",
       "      <td>5</td>\n",
       "      <td>2019-07-16 00:00:00+08:00</td>\n",
       "      <td>258</td>\n",
       "      <td>43</td>\n",
       "      <td>13</td>\n",
       "      <td>3</td>\n",
       "      <td>3</td>\n",
       "      <td>0</td>\n",
       "      <td>0</td>\n",
       "      <td>0</td>\n",
       "      <td>9</td>\n",
       "      <td>32</td>\n",
       "      <td>46</td>\n",
       "      <td>2</td>\n",
       "      <td>3</td>\n",
       "      <td>3</td>\n",
       "      <td>0</td>\n",
       "      <td>6</td>\n",
       "    </tr>\n",
       "    <tr>\n",
       "      <th>7</th>\n",
       "      <td>6</td>\n",
       "      <td>2019-07-16 00:00:00+08:00</td>\n",
       "      <td>288</td>\n",
       "      <td>49</td>\n",
       "      <td>163</td>\n",
       "      <td>1</td>\n",
       "      <td>28</td>\n",
       "      <td>0</td>\n",
       "      <td>0</td>\n",
       "      <td>0</td>\n",
       "      <td>4</td>\n",
       "      <td>19</td>\n",
       "      <td>45</td>\n",
       "      <td>0</td>\n",
       "      <td>5</td>\n",
       "      <td>7</td>\n",
       "      <td>0</td>\n",
       "      <td>7</td>\n",
       "    </tr>\n",
       "    <tr>\n",
       "      <th>8</th>\n",
       "      <td>1</td>\n",
       "      <td>2019-07-16 00:00:00+08:00</td>\n",
       "      <td>350</td>\n",
       "      <td>49</td>\n",
       "      <td>7</td>\n",
       "      <td>5</td>\n",
       "      <td>26</td>\n",
       "      <td>2</td>\n",
       "      <td>4</td>\n",
       "      <td>7</td>\n",
       "      <td>1</td>\n",
       "      <td>8</td>\n",
       "      <td>10</td>\n",
       "      <td>0</td>\n",
       "      <td>1</td>\n",
       "      <td>1</td>\n",
       "      <td>1</td>\n",
       "      <td>8</td>\n",
       "    </tr>\n",
       "    <tr>\n",
       "      <th>9</th>\n",
       "      <td>4</td>\n",
       "      <td>2019-07-16 00:00:00+08:00</td>\n",
       "      <td>417</td>\n",
       "      <td>44</td>\n",
       "      <td>7</td>\n",
       "      <td>10</td>\n",
       "      <td>12</td>\n",
       "      <td>2</td>\n",
       "      <td>6</td>\n",
       "      <td>14</td>\n",
       "      <td>6</td>\n",
       "      <td>11</td>\n",
       "      <td>17</td>\n",
       "      <td>0</td>\n",
       "      <td>1</td>\n",
       "      <td>1</td>\n",
       "      <td>0</td>\n",
       "      <td>9</td>\n",
       "    </tr>\n",
       "  </tbody>\n",
       "</table>\n",
       "</div>"
      ],
      "text/plain": [
       "   country_code                 grass_date  user_id  subject_line_length  \\\n",
       "0             4  2019-07-16 00:00:00+08:00       43                   44   \n",
       "1             4  2019-07-16 00:00:00+08:00      102                   44   \n",
       "2             6  2019-07-16 00:00:00+08:00      177                   49   \n",
       "3             1  2019-07-16 00:00:00+08:00      184                   49   \n",
       "4             6  2019-07-16 00:00:00+08:00      221                   49   \n",
       "5             4  2019-07-16 00:00:00+08:00      246                   44   \n",
       "6             5  2019-07-16 00:00:00+08:00      258                   43   \n",
       "7             6  2019-07-16 00:00:00+08:00      288                   49   \n",
       "8             1  2019-07-16 00:00:00+08:00      350                   49   \n",
       "9             4  2019-07-16 00:00:00+08:00      417                   44   \n",
       "\n",
       "  last_open_day last_login_day last_checkout_day  open_count_last_10_days  \\\n",
       "0            19              6                18                        0   \n",
       "1             9              4                 8                        2   \n",
       "2            14              5                 5                        0   \n",
       "3            49              9                53                        0   \n",
       "4           227              6               221                        0   \n",
       "5             5              8                70                        3   \n",
       "6            13              3                 3                        0   \n",
       "7           163              1                28                        0   \n",
       "8             7              5                26                        2   \n",
       "9             7             10                12                        2   \n",
       "\n",
       "   open_count_last_30_days  open_count_last_60_days  login_count_last_10_days  \\\n",
       "0                        2                        4                        12   \n",
       "1                        9                       17                        18   \n",
       "2                        4                       12                        24   \n",
       "3                        0                        1                         9   \n",
       "4                        0                        0                         2   \n",
       "5                        7                       13                         6   \n",
       "6                        0                        0                         9   \n",
       "7                        0                        0                         4   \n",
       "8                        4                        7                         1   \n",
       "9                        6                       14                         6   \n",
       "\n",
       "   login_count_last_30_days  login_count_last_60_days  \\\n",
       "0                        43                        99   \n",
       "1                        48                        90   \n",
       "2                        69                       119   \n",
       "3                        23                        69   \n",
       "4                         5                         5   \n",
       "5                        18                        45   \n",
       "6                        32                        46   \n",
       "7                        19                        45   \n",
       "8                         8                        10   \n",
       "9                        11                        17   \n",
       "\n",
       "   checkout_count_last_10_days  checkout_count_last_30_days  \\\n",
       "0                            0                            5   \n",
       "1                            1                            1   \n",
       "2                            5                           19   \n",
       "3                            1                            3   \n",
       "4                            0                            0   \n",
       "5                            0                            0   \n",
       "6                            2                            3   \n",
       "7                            0                            5   \n",
       "8                            0                            1   \n",
       "9                            0                            1   \n",
       "\n",
       "   checkout_count_last_60_days  open_flag  row_id  \n",
       "0                           10          0       0  \n",
       "1                            4          1       1  \n",
       "2                           27          0       2  \n",
       "3                            6          0       3  \n",
       "4                            0          0       4  \n",
       "5                            7          0       5  \n",
       "6                            3          0       6  \n",
       "7                            7          0       7  \n",
       "8                            1          1       8  \n",
       "9                            1          0       9  "
      ]
     },
     "execution_count": 7,
     "metadata": {},
     "output_type": "execute_result"
    }
   ],
   "source": [
    "df.head(10)"
   ]
  },
  {
   "cell_type": "code",
   "execution_count": 8,
   "id": "ee918dd3",
   "metadata": {},
   "outputs": [
    {
     "name": "stdout",
     "output_type": "stream",
     "text": [
      "<class 'pandas.core.frame.DataFrame'>\n",
      "RangeIndex: 73539 entries, 0 to 73538\n",
      "Data columns (total 18 columns):\n",
      " #   Column                       Non-Null Count  Dtype \n",
      "---  ------                       --------------  ----- \n",
      " 0   country_code                 73539 non-null  int64 \n",
      " 1   grass_date                   73539 non-null  object\n",
      " 2   user_id                      73539 non-null  int64 \n",
      " 3   subject_line_length          73539 non-null  int64 \n",
      " 4   last_open_day                73539 non-null  object\n",
      " 5   last_login_day               73539 non-null  object\n",
      " 6   last_checkout_day            73539 non-null  object\n",
      " 7   open_count_last_10_days      73539 non-null  int64 \n",
      " 8   open_count_last_30_days      73539 non-null  int64 \n",
      " 9   open_count_last_60_days      73539 non-null  int64 \n",
      " 10  login_count_last_10_days     73539 non-null  int64 \n",
      " 11  login_count_last_30_days     73539 non-null  int64 \n",
      " 12  login_count_last_60_days     73539 non-null  int64 \n",
      " 13  checkout_count_last_10_days  73539 non-null  int64 \n",
      " 14  checkout_count_last_30_days  73539 non-null  int64 \n",
      " 15  checkout_count_last_60_days  73539 non-null  int64 \n",
      " 16  open_flag                    73539 non-null  int64 \n",
      " 17  row_id                       73539 non-null  int64 \n",
      "dtypes: int64(14), object(4)\n",
      "memory usage: 10.1+ MB\n"
     ]
    }
   ],
   "source": [
    "df.info()"
   ]
  },
  {
   "cell_type": "code",
   "execution_count": 9,
   "id": "b82367a9",
   "metadata": {},
   "outputs": [
    {
     "data": {
      "text/plain": [
       "(73539, 18)"
      ]
     },
     "execution_count": 9,
     "metadata": {},
     "output_type": "execute_result"
    }
   ],
   "source": [
    "df.shape"
   ]
  },
  {
   "cell_type": "markdown",
   "id": "1673a33e",
   "metadata": {},
   "source": [
    "# Columns Description"
   ]
  },
  {
   "cell_type": "markdown",
   "id": "5c6fe434",
   "metadata": {},
   "source": [
    "According to the description from [Shopee Code League - Marketing Analytics](https://www.kaggle.com/competitions/open-shopee-code-league-marketing-analytics/data) \\\n",
    "we have\n",
    "* country_code: An integer code for the country where the user lives.\n",
    "\n",
    "* grass_date: The date when the email was sent.\n",
    "\n",
    "* user_id: the unique identifier of each user\n",
    "\n",
    "* subject_line_length: the number of characters in the subject of the email\n",
    "\n",
    "* last_open_day: How many days ago was the last time the user opened an email\n",
    "\n",
    "* last_login_day: How many days ago the user last logged in its Shopee account\n",
    "\n",
    "* last_checkout_day: How many days ago the user last purchased on Shopee\n",
    "\n",
    "* open_count_last_[10/30/60]_days: the total number of email opens in the last N days.\n",
    "\n",
    "* login_count_last_[10/30/60]_days: the total number of user logins in the last N days.\n",
    "\n",
    "* checkout_count_last_[10/30/60]_days: the total number of checkouts (=purchases) by the user in the last N days.\n",
    "\n",
    "* open_flag: the target variable. Whether or not the email was opened.\n",
    "\n",
    "* row_id:"
   ]
  },
  {
   "cell_type": "markdown",
   "id": "0dd19126",
   "metadata": {},
   "source": [
    "We explore these features to know more about the data."
   ]
  },
  {
   "cell_type": "code",
   "execution_count": 10,
   "id": "019634f4",
   "metadata": {},
   "outputs": [],
   "source": [
    "import matplotlib.pyplot as plt"
   ]
  },
  {
   "cell_type": "code",
   "execution_count": 11,
   "id": "bc776089",
   "metadata": {},
   "outputs": [
    {
     "data": {
      "text/plain": [
       "1    28423\n",
       "2    13874\n",
       "3    13845\n",
       "4     6302\n",
       "5     5536\n",
       "6     3221\n",
       "7     2338\n",
       "Name: country_code, dtype: int64"
      ]
     },
     "execution_count": 11,
     "metadata": {},
     "output_type": "execute_result"
    }
   ],
   "source": [
    "df.country_code.value_counts()"
   ]
  },
  {
   "cell_type": "code",
   "execution_count": 12,
   "id": "0e115feb",
   "metadata": {
    "scrolled": true
   },
   "outputs": [
    {
     "data": {
      "image/png": "[encoded data removed]",
      "text/plain": [
       "<Figure size 432x288 with 1 Axes>"
      ]
     },
     "metadata": {},
     "output_type": "display_data"
    }
   ],
   "source": [
    "# coutry_code pie chart\n",
    "count = df.country_code.value_counts()\n",
    "plt.pie(x = count.values,labels = count.index,autopct='%1.1f%%'); # add ; to hide the text."
   ]
  },
  {
   "cell_type": "markdown",
   "id": "3fd9e37f",
   "metadata": {},
   "source": [
    "First, we can see that the top 3 most customer are from country 1 to 3.\\\n",
    "Intrestingly, the encoding method may be the sorting values."
   ]
  },
  {
   "cell_type": "code",
   "execution_count": 13,
   "id": "fa220863",
   "metadata": {
    "scrolled": true
   },
   "outputs": [
    {
     "data": {
      "text/plain": [
       "array(['2019-07-16 00:00:00+08:00', '2019-07-17 00:00:00+08:00',\n",
       "       '2019-07-18 00:00:00+08:00', '2019-07-19 00:00:00+08:00',\n",
       "       '2019-07-20 00:00:00+08:00', '2019-07-21 00:00:00+08:00',\n",
       "       '2019-07-22 00:00:00+08:00', '2019-07-23 00:00:00+08:00',\n",
       "       '2019-07-24 00:00:00+08:00', '2019-07-25 00:00:00+08:00',\n",
       "       '2019-07-26 00:00:00+08:00', '2019-07-27 00:00:00+08:00',\n",
       "       '2019-07-28 00:00:00+08:00', '2019-07-29 00:00:00+08:00',\n",
       "       '2019-07-30 00:00:00+08:00', '2019-08-01 00:00:00+08:00',\n",
       "       '2019-08-02 00:00:00+08:00', '2019-08-03 00:00:00+08:00',\n",
       "       '2019-08-04 00:00:00+08:00', '2019-08-05 00:00:00+08:00',\n",
       "       '2019-08-06 00:00:00+08:00', '2019-08-07 00:00:00+08:00',\n",
       "       '2019-08-08 00:00:00+08:00', '2019-08-09 00:00:00+08:00',\n",
       "       '2019-08-10 00:00:00+08:00', '2019-08-11 00:00:00+08:00',\n",
       "       '2019-08-12 00:00:00+08:00', '2019-08-13 00:00:00+08:00',\n",
       "       '2019-08-14 00:00:00+08:00', '2019-08-15 00:00:00+08:00',\n",
       "       '2019-08-16 00:00:00+08:00', '2019-08-17 00:00:00+08:00',\n",
       "       '2019-08-18 00:00:00+08:00', '2019-08-19 00:00:00+08:00',\n",
       "       '2019-08-20 00:00:00+08:00', '2019-08-21 00:00:00+08:00',\n",
       "       '2019-08-22 00:00:00+08:00', '2019-08-23 00:00:00+08:00',\n",
       "       '2019-08-24 00:00:00+08:00', '2019-08-25 00:00:00+08:00',\n",
       "       '2019-08-26 00:00:00+08:00', '2019-08-27 00:00:00+08:00',\n",
       "       '2019-08-28 00:00:00+08:00', '2019-08-29 00:00:00+08:00',\n",
       "       '2019-08-30 00:00:00+08:00', '2019-09-01 00:00:00+08:00',\n",
       "       '2019-09-02 00:00:00+08:00'], dtype=object)"
      ]
     },
     "execution_count": 13,
     "metadata": {},
     "output_type": "execute_result"
    }
   ],
   "source": [
    "df.grass_date.unique()"
   ]
  },
  {
   "cell_type": "markdown",
   "id": "b3803117",
   "metadata": {},
   "source": [
    "We find that there are no `2019-07-31` and `2019-08-31` in `grass_date`."
   ]
  },
  {
   "cell_type": "code",
   "execution_count": 14,
   "id": "4ad94375",
   "metadata": {},
   "outputs": [
    {
     "data": {
      "text/plain": [
       "True"
      ]
     },
     "execution_count": 14,
     "metadata": {},
     "output_type": "execute_result"
    }
   ],
   "source": [
    "df.user_id.duplicated().any()"
   ]
  },
  {
   "cell_type": "markdown",
   "id": "890bfac0",
   "metadata": {},
   "source": [
    "Some user_id may appear several times."
   ]
  },
  {
   "cell_type": "code",
   "execution_count": 15,
   "id": "50acc88f",
   "metadata": {
    "scrolled": true
   },
   "outputs": [],
   "source": [
    "duplicated_id = df[df.user_id.duplicated()].user_id.unique()\n",
    "# store the duplicated user_id as duplicated_id"
   ]
  },
  {
   "cell_type": "code",
   "execution_count": 16,
   "id": "9f0427d3",
   "metadata": {},
   "outputs": [
    {
     "data": {
      "text/html": [
       "<div>\n",
       "<style scoped>\n",
       "    .dataframe tbody tr th:only-of-type {\n",
       "        vertical-align: middle;\n",
       "    }\n",
       "\n",
       "    .dataframe tbody tr th {\n",
       "        vertical-align: top;\n",
       "    }\n",
       "\n",
       "    .dataframe thead th {\n",
       "        text-align: right;\n",
       "    }\n",
       "</style>\n",
       "<table border=\"1\" class=\"dataframe\">\n",
       "  <thead>\n",
       "    <tr style=\"text-align: right;\">\n",
       "      <th></th>\n",
       "      <th>country_code</th>\n",
       "      <th>grass_date</th>\n",
       "      <th>user_id</th>\n",
       "      <th>subject_line_length</th>\n",
       "      <th>last_open_day</th>\n",
       "      <th>last_login_day</th>\n",
       "      <th>last_checkout_day</th>\n",
       "      <th>open_count_last_10_days</th>\n",
       "      <th>open_count_last_30_days</th>\n",
       "      <th>open_count_last_60_days</th>\n",
       "      <th>login_count_last_10_days</th>\n",
       "      <th>login_count_last_30_days</th>\n",
       "      <th>login_count_last_60_days</th>\n",
       "      <th>checkout_count_last_10_days</th>\n",
       "      <th>checkout_count_last_30_days</th>\n",
       "      <th>checkout_count_last_60_days</th>\n",
       "      <th>open_flag</th>\n",
       "      <th>row_id</th>\n",
       "    </tr>\n",
       "  </thead>\n",
       "  <tbody>\n",
       "    <tr>\n",
       "      <th>337</th>\n",
       "      <td>5</td>\n",
       "      <td>2019-07-16 00:00:00+08:00</td>\n",
       "      <td>19732</td>\n",
       "      <td>43</td>\n",
       "      <td>4</td>\n",
       "      <td>1</td>\n",
       "      <td>1</td>\n",
       "      <td>0</td>\n",
       "      <td>0</td>\n",
       "      <td>0</td>\n",
       "      <td>9</td>\n",
       "      <td>27</td>\n",
       "      <td>68</td>\n",
       "      <td>3</td>\n",
       "      <td>5</td>\n",
       "      <td>14</td>\n",
       "      <td>0</td>\n",
       "      <td>337</td>\n",
       "    </tr>\n",
       "    <tr>\n",
       "      <th>2669</th>\n",
       "      <td>5</td>\n",
       "      <td>2019-07-17 00:00:00+08:00</td>\n",
       "      <td>19732</td>\n",
       "      <td>33</td>\n",
       "      <td>5</td>\n",
       "      <td>2</td>\n",
       "      <td>2</td>\n",
       "      <td>0</td>\n",
       "      <td>0</td>\n",
       "      <td>0</td>\n",
       "      <td>9</td>\n",
       "      <td>28</td>\n",
       "      <td>69</td>\n",
       "      <td>3</td>\n",
       "      <td>5</td>\n",
       "      <td>14</td>\n",
       "      <td>0</td>\n",
       "      <td>2669</td>\n",
       "    </tr>\n",
       "  </tbody>\n",
       "</table>\n",
       "</div>"
      ],
      "text/plain": [
       "      country_code                 grass_date  user_id  subject_line_length  \\\n",
       "337              5  2019-07-16 00:00:00+08:00    19732                   43   \n",
       "2669             5  2019-07-17 00:00:00+08:00    19732                   33   \n",
       "\n",
       "     last_open_day last_login_day last_checkout_day  open_count_last_10_days  \\\n",
       "337              4              1                 1                        0   \n",
       "2669             5              2                 2                        0   \n",
       "\n",
       "      open_count_last_30_days  open_count_last_60_days  \\\n",
       "337                         0                        0   \n",
       "2669                        0                        0   \n",
       "\n",
       "      login_count_last_10_days  login_count_last_30_days  \\\n",
       "337                          9                        27   \n",
       "2669                         9                        28   \n",
       "\n",
       "      login_count_last_60_days  checkout_count_last_10_days  \\\n",
       "337                         68                            3   \n",
       "2669                        69                            3   \n",
       "\n",
       "      checkout_count_last_30_days  checkout_count_last_60_days  open_flag  \\\n",
       "337                             5                           14          0   \n",
       "2669                            5                           14          0   \n",
       "\n",
       "      row_id  \n",
       "337      337  \n",
       "2669    2669  "
      ]
     },
     "execution_count": 16,
     "metadata": {},
     "output_type": "execute_result"
    }
   ],
   "source": [
    "df[df['user_id'] == duplicated_id[0]] #Pick out 1 duplicated user_id to see what is the difference of each feature."
   ]
  },
  {
   "cell_type": "markdown",
   "id": "87b04d01",
   "metadata": {},
   "source": [
    "Suppose that there is no typo or wrong value issue.\\\n",
    "In user_id = 19732 case, we find that Shopee send the second mail after the 1st send.\\\n",
    "The differences are that:\n",
    "1. subject_line_length is shorter in the second e-mail.\n",
    "2. This user hasn't opened the 1st and 2nd e-mail.\n",
    "3. This user has not opened any e-mail last 60 days, but he logined 9 times in 10 days, 27-28 times in 30 days, and 68-69 times in 60 days. This shows that this user nearly logins everyday but not opens any e-mail.\n",
    "4. This user bought 3 times in 10 days, 5 times in 30 days, and 14 times in 60 days. I will classify this user as a frequent buyer."
   ]
  },
  {
   "cell_type": "markdown",
   "id": "746a5592",
   "metadata": {},
   "source": [
    "The above is a one-case study, we move on to anothre feature."
   ]
  },
  {
   "cell_type": "code",
   "execution_count": 17,
   "id": "69f38123",
   "metadata": {},
   "outputs": [],
   "source": [
    "subject_length = df.subject_line_length.apply(lambda x: round(int((x + 9) / 10) * 10))"
   ]
  },
  {
   "cell_type": "code",
   "execution_count": 18,
   "id": "ff2c20e4",
   "metadata": {},
   "outputs": [
    {
     "data": {
      "text/plain": [
       "80"
      ]
     },
     "execution_count": 18,
     "metadata": {},
     "output_type": "execute_result"
    }
   ],
   "source": [
    "max(subject_length)"
   ]
  },
  {
   "cell_type": "code",
   "execution_count": 19,
   "id": "1d16a44f",
   "metadata": {},
   "outputs": [
    {
     "data": {
      "text/plain": [
       "40    23964\n",
       "50    20470\n",
       "60    17032\n",
       "30     7083\n",
       "70     4197\n",
       "20      348\n",
       "10      283\n",
       "80      162\n",
       "Name: subject_line_length, dtype: int64"
      ]
     },
     "execution_count": 19,
     "metadata": {},
     "output_type": "execute_result"
    }
   ],
   "source": [
    "subject_length.value_counts()"
   ]
  },
  {
   "cell_type": "code",
   "execution_count": 20,
   "id": "4b53cec7",
   "metadata": {},
   "outputs": [],
   "source": [
    "xx = subject_length.value_counts().index"
   ]
  },
  {
   "cell_type": "code",
   "execution_count": 21,
   "id": "04320e75",
   "metadata": {},
   "outputs": [],
   "source": [
    "yy = subject_length.value_counts().values"
   ]
  },
  {
   "cell_type": "code",
   "execution_count": 22,
   "id": "23edeb5e",
   "metadata": {},
   "outputs": [
    {
     "data": {
      "image/png": "[encoded data removed]",
      "text/plain": [
       "<Figure size 432x288 with 1 Axes>"
      ]
     },
     "metadata": {
      "needs_background": "light"
     },
     "output_type": "display_data"
    }
   ],
   "source": [
    "# We plot a bar chart of subject_line_length\n",
    "\n",
    "fig, ax = plt.subplots()\n",
    "ax.bar(xx, yy)\n",
    "ax.set_xlabel('Length in 10')\n",
    "ax.set_ylabel('Counts')\n",
    "ax.set_title('Subject Line Length in 10')\n",
    "\n",
    "plt.show()"
   ]
  },
  {
   "cell_type": "markdown",
   "id": "7d9fd5f6",
   "metadata": {},
   "source": [
    "E-mail subject length are concentrates on the range of (40,60)"
   ]
  },
  {
   "cell_type": "code",
   "execution_count": 23,
   "id": "4c16427e",
   "metadata": {},
   "outputs": [
    {
     "data": {
      "text/plain": [
       "array(['19', '9', '14', '49', '227', '5', '13', '163', '7', '130', '27',\n",
       "       'Never open', '4', '24', '28', '12', '23', '70', '83', '26', '17',\n",
       "       '2', '3', '182', '58', '22', '20', '10', '8', '82', '87', '41',\n",
       "       '115', '207', '16', '11', '29', '77', '48', '34', '263', '25',\n",
       "       '30', '56', '21', '180', '91', '90', '47', '64', '61', '401', '78',\n",
       "       '86', '32', '76', '75', '55', '38', '15', '39', '36', '71', '169',\n",
       "       '59', '224', '18', '85', '143', '208', '72', '140', '62', '60',\n",
       "       '296', '164', '362', '125', '35', '168', '74', '73', '154', '210',\n",
       "       '46', '33', '53', '69', '37', '93', '221', '233', '347', '42',\n",
       "       '116', '54', '148', '340', '66', '96', '89', '361', '134', '701',\n",
       "       '79', '43', '107', '293', '379', '268', '63', '216', '84', '138',\n",
       "       '446', '145', '104', '98', '280', '369', '249', '97', '103', '170',\n",
       "       '57', '40', '301', '552', '246', '267', '81', '297', '51', '466',\n",
       "       '540', '306', '422', '44', '230', '174', '108', '314', '67', '229',\n",
       "       '298', '326', '106', '333', '45', '80', '31', '211', '65', '52',\n",
       "       '95', '315', '50', '100', '102', '158', '228', '256', '226', '105',\n",
       "       '454', '277', '368', '191', '244', '137', '181', '383', '203',\n",
       "       '234', '295', '279', '88', '175', '288', '173', '290', '183',\n",
       "       '294', '269', '223', '92', '285', '321', '123', '313', '199',\n",
       "       '176', '155', '124', '275', '299', '165', '271', '112', '253',\n",
       "       '160', '239', '272', '141', '153', '139', '68', '189', '147', '94',\n",
       "       '152', '109', '213', '1', '6', '185', '144', '327', '202', '371',\n",
       "       '502', '336', '433', '177', '485', '119', '217', '142', '463',\n",
       "       '310', '197', '437', '149', '464', '128', '132', '135', '198',\n",
       "       '231', '248', '259', '316', '184', '264', '114', '117', '129',\n",
       "       '136', '126', '151', '289', '495', '205', '201', '543', '342',\n",
       "       '235', '714', '113', '421', '287', '178', '156', '204', '262',\n",
       "       '179', '162', '282', '127', '254', '252', '266', '146', '200',\n",
       "       '225', '118', '196', '187', '121', '101', '193', '319', '338',\n",
       "       '322', '251', '260', '241', '258', '214', '270', '273', '167',\n",
       "       '131', '192', '222', '304', '219', '305', '215', '283', '302',\n",
       "       '242', '150', '238', '274', '206', '159', '186', '261', '286',\n",
       "       '549', '445', '358', '303', '247', '325', '257', '307', '334',\n",
       "       '291', '209', '329', '195', '237', '284', '300', '265', '278',\n",
       "       '212', '190', '188', '172', '122', '133', '483', '460', '240',\n",
       "       '588', '318', '349', '372', '520', '498', '684', '424', '245',\n",
       "       '419', '456', '480', '345', '255', '335', '545', '111', '220',\n",
       "       '761', '741', '697', '517', '161', '276', '157', '194', '308',\n",
       "       '387', '610', '510', '365', '389', '595', '232', '417', '561',\n",
       "       '743', '554', '711', '548', '481', '386', '250', '626', '351',\n",
       "       '439', '110', '337', '309', '415', '354', '166', '312', '236',\n",
       "       '120', '651', '355', '472', '344', '374', '99', '328', '569',\n",
       "       '381', '171', '628', '392', '384', '774', '608', '377', '330',\n",
       "       '350', '356', '734', '658', '655', '243', '292', '413', '425',\n",
       "       '746', '564', '395', '798', '783', '643', '400', '352', '605',\n",
       "       '484', '771', '800', '465', '727', '675', '331', '332', '479',\n",
       "       '404', '525', '702', '533', '492', '281', '511', '582', '359',\n",
       "       '416', '429', '766', '722', '423', '414', '428', '399', '324',\n",
       "       '451', '430', '488', '516', '526', '555', '366', '385', '461',\n",
       "       '473', '639', '607', '346', '320', '505', '452', '393', '402',\n",
       "       '622', '435', '612', '670', '341', '786', '443', '808', '715',\n",
       "       '339', '580', '614', '411', '431', '660', '441', '360', '571',\n",
       "       '641', '506', '323', '311', '375', '317', '218', '585', '536',\n",
       "       '440', '562', '573', '394', '742', '378', '343', '530', '490',\n",
       "       '478', '531', '737', '457', '409', '391', '534', '418', '527',\n",
       "       '736', '600', '602', '679', '705', '420', '621', '804', '450',\n",
       "       '625', '408', '519', '631', '493', '703', '458', '448', '370',\n",
       "       '603', '587', '500', '388', '547', '803', '544', '663', '397',\n",
       "       '730', '763', '367', '606', '357'], dtype=object)"
      ]
     },
     "execution_count": 23,
     "metadata": {},
     "output_type": "execute_result"
    }
   ],
   "source": [
    "df.last_open_day.unique()"
   ]
  },
  {
   "cell_type": "markdown",
   "id": "c027b333",
   "metadata": {},
   "source": [
    "We convert the 'Never open' to a negative number, says, -20."
   ]
  },
  {
   "cell_type": "code",
   "execution_count": 24,
   "id": "c93e44fc",
   "metadata": {},
   "outputs": [],
   "source": [
    "df.last_open_day=df.last_open_day.replace(to_replace=\"Never open\",value=-20)"
   ]
  },
  {
   "cell_type": "code",
   "execution_count": 25,
   "id": "c783e72f",
   "metadata": {},
   "outputs": [],
   "source": [
    "df.last_open_day = df.last_open_day.apply(int)"
   ]
  },
  {
   "cell_type": "code",
   "execution_count": 26,
   "id": "8dc1ae26",
   "metadata": {
    "scrolled": true
   },
   "outputs": [
    {
     "data": {
      "text/plain": [
       "count    73539.000000\n",
       "mean        27.360190\n",
       "std         54.659461\n",
       "min        -20.000000\n",
       "25%          3.000000\n",
       "50%         12.000000\n",
       "75%         33.000000\n",
       "max        808.000000\n",
       "Name: last_open_day, dtype: float64"
      ]
     },
     "execution_count": 26,
     "metadata": {},
     "output_type": "execute_result"
    }
   ],
   "source": [
    "df.last_open_day.describe()"
   ]
  },
  {
   "cell_type": "markdown",
   "id": "72136377",
   "metadata": {},
   "source": [
    "The time span is too wide, if we want to visualize it, we need to winsorize the data.\\\n",
    "We truncate the number larger than 365 to be 365."
   ]
  },
  {
   "cell_type": "code",
   "execution_count": 27,
   "id": "a0c8c06a",
   "metadata": {},
   "outputs": [
    {
     "name": "stderr",
     "output_type": "stream",
     "text": [
      "C:\\Users\\2022080101\\AppData\\Local\\Temp\\ipykernel_8148\\3599904753.py:1: SettingWithCopyWarning: \n",
      "A value is trying to be set on a copy of a slice from a DataFrame\n",
      "\n",
      "See the caveats in the documentation: https://pandas.pydata.org/pandas-docs/stable/user_guide/indexing.html#returning-a-view-versus-a-copy\n",
      "  df.last_open_day[:] = df.last_open_day.apply(lambda x: x if x<365 else 365)\n"
     ]
    }
   ],
   "source": [
    "df.last_open_day[:] = df.last_open_day.apply(lambda x: x if x<365 else 365)"
   ]
  },
  {
   "cell_type": "code",
   "execution_count": 28,
   "id": "e1b43fce",
   "metadata": {},
   "outputs": [
    {
     "data": {
      "text/plain": [
       "count    73539.000000\n",
       "mean        26.795687\n",
       "std         49.691099\n",
       "min        -20.000000\n",
       "25%          3.000000\n",
       "50%         12.000000\n",
       "75%         33.000000\n",
       "max        365.000000\n",
       "Name: last_open_day, dtype: float64"
      ]
     },
     "execution_count": 28,
     "metadata": {},
     "output_type": "execute_result"
    }
   ],
   "source": [
    "df.last_open_day.describe()"
   ]
  },
  {
   "cell_type": "code",
   "execution_count": 29,
   "id": "738f905f",
   "metadata": {},
   "outputs": [],
   "source": [
    "last_open_length = df.last_open_day.apply(lambda x: round(int((x + 9) / 10) * 10))"
   ]
  },
  {
   "cell_type": "code",
   "execution_count": 30,
   "id": "e5a0bc75",
   "metadata": {},
   "outputs": [],
   "source": [
    "last_open_length = last_open_length.value_counts()"
   ]
  },
  {
   "cell_type": "code",
   "execution_count": 31,
   "id": "906235ee",
   "metadata": {},
   "outputs": [
    {
     "data": {
      "image/png": "[encoded data removed]",
      "text/plain": [
       "<Figure size 432x288 with 1 Axes>"
      ]
     },
     "metadata": {
      "needs_background": "light"
     },
     "output_type": "display_data"
    }
   ],
   "source": [
    "fig, ax = plt.subplots()\n",
    "ax.bar(last_open_length.index, last_open_length.values)\n",
    "ax.set_xlabel('Length in 10')\n",
    "ax.set_ylabel('Counts')\n",
    "ax.set_title('Last Open Days Counts in 10')\n",
    "\n",
    "plt.show()"
   ]
  },
  {
   "cell_type": "markdown",
   "id": "72b0bccf",
   "metadata": {},
   "source": [
    "Take a closer look at the shorter length."
   ]
  },
  {
   "cell_type": "code",
   "execution_count": 32,
   "id": "243e2823",
   "metadata": {},
   "outputs": [
    {
     "data": {
      "image/png": "[encoded data removed]",
      "text/plain": [
       "<Figure size 432x288 with 1 Axes>"
      ]
     },
     "metadata": {
      "needs_background": "light"
     },
     "output_type": "display_data"
    }
   ],
   "source": [
    "fig, ax = plt.subplots()\n",
    "ax.bar(last_open_length.index[:10], last_open_length.values[:10])\n",
    "ax.set_xlabel('Length in 10')\n",
    "ax.set_ylabel('Counts')\n",
    "ax.set_title('Last Open Days Counts in 10')\n",
    "\n",
    "plt.show()"
   ]
  },
  {
   "cell_type": "markdown",
   "id": "680f8a6e",
   "metadata": {},
   "source": [
    "Though we have -20 in the data and this may distort the result(underrated), \\\n",
    "but we can see that over 50% users open at least 1 e-mail in a month."
   ]
  },
  {
   "cell_type": "code",
   "execution_count": 33,
   "id": "e3a33957",
   "metadata": {
    "scrolled": true
   },
   "outputs": [
    {
     "data": {
      "text/plain": [
       "array(['6', '4', '5', '9', '8', '3', '1', '10', '58', '44', '2', '7',\n",
       "       '382', '135', '1396', '12', '11', '15', '18', '49', '114', '87',\n",
       "       '0', '90', '25', '88', '327', '95', '22', '91', '211', '46', '536',\n",
       "       '198', '14', '113', '299', '32', '107', '116', '147', '13', '65',\n",
       "       '36', '19', '251', '51', '26', '21', '901', '324', '349', '115',\n",
       "       '592', '216', '20', '265', '31', '16', '24', '285', '245', '460',\n",
       "       '45', '379', '106', '178', '86', '60', '310', '418', '27', '29',\n",
       "       '205', '145', '472', '427', '42', '306', '899', '292', '220',\n",
       "       '267', '222', '834', '101', '43', '164', '475', '206', '805', '85',\n",
       "       '38', '838', '719', '832', '362', '30', '281', '53', '208', '527',\n",
       "       '187', '799', '573', '57', '136', '80', '474', '508', '707', '659',\n",
       "       '394', '300', '252', '407', '40', '383', '117', '632', '83', '77',\n",
       "       '679', '200', '693', '662', '503', '356', '17', '188', '336',\n",
       "       '541', '92', '456', '66', '155', '132', '584', '143', '74', '121',\n",
       "       '352', '554', '81', '227', '167', '645', '571', '307', '467',\n",
       "       '326', '260', '628', '37', '140', '622', '94', '62', '215', '607',\n",
       "       '347', '23', '105', '56', '163', '610', '404', '39', '73', '75',\n",
       "       '248', '34', '408', '282', '70', '100', '283', '212', '173', '378',\n",
       "       '561', '581', '84', '68', '201', '33', '579', '493', '151', '582',\n",
       "       '259', '102', '577', '274', '567', '396', '269', '562', '517',\n",
       "       '28', '502', '559', '191', '47', '59', '403', '547', '542', '141',\n",
       "       '519', '272', '529', '144', '526', '520', '521', '337', '497',\n",
       "       '509', '256', '262', '110', '426', '82', '50', '289', '98', '196',\n",
       "       '499', '428', '236', '130', '313', '491', '103', '63', '468',\n",
       "       '484', '193', '41', '481', '168', '96', '370', '463', '319', '109',\n",
       "       '194', '429', '458', '459', '288', '445', '452', '448', '441',\n",
       "       '402', '247', '67', '421', '425', '286', '128', '446', '325',\n",
       "       '377', '61', '417', '596', '406', '175', '226', '400', '392',\n",
       "       '387', '35', '366', '386', '345', '276', '380', '213', '317',\n",
       "       '376', '371', '372', '368', '365', '364', '361', '353', '203',\n",
       "       '359', '339', '131', '279', '355', '354', '334', '186', '348',\n",
       "       '268', '241', '290', '333', '52', '64', '122', '224', '209', '161',\n",
       "       '271', '311', '76', '207', '305', '294', '79', '202', '146', '249',\n",
       "       '303', '112', '302', '296', '237', '291', '264', '223', '152',\n",
       "       '280', '189', '275', '228', '270', '263', '55', '261', '133',\n",
       "       '258', '183', '231', '255', '72', '253', '137', '184', '111', '69',\n",
       "       '225', '232', '157', '174', '243', '239', '142', '233', '139',\n",
       "       '221', '218', '120', '182', '54', '99', '170', '197', '192',\n",
       "       'Never login', '181', '169', '89', '159', '158', '154', '48',\n",
       "       '153', '125', '123', '148', '104', '129', '127', '124', '118',\n",
       "       '108', '78', '93', '71', '955', '929', '431', '119', '470', '576',\n",
       "       '532', '771', '637', '166', '469', '569', '375', '618', '613',\n",
       "       '465', '603', '575', '609', '321', '190', '548', '323', '479',\n",
       "       '477', '312', '442', '438', '316', '430', '397', '398', '298',\n",
       "       '648', '360', '340', '342', '217', '254', '314', '240', '246',\n",
       "       '176', '172', '97', '374', '284', '235', '566', '483', '595',\n",
       "       '510', '528', '335', '511', '506', '126', '308', '390', '341',\n",
       "       '346', '293', '330', '185', '138', '369', '476', '250', '466',\n",
       "       '195', '234', '447', '695', '490', '551', '453', '162', '678',\n",
       "       '219', '642', '558', '614', '214', '604', '524', '589', '495',\n",
       "       '389', '422', '487', '478', '320', '473', '464', '395', '451',\n",
       "       '343', '436', '363', '230', '149', '385', '367', '357', '350',\n",
       "       '329', '328', '150', '179', '177', '171', '18096', '301', '439',\n",
       "       '774', '643', '199', '757', '704', '669', '266', '513', '492',\n",
       "       '488', '318', '415', '391', '601', '297', '760', '393', '773',\n",
       "       '238', '457', '859', '384', '533', '507', '413', '416', '437',\n",
       "       '435', '165', '273', '399', '244', '331', '381', '242', '534',\n",
       "       '847', '915', '388', '814', '694', '690', '647', '657', '681',\n",
       "       '160', '587', '563', '624', '612', '544', '412', '134', '570',\n",
       "       '552', '518', '338', '501', '498', '482', '480', '440', '433',\n",
       "       '315', '277', '180', '210', '373', '358', '309', '278', '156',\n",
       "       '987', '351', '705', '677', '675', '545', '666', '409', '663',\n",
       "       '655', '620', '619', '546', '585', '540', '553', '539', '204',\n",
       "       '515', '514', '505', '489', '485', '462', '432', '287', '295',\n",
       "       '810', '698', '861', '322', '687', '635', '617', '578', '537',\n",
       "       '538', '512', '450', '419', '692', '818', '401', '804', '933',\n",
       "       '702', '816', '424', '858', '616', '572', '800', '798', '257',\n",
       "       '731', '713', '696', '684', '658', '755', '615', '525', '594',\n",
       "       '574', '410', '434', '423', '344', '229', '18102', '1291', '1354',\n",
       "       '605', '813', '867', '826', '708', '729', '671', '332', '608',\n",
       "       '543', '461', '405', '18103', '961', '905', '701', '975', '560',\n",
       "       '688', '494', '626', '600', '496', '411', '18105', '611', '1135',\n",
       "       '738', '557', '770', '550', '672', '667', '644', '633', '580',\n",
       "       '591', '556', '304', '833', '631', '1001', '960', '912', '752',\n",
       "       '767', '629', '722', '700', '665', '606', '443', '564', '685',\n",
       "       '420', '455', '18107', '875', '486', '715', '454', '414', '565',\n",
       "       '661', '792', '736', '720', '747', '718', '625', '449', '668',\n",
       "       '623', '535', '1150', '907', '523', '1305', '1140', '1119', '951',\n",
       "       '697', '821', '892', '881', '920', '910', '727', '888', '598',\n",
       "       '586', '627', '664', '651', '593', '630', '568', '549', '471',\n",
       "       '1332', '937', '1392', '1357', '776', '883', '765', '706', '500',\n",
       "       '599', '555', '504', '18114', '822', '682', '602', '634', '742',\n",
       "       '775', '887', '1049', '873', '904', '890', '896', '703', '812',\n",
       "       '744', '699', '709', '717', '621', '18116', '1011', '930', '924',\n",
       "       '733', '735', '714', '1013', '636', '1113', '1052', '1037', '444',\n",
       "       '710', '786', '639', '689', '1028', '1148', '516', '894', '854',\n",
       "       '753', '18122', '877', '1100', '1445', '976', '716', '884', '866',\n",
       "       '845', '743', '724', '725', '646', '652', '640', '597', '18124',\n",
       "       '902', '531', '870', '801', '650', '754', '1097', '730', '530',\n",
       "       '1231', '950', '656', '793', '781', '653', '673', '1152', '943',\n",
       "       '944', '921', '807', '660', '638', '641', '588', '783', '766',\n",
       "       '670', '927', '1051', '654', '18129', '923', '790', '852', '815',\n",
       "       '680', '649', '1002', '778', '779', '583', '18131', '522', '874',\n",
       "       '759', '18133', '18134', '828', '777', '723', '674', '1288', '898',\n",
       "       '871', '851', '1434', '1262', '876', '1091', '948', '839', '853',\n",
       "       '745', '1437', '1117', '817', '1251', '18140', '889', '1380',\n",
       "       '18141', '820', '734', '683', '1083'], dtype=object)"
      ]
     },
     "execution_count": 33,
     "metadata": {},
     "output_type": "execute_result"
    }
   ],
   "source": [
    "df.last_login_day.unique()"
   ]
  },
  {
   "cell_type": "code",
   "execution_count": 34,
   "id": "48826ae0",
   "metadata": {},
   "outputs": [],
   "source": [
    "df.last_login_day=df.last_login_day.replace(to_replace=\"Never login\",value=-20)"
   ]
  },
  {
   "cell_type": "code",
   "execution_count": 35,
   "id": "c0515de9",
   "metadata": {},
   "outputs": [
    {
     "data": {
      "text/plain": [
       "0          6\n",
       "1          4\n",
       "2          5\n",
       "3          9\n",
       "4          6\n",
       "        ... \n",
       "73534     36\n",
       "73535     10\n",
       "73536    -20\n",
       "73537     34\n",
       "73538      3\n",
       "Name: last_login_day, Length: 73539, dtype: object"
      ]
     },
     "execution_count": 35,
     "metadata": {},
     "output_type": "execute_result"
    }
   ],
   "source": [
    "df.last_login_day"
   ]
  },
  {
   "cell_type": "code",
   "execution_count": 36,
   "id": "755daa30",
   "metadata": {},
   "outputs": [],
   "source": [
    "df.last_login_day = df.last_login_day.apply(int)"
   ]
  },
  {
   "cell_type": "code",
   "execution_count": 37,
   "id": "aedaaafa",
   "metadata": {},
   "outputs": [
    {
     "data": {
      "text/plain": [
       "count    73539.000000\n",
       "mean        53.057466\n",
       "std        344.597989\n",
       "min        -20.000000\n",
       "25%          3.000000\n",
       "50%          8.000000\n",
       "75%         26.000000\n",
       "max      18141.000000\n",
       "Name: last_login_day, dtype: float64"
      ]
     },
     "execution_count": 37,
     "metadata": {},
     "output_type": "execute_result"
    }
   ],
   "source": [
    "df.last_login_day.describe()"
   ]
  },
  {
   "cell_type": "markdown",
   "id": "96c4d2eb",
   "metadata": {},
   "source": [
    "This skewed even more than the open e-mail day,\\\n",
    "and we also winsorize the data over 365 days to be 365."
   ]
  },
  {
   "cell_type": "code",
   "execution_count": 38,
   "id": "b961961c",
   "metadata": {},
   "outputs": [
    {
     "name": "stderr",
     "output_type": "stream",
     "text": [
      "C:\\Users\\2022080101\\AppData\\Local\\Temp\\ipykernel_8148\\2895780134.py:1: SettingWithCopyWarning: \n",
      "A value is trying to be set on a copy of a slice from a DataFrame\n",
      "\n",
      "See the caveats in the documentation: https://pandas.pydata.org/pandas-docs/stable/user_guide/indexing.html#returning-a-view-versus-a-copy\n",
      "  df.last_login_day[:] = df.last_login_day.apply(lambda x: x if x<365 else 365)\n"
     ]
    }
   ],
   "source": [
    "df.last_login_day[:] = df.last_login_day.apply(lambda x: x if x<365 else 365)"
   ]
  },
  {
   "cell_type": "code",
   "execution_count": 39,
   "id": "1217ac24",
   "metadata": {},
   "outputs": [
    {
     "data": {
      "text/plain": [
       "count    73539.000000\n",
       "mean        42.062443\n",
       "std         85.123930\n",
       "min        -20.000000\n",
       "25%          3.000000\n",
       "50%          8.000000\n",
       "75%         26.000000\n",
       "max        365.000000\n",
       "Name: last_login_day, dtype: float64"
      ]
     },
     "execution_count": 39,
     "metadata": {},
     "output_type": "execute_result"
    }
   ],
   "source": [
    "df.last_login_day.describe()"
   ]
  },
  {
   "cell_type": "code",
   "execution_count": 40,
   "id": "2f070881",
   "metadata": {},
   "outputs": [],
   "source": [
    "last_login_length = df.last_login_day.apply(lambda x: round(int((x + 9) / 10) * 10))"
   ]
  },
  {
   "cell_type": "code",
   "execution_count": 41,
   "id": "8aa24d8c",
   "metadata": {},
   "outputs": [],
   "source": [
    "last_login_length = last_login_length.value_counts().sort_index()"
   ]
  },
  {
   "cell_type": "code",
   "execution_count": 42,
   "id": "4f10e050",
   "metadata": {},
   "outputs": [
    {
     "data": {
      "image/png": "[encoded data removed]",
      "text/plain": [
       "<Figure size 432x288 with 1 Axes>"
      ]
     },
     "metadata": {
      "needs_background": "light"
     },
     "output_type": "display_data"
    }
   ],
   "source": [
    "fig, ax = plt.subplots()\n",
    "ax.bar(last_login_length.index, last_login_length.values)\n",
    "ax.set_xlabel('Length in 10')\n",
    "ax.set_ylabel('Counts')\n",
    "ax.set_title('Last Login Days Counts in 10')\n",
    "\n",
    "plt.show()"
   ]
  },
  {
   "cell_type": "markdown",
   "id": "9a5240d6",
   "metadata": {},
   "source": [
    "Also, we take a closer look at the shorter login days."
   ]
  },
  {
   "cell_type": "code",
   "execution_count": 43,
   "id": "ec0defd9",
   "metadata": {},
   "outputs": [
    {
     "data": {
      "image/png": "[encoded data removed]",
      "text/plain": [
       "<Figure size 432x288 with 1 Axes>"
      ]
     },
     "metadata": {
      "needs_background": "light"
     },
     "output_type": "display_data"
    }
   ],
   "source": [
    "fig, ax = plt.subplots()\n",
    "ax.bar(last_login_length.index[:10], last_login_length.values[:10])\n",
    "ax.set_xlabel('Length in 10')\n",
    "ax.set_ylabel('Counts')\n",
    "ax.set_title('Last Login Days Counts in 10')\n",
    "\n",
    "plt.show()"
   ]
  },
  {
   "cell_type": "markdown",
   "id": "46ab56c4",
   "metadata": {},
   "source": [
    "Similar in the case of open e-mail days, over 50% users login at least 1 time in a month."
   ]
  },
  {
   "cell_type": "code",
   "execution_count": null,
   "id": "d4a9f2c0",
   "metadata": {},
   "outputs": [],
   "source": []
  },
  {
   "cell_type": "code",
   "execution_count": 44,
   "id": "0e69beae",
   "metadata": {
    "scrolled": true
   },
   "outputs": [
    {
     "data": {
      "text/plain": [
       "array(['18', '8', '5', '53', '221', '70', '3', '28', '26', '12', '156',\n",
       "       '2', '7', '86', '57', '23', '9', '6', '49', '16', '468', '1',\n",
       "       'Never checkout', '139', '128', '40', '22', '13', '4', '21', '60',\n",
       "       '15', '420', '54', '50', '123', '855', '17', '95', '29', '25',\n",
       "       '10', '172', '499', '11', '190', '111', '214', '186', '58', '319',\n",
       "       '76', '1244', '20', '175', '14', '63', '38', '1122', '75', '83',\n",
       "       '64', '1167', '48', '34', '290', '433', '168', '101', '35', '148',\n",
       "       '39', '84', '69', '30', '32', '37', '205', '166', '143', '230',\n",
       "       '19', '1118', '124', '224', '622', '676', '939', '246', '78', '46',\n",
       "       '118', '61', '62', '1024', '79', '326', '415', '36', '659', '112',\n",
       "       '107', '47', '272', '434', '31', '41', '142', '243', '27', '283',\n",
       "       '45', '413', '105', '151', '316', '379', '202', '43', '451', '33',\n",
       "       '68', '533', '232', '87', '91', '147', '572', '917', '144', '104',\n",
       "       '59', '403', '67', '187', '306', '700', '184', '106', '66', '551',\n",
       "       '456', '358', '55', '235', '452', '85', '719', '442', '51', '110',\n",
       "       '355', '73', '310', '215', '527', '328', '302', '194', '259',\n",
       "       '237', '597', '493', '71', '137', '188', '479', '743', '727',\n",
       "       '746', '425', '311', '81', '474', '470', '158', '129', '627',\n",
       "       '119', '343', '614', '219', '125', '650', '133', '303', '120',\n",
       "       '692', '108', '24', '431', '94', '271', '321', '356', '341', '122',\n",
       "       '675', '600', '204', '308', '667', '274', '162', '222', '42',\n",
       "       '161', '654', '655', '440', '100', '97', '647', '211', '225',\n",
       "       '645', '478', '173', '65', '349', '387', '134', '89', '216', '80',\n",
       "       '609', '409', '611', '406', '333', '249', '570', '56', '77', '594',\n",
       "       '581', '185', '229', '213', '247', '584', '167', '126', '279',\n",
       "       '195', '574', '535', '523', '217', '548', '502', '155', '505',\n",
       "       '322', '278', '394', '529', '115', '534', '169', '109', '152',\n",
       "       '344', '514', '269', '189', '176', '150', '200', '501', '500',\n",
       "       '404', '96', '481', '174', '471', '93', '407', '132', '288', '154',\n",
       "       '312', '462', '131', '459', '291', '383', '146', '449', '121',\n",
       "       '336', '416', '233', '72', '427', '242', '350', '275', '418',\n",
       "       '294', '257', '159', '99', '90', '410', '183', '258', '389', '385',\n",
       "       '74', '374', '378', '372', '331', '364', '365', '113', '197',\n",
       "       '261', '354', '212', '52', '345', '264', '330', '231', '324',\n",
       "       '299', '182', '320', '191', '250', '218', '177', '309', '268',\n",
       "       '255', '289', '277', '116', '227', '263', '209', '203', '164',\n",
       "       '180', '245', '160', '82', '223', '192', '102', '206', '44', '127',\n",
       "       '140', '98', '103', '566', '1260', '1132', '347', '1274', '426',\n",
       "       '170', '635', '582', '802', '863', '948', '210', '1000', '136',\n",
       "       '236', '267', '138', '117', '305', '88', '179', '586', '705',\n",
       "       '130', '681', '135', '270', '473', '145', '642', '342', '178',\n",
       "       '618', '377', '605', '487', '114', '244', '329', '547', '92',\n",
       "       '359', '503', '357', '332', '256', '297', '199', '398', '397',\n",
       "       '395', '390', '360', '393', '157', '171', '325', '318', '234',\n",
       "       '284', '207', '286', '262', '248', '1169', '254', '516', '1026',\n",
       "       '994', '504', '817', '811', '141', '749', '208', '686', '165',\n",
       "       '578', '688', '239', '610', '517', '496', '421', '464', '386',\n",
       "       '461', '399', '380', '414', '352', '400', '362', '196', '300',\n",
       "       '273', '193', '201', '149', '1039', '1162', '435', '730', '466',\n",
       "       '228', '644', '388', '737', '831', '453', '733', '491', '327',\n",
       "       '335', '602', '731', '710', '543', '696', '658', '666', '641',\n",
       "       '488', '313', '429', '454', '573', '486', '576', '281', '437',\n",
       "       '315', '198', '241', '484', '408', '373', '367', '363', '460',\n",
       "       '467', '220', '375', '436', '240', '282', '339', '396', '266',\n",
       "       '317', '340', '337', '285', '226', '531', '251', '369', '980',\n",
       "       '885', '643', '401', '422', '706', '580', '678', '638', '603',\n",
       "       '616', '443', '608', '558', '560', '508', '368', '238', '298',\n",
       "       '850', '323', '412', '893', '252', '265', '334', '392', '153',\n",
       "       '348', '465', '536', '482', '382', '253', '402', '346', '260',\n",
       "       '1138', '163', '595', '869', '625', '623', '803', '448', '301',\n",
       "       '485', '490', '361', '636', '556', '565', '511', '540', '515',\n",
       "       '509', '445', '480', '457', '314', '438', '432', '381', '366',\n",
       "       '338', '537', '510', '181', '742', '351', '430', '424', '801',\n",
       "       '691', '411', '599', '455', '717', '649', '469', '307', '683',\n",
       "       '439', '672', '670', '663', '657', '526', '624', '613', '596',\n",
       "       '604', '592', '296', '384', '295', '541', '506', '371', '475',\n",
       "       '441', '376', '293', '287', '865', '756', '698', '631', '1047',\n",
       "       '782', '653', '498', '549', '538', '292', '542', '1124', '835',\n",
       "       '775', '878', '701', '931', '552', '930', '883', '419', '569',\n",
       "       '769', '697', '507', '450', '621', '598', '575', '545', '353',\n",
       "       '513', '446', '497', '998', '477', '819', '652', '805', '601',\n",
       "       '304', '519', '921', '571', '391', '405', '1158', '738', '521',\n",
       "       '927', '777', '577', '612', '755', '495', '646', '664', '626',\n",
       "       '530', '588', '423', '550', '567', '444', '476', '370', '280',\n",
       "       '1209', '703', '984', '1070', '587', '684', '754', '815', '753',\n",
       "       '593', '606', '554', '585', '532', '539', '483', '463', '615',\n",
       "       '1392', '276', '986', '1130', '792', '1003', '800', '771', '637',\n",
       "       '953', '690', '966', '806', '779', '773', '568', '709', '656',\n",
       "       '557', '687', '544', '1281', '1252', '1046', '757', '564', '807',\n",
       "       '739', '634', '447', '472', '752', '794', '721', '562', '489',\n",
       "       '1147', '1096', '778', '693', '763', '1016', '791', '589', '797',\n",
       "       '783', '492', '559', '894', '910', '1140', '1100', '916', '639',\n",
       "       '525', '990', '864', '673', '857', '845', '920', '766', '740',\n",
       "       '843', '780', '824', '784', '776', '633', '722', '725', '630',\n",
       "       '512', '1179', '1393', '1193', '1082', '923', '890', '736', '553',\n",
       "       '528', '760', '715', '617', '590', '1103', '723', '804', '702',\n",
       "       '583', '494', '1445', '1430', '1127', '1128', '1037', '1107',\n",
       "       '874', '591', '876', '987', '892', '888', '854', '868', '834',\n",
       "       '851', '751', '786', '720', '711', '674', '620', '661', '640',\n",
       "       '563', '561', '915', '1063', '761', '718', '1336', '1230', '1079',\n",
       "       '1105', '983', '787', '853', '750', '765', '648', '1199', '682',\n",
       "       '1066', '607', '555', '1206', '820', '522', '417', '518', '1203',\n",
       "       '669', '1033', '781', '989', '825', '619', '785', '741', '651',\n",
       "       '821', '428', '708', '660', '677', '1391', '1040', '891', '861',\n",
       "       '668', '629', '632', '1420', '908', '1168', '832', '679', '943',\n",
       "       '1153', '944', '1030', '1056', '974', '685', '1159', '1337', '716',\n",
       "       '704', '1114', '1275', '1324', '1270', '1110', '947', '524',\n",
       "       '1042', '1304', '1049', '1116', '897', '867', '818', '712', '1076',\n",
       "       '458', '988', '965', '822', '699', '1186', '799', '520', '1010',\n",
       "       '848', '907', '814', '1210', '764', '887', '837', '836', '1377',\n",
       "       '714', '732', '546', '1028', '1091', '1350', '1313', '1301',\n",
       "       '1072', '724', '1022', '942', '852', '905', '758', '1085', '901',\n",
       "       '1012', '996', '982', '1380', '1201', '1283', '1027', '748',\n",
       "       '1417', '1087'], dtype=object)"
      ]
     },
     "execution_count": 44,
     "metadata": {},
     "output_type": "execute_result"
    }
   ],
   "source": [
    "df.last_checkout_day.unique()"
   ]
  },
  {
   "cell_type": "code",
   "execution_count": 45,
   "id": "10694cc8",
   "metadata": {
    "scrolled": true
   },
   "outputs": [
    {
     "name": "stderr",
     "output_type": "stream",
     "text": [
      "C:\\Users\\2022080101\\AppData\\Local\\Temp\\ipykernel_8148\\3075868874.py:3: SettingWithCopyWarning: \n",
      "A value is trying to be set on a copy of a slice from a DataFrame\n",
      "\n",
      "See the caveats in the documentation: https://pandas.pydata.org/pandas-docs/stable/user_guide/indexing.html#returning-a-view-versus-a-copy\n",
      "  df.last_checkout_day[:] = df.last_checkout_day.apply(lambda x: x if x<365 else 365)\n"
     ]
    },
    {
     "data": {
      "image/png": "[encoded data removed]",
      "text/plain": [
       "<Figure size 432x288 with 1 Axes>"
      ]
     },
     "metadata": {
      "needs_background": "light"
     },
     "output_type": "display_data"
    }
   ],
   "source": [
    "df.last_checkout_day=df.last_checkout_day.replace(to_replace=\"Never checkout\",value=-20)\n",
    "df.last_checkout_day = df.last_checkout_day.apply(int)\n",
    "df.last_checkout_day[:] = df.last_checkout_day.apply(lambda x: x if x<365 else 365)\n",
    "last_checkout_length = df.last_checkout_day.apply(lambda x: round(int((x + 9) / 10) * 10))\n",
    "last_checkout_length = last_checkout_length.value_counts().sort_index()\n",
    "fig, ax = plt.subplots()\n",
    "ax.bar(last_checkout_length.index, last_checkout_length.values)\n",
    "ax.set_xlabel('Length in 10')\n",
    "ax.set_ylabel('Counts')\n",
    "ax.set_title('Last Checkout Days Counts in 10')\n",
    "\n",
    "plt.show()"
   ]
  },
  {
   "cell_type": "code",
   "execution_count": 46,
   "id": "7bbff832",
   "metadata": {},
   "outputs": [
    {
     "data": {
      "text/plain": [
       "Int64Index([-10, 10, 20, 30, 40, 50, 60, 70, 80, 90], dtype='int64')"
      ]
     },
     "execution_count": 46,
     "metadata": {},
     "output_type": "execute_result"
    }
   ],
   "source": [
    "last_checkout_length.index[:10]"
   ]
  },
  {
   "cell_type": "code",
   "execution_count": 47,
   "id": "61d6e6f6",
   "metadata": {},
   "outputs": [
    {
     "data": {
      "image/png": "[encoded data removed]",
      "text/plain": [
       "<Figure size 432x288 with 1 Axes>"
      ]
     },
     "metadata": {
      "needs_background": "light"
     },
     "output_type": "display_data"
    }
   ],
   "source": [
    "fig, ax = plt.subplots()\n",
    "ax.bar(last_checkout_length.index[:10], last_checkout_length.values[:10])\n",
    "ax.set_xlabel('Length in 10')\n",
    "ax.set_ylabel('Counts')\n",
    "ax.set_title('Last Checkout Days Counts in 10')\n",
    "\n",
    "plt.show()"
   ]
  },
  {
   "cell_type": "code",
   "execution_count": 48,
   "id": "cc70ae83",
   "metadata": {},
   "outputs": [
    {
     "data": {
      "image/png": "[encoded data removed]",
      "text/plain": [
       "<Figure size 432x288 with 1 Axes>"
      ]
     },
     "metadata": {},
     "output_type": "display_data"
    }
   ],
   "source": [
    "plt.pie(x = (last_checkout_length.values/sum(last_checkout_length.values))[0:4]\n",
    "        ,labels = last_checkout_length.index[0:4]\n",
    "        ,autopct='%1.1f%%'); "
   ]
  },
  {
   "cell_type": "markdown",
   "id": "365efc79",
   "metadata": {},
   "source": [
    "There are over 30% of users that never buy anything, and other 65% users buy at least 1 time in a month."
   ]
  },
  {
   "cell_type": "code",
   "execution_count": null,
   "id": "20eba999",
   "metadata": {},
   "outputs": [],
   "source": []
  },
  {
   "cell_type": "code",
   "execution_count": 49,
   "id": "ead9b2e5",
   "metadata": {},
   "outputs": [],
   "source": [
    "open_last_10_d = df.open_count_last_10_days.value_counts() "
   ]
  },
  {
   "cell_type": "code",
   "execution_count": 50,
   "id": "c67cd44a",
   "metadata": {},
   "outputs": [
    {
     "data": {
      "image/png": "[encoded data removed]",
      "text/plain": [
       "<Figure size 432x288 with 1 Axes>"
      ]
     },
     "metadata": {},
     "output_type": "display_data"
    }
   ],
   "source": [
    "plt.pie(x = open_last_10_d.values\n",
    "        ,labels = open_last_10_d.index\n",
    "        ,autopct='%1.1f%%');"
   ]
  },
  {
   "cell_type": "markdown",
   "id": "85b57501",
   "metadata": {},
   "source": [
    "There are over 60% of users that does not open e-mail in last 10 days.\\\n",
    "Recall that there are about 30% of users that open at least 1 e-mail in last 10 days.\\\n",
    "Therefore, this two ratios are not disparate."
   ]
  },
  {
   "cell_type": "code",
   "execution_count": 51,
   "id": "bdcf4fa0",
   "metadata": {},
   "outputs": [
    {
     "data": {
      "image/png": "[encoded data removed]",
      "text/plain": [
       "<Figure size 432x288 with 1 Axes>"
      ]
     },
     "metadata": {
      "needs_background": "light"
     },
     "output_type": "display_data"
    }
   ],
   "source": [
    "fig, ax = plt.subplots()\n",
    "ax.bar(open_last_10_d.index, open_last_10_d.values)\n",
    "ax.set_xlabel('Number of Open')\n",
    "ax.set_ylabel('Number of users')\n",
    "ax.set_title('Open E-mails in Last 10 Days')\n",
    "\n",
    "plt.show()"
   ]
  },
  {
   "cell_type": "code",
   "execution_count": 52,
   "id": "e9956e5d",
   "metadata": {
    "scrolled": true
   },
   "outputs": [
    {
     "data": {
      "image/png": "[encoded data removed]",
      "text/plain": [
       "<Figure size 432x288 with 1 Axes>"
      ]
     },
     "metadata": {
      "needs_background": "light"
     },
     "output_type": "display_data"
    }
   ],
   "source": [
    "open_last_30_d = df.open_count_last_30_days.value_counts().sort_index()\n",
    "fig, ax = plt.subplots()\n",
    "ax.bar(open_last_30_d.index, open_last_30_d.values)\n",
    "ax.set_xlabel('Number of Open')\n",
    "ax.set_ylabel('Number of users')\n",
    "ax.set_title('Open E-mails in Last 30 Days')\n",
    "\n",
    "plt.show()"
   ]
  },
  {
   "cell_type": "code",
   "execution_count": 53,
   "id": "acbc953f",
   "metadata": {},
   "outputs": [
    {
     "data": {
      "image/png": "[encoded data removed]",
      "text/plain": [
       "<Figure size 432x288 with 1 Axes>"
      ]
     },
     "metadata": {
      "needs_background": "light"
     },
     "output_type": "display_data"
    }
   ],
   "source": [
    "fig, ax = plt.subplots()\n",
    "ax.bar(open_last_30_d.index[0:5], open_last_30_d.values[0:5])\n",
    "ax.set_xlabel('Number of Open')\n",
    "ax.set_ylabel('Number of users')\n",
    "ax.set_title('Open E-mails in Last 30 Days')\n",
    "\n",
    "plt.show()"
   ]
  },
  {
   "cell_type": "code",
   "execution_count": 54,
   "id": "e598d641",
   "metadata": {},
   "outputs": [
    {
     "data": {
      "image/png": "[encoded data removed]",
      "text/plain": [
       "<Figure size 432x288 with 1 Axes>"
      ]
     },
     "metadata": {},
     "output_type": "display_data"
    }
   ],
   "source": [
    "plt.pie(x = open_last_30_d.values\n",
    "        ,labels = open_last_30_d.index\n",
    "        ,autopct='%1.1f%%');"
   ]
  },
  {
   "cell_type": "code",
   "execution_count": 55,
   "id": "283ae652",
   "metadata": {},
   "outputs": [
    {
     "data": {
      "image/png": "[encoded data removed]",
      "text/plain": [
       "<Figure size 432x288 with 1 Axes>"
      ]
     },
     "metadata": {
      "needs_background": "light"
     },
     "output_type": "display_data"
    }
   ],
   "source": [
    "open_last_60_d = df.open_count_last_60_days.value_counts().sort_index()\n",
    "fig, ax = plt.subplots()\n",
    "ax.bar(open_last_60_d.index[0:5], open_last_60_d.values[0:5])\n",
    "ax.set_xlabel('Number of Open')\n",
    "ax.set_ylabel('Number of users')\n",
    "ax.set_title('Open E-mails in Last 60 Days')\n",
    "\n",
    "plt.show()"
   ]
  },
  {
   "cell_type": "code",
   "execution_count": 56,
   "id": "d21ce928",
   "metadata": {},
   "outputs": [
    {
     "data": {
      "image/png": "[encoded data removed]",
      "text/plain": [
       "<Figure size 720x288 with 3 Axes>"
      ]
     },
     "metadata": {
      "needs_background": "light"
     },
     "output_type": "display_data"
    }
   ],
   "source": [
    "login_last_10_d = df.login_count_last_10_days.value_counts().sort_index()\n",
    "login_last_30_d = df.login_count_last_30_days.value_counts().sort_index() \n",
    "login_last_60_d = df.login_count_last_60_days.value_counts().sort_index() \n",
    "\n",
    "f, (ax1, ax2, ax3) = plt.subplots(1,3,figsize=(10, 4))\n",
    "ax1.bar(login_last_10_d.index[0:5], login_last_10_d.values[0:5])\n",
    "ax1.set_xlabel('Number of Login')\n",
    "ax1.set_ylabel('Number of users')\n",
    "ax1.set_title('Login Times in Last 10 Days')\n",
    "\n",
    "\n",
    "ax2.bar(login_last_30_d.index[0:10], login_last_30_d.values[0:10])\n",
    "ax2.set_xlabel('Number of Login')\n",
    "ax2.set_ylabel('Number of users')\n",
    "ax2.set_title('Login Times in Last 30 Days')\n",
    "\n",
    "\n",
    "ax3.bar(login_last_60_d.index[0:15], login_last_60_d.values[0:15])\n",
    "ax3.set_xlabel('Number of Login')\n",
    "ax3.set_ylabel('Number of users')\n",
    "ax3.set_title('Login Times in Last 60 Days')\n",
    "\n",
    "plt.tight_layout()\n",
    "plt.show()"
   ]
  },
  {
   "cell_type": "code",
   "execution_count": 57,
   "id": "e78d9092",
   "metadata": {},
   "outputs": [
    {
     "data": {
      "image/png": "[encoded data removed]",
      "text/plain": [
       "<Figure size 720x288 with 3 Axes>"
      ]
     },
     "metadata": {},
     "output_type": "display_data"
    }
   ],
   "source": [
    "f, (ax1, ax2, ax3) = plt.subplots(1,3,figsize=(10, 4))\n",
    "\n",
    "ax1.pie(x = login_last_10_d.values[0:5],\n",
    "        labels = login_last_10_d.index[0:5]\n",
    "       ,autopct='%1.1f%%')\n",
    "ax1.set_title('Login Times in Last 10 Days')\n",
    "\n",
    "\n",
    "ax2.pie(x = login_last_30_d.values[0:10],\n",
    "        labels = login_last_10_d.index[0:10]\n",
    "       ,autopct='%1.1f%%')\n",
    "ax2.set_title('Login Times in Last 30 Days')\n",
    "\n",
    "\n",
    "ax3.pie(x = login_last_60_d.values[0:10],\n",
    "        labels = login_last_60_d.index[0:10]\n",
    "       ,autopct='%1.1f%%')\n",
    "ax3.set_title('Login Times in Last 60 Days')\n",
    "\n",
    "plt.tight_layout()\n",
    "plt.show()"
   ]
  },
  {
   "cell_type": "code",
   "execution_count": 58,
   "id": "f53e524d",
   "metadata": {},
   "outputs": [
    {
     "data": {
      "image/png": "[encoded data removed]",
      "text/plain": [
       "<Figure size 864x288 with 3 Axes>"
      ]
     },
     "metadata": {
      "needs_background": "light"
     },
     "output_type": "display_data"
    }
   ],
   "source": [
    "checkout_last_10_d = df.checkout_count_last_10_days.value_counts().sort_index() \n",
    "checkout_last_30_d = df.checkout_count_last_30_days.value_counts().sort_index() \n",
    "checkout_last_60_d = df.checkout_count_last_60_days.value_counts().sort_index() \n",
    "\n",
    "f, (ax1, ax2, ax3) = plt.subplots(1,3,figsize=(12, 4))\n",
    "ax1.bar(checkout_last_10_d.index[0:5], checkout_last_10_d.values[0:5])\n",
    "ax1.set_xlabel('Number of Checkout')\n",
    "ax1.set_ylabel('Number of users')\n",
    "ax1.set_title('Checkout Times in Last 10 Days')\n",
    "\n",
    "\n",
    "ax2.bar(checkout_last_30_d.index[0:10], checkout_last_30_d.values[0:10])\n",
    "ax2.set_xlabel('Number of Checkout')\n",
    "ax2.set_ylabel('Number of users')\n",
    "ax2.set_title('Checkout Times in Last 30 Days')\n",
    "\n",
    "\n",
    "ax3.bar(checkout_last_60_d.index[0:15], checkout_last_60_d.values[0:15])\n",
    "ax3.set_xlabel('Number of Checkout')\n",
    "ax3.set_ylabel('Number of users')\n",
    "ax3.set_title('Checkout Times in Last 60 Days')\n",
    "\n",
    "plt.tight_layout()\n",
    "plt.show()"
   ]
  },
  {
   "cell_type": "code",
   "execution_count": 59,
   "id": "29bd9bf3",
   "metadata": {},
   "outputs": [
    {
     "data": {
      "image/png": "[encoded data removed]",
      "text/plain": [
       "<Figure size 720x288 with 3 Axes>"
      ]
     },
     "metadata": {},
     "output_type": "display_data"
    }
   ],
   "source": [
    "f, (ax1, ax2, ax3) = plt.subplots(1,3,figsize=(10, 4))\n",
    "\n",
    "ax1.pie(x = checkout_last_10_d.values[0:5],\n",
    "        labels = checkout_last_10_d.index[0:5]\n",
    "       ,autopct='%1.1f%%')\n",
    "ax1.set_title('Checkout Times in Last 10 Days')\n",
    "\n",
    "\n",
    "ax2.pie(x = checkout_last_30_d.values[0:10],\n",
    "        labels = checkout_last_10_d.index[0:10]\n",
    "       ,autopct='%1.1f%%')\n",
    "ax2.set_title('Checkout Times in Last 30 Days')\n",
    "\n",
    "\n",
    "ax3.pie(x = checkout_last_60_d.values[0:10],\n",
    "        labels = checkout_last_60_d.index[0:10]\n",
    "       ,autopct='%1.1f%%')\n",
    "ax3.set_title('Checkout Times in Last 60 Days')\n",
    "\n",
    "plt.tight_layout()\n",
    "plt.show()"
   ]
  },
  {
   "cell_type": "code",
   "execution_count": 60,
   "id": "c7f0766e",
   "metadata": {},
   "outputs": [
    {
     "data": {
      "text/plain": [
       "0    62083\n",
       "1    11456\n",
       "Name: open_flag, dtype: int64"
      ]
     },
     "execution_count": 60,
     "metadata": {},
     "output_type": "execute_result"
    }
   ],
   "source": [
    "df.open_flag.value_counts()"
   ]
  },
  {
   "cell_type": "markdown",
   "id": "90192832",
   "metadata": {},
   "source": [
    "# The above is the plot of all variables"
   ]
  },
  {
   "cell_type": "markdown",
   "id": "2b000e98",
   "metadata": {},
   "source": [
    "# Next, we conduct univariate analysis"
   ]
  },
  {
   "cell_type": "markdown",
   "id": "e287a38a",
   "metadata": {},
   "source": [
    "We separate the original train data into 2 groups based on open_flag."
   ]
  },
  {
   "cell_type": "code",
   "execution_count": 61,
   "id": "665bd5f1",
   "metadata": {},
   "outputs": [],
   "source": [
    "open_flag_0 = df[df.open_flag==0]"
   ]
  },
  {
   "cell_type": "code",
   "execution_count": 62,
   "id": "e0b1e470",
   "metadata": {},
   "outputs": [],
   "source": [
    "aaa = open_flag_0.apply(pd.to_numeric, errors='coerce')"
   ]
  },
  {
   "cell_type": "code",
   "execution_count": 63,
   "id": "6ba9b79b",
   "metadata": {
    "scrolled": true
   },
   "outputs": [
    {
     "data": {
      "text/plain": [
       "array([ 19,  14,  49, 227,   5,  13, 163,   7, 130,  27, -20,  28,  12,\n",
       "         9,  23,  70,  83,  26,  17, 182,  58,   2,  22,  20,  10,   8,\n",
       "         4,  82,  87,  41, 115, 207,  16,  29,  77,  48,  34, 263,   3,\n",
       "        25,  30,  21, 180,  91,  90,  47,  64,  61, 365,  78,  86,  32,\n",
       "        76,  75,  55,  38,  15,  39,  71, 169,  59, 224,  18,  85, 143,\n",
       "       208,  72, 140,  62,  60, 296, 164, 362, 125,  35, 168,  74,  73,\n",
       "       154, 210,  46,  36,  33,  53,  69,  37,  93, 221, 233, 347,  42,\n",
       "       116,  54, 148,  11, 340,  66,  96,  89, 361, 134,  79,  43, 107,\n",
       "       293, 268,  63, 216,  84, 138, 104,  98, 280, 249,  97, 103, 170,\n",
       "        57,  40, 301, 246, 267,  81, 297,  51, 306,  44, 230, 174, 108,\n",
       "       314,  67, 229, 298, 326, 106, 333,  45,  80,  31,  24, 211,  65,\n",
       "        52,  95, 315,  50, 100, 102, 158, 228, 256, 105,  56, 277, 191,\n",
       "       244, 137, 181, 203, 234, 295, 279,  88, 175, 288, 173, 290, 183,\n",
       "       294, 269, 223,  92, 285, 321, 123, 313, 199, 176, 155, 124, 275,\n",
       "       299, 165, 271, 112, 253, 160, 239, 272, 141, 139,  68, 189, 147,\n",
       "        94, 152, 109, 213,   1,   6, 185, 144, 327, 202, 336, 177, 119,\n",
       "       217, 142, 310, 197, 128, 132, 135, 198, 231, 248, 259, 316, 264,\n",
       "       114, 117, 129, 136, 126, 151, 289, 205, 201, 342, 235, 113, 287,\n",
       "       178, 156, 204, 262, 179, 162, 282, 127, 254, 252, 266, 145, 146,\n",
       "       200, 225, 118, 196, 187, 121, 101, 319, 338, 322, 251, 260, 241,\n",
       "       258, 214, 270, 273, 167, 131, 184, 192, 222, 304, 219, 305, 215,\n",
       "       153, 283, 302, 242, 150, 238, 274, 206, 193, 159, 186, 261, 286,\n",
       "       358, 303, 247, 325, 257, 307, 334, 291, 209, 329, 149, 195, 237,\n",
       "       284, 300, 265, 278, 212, 190, 188, 172, 122, 133, 240, 318, 349,\n",
       "       245, 345, 255, 335, 111, 220, 161, 276, 194, 308, 232, 250, 351,\n",
       "       110, 337, 309, 354, 166, 312, 236, 120, 355, 344,  99, 328, 226,\n",
       "       171, 330, 350, 157, 356, 243, 292, 352, 331, 332, 281, 359, 324,\n",
       "       346, 320, 341, 339, 360, 323, 311, 317, 218, 357], dtype=int64)"
      ]
     },
     "execution_count": 63,
     "metadata": {},
     "output_type": "execute_result"
    }
   ],
   "source": [
    "open_flag_0.last_open_day.unique()"
   ]
  },
  {
   "cell_type": "code",
   "execution_count": 64,
   "id": "fb3fb38d",
   "metadata": {},
   "outputs": [],
   "source": [
    "open_flag_1 = df[df.open_flag==1]"
   ]
  },
  {
   "cell_type": "code",
   "execution_count": 65,
   "id": "5203868c",
   "metadata": {
    "scrolled": true
   },
   "outputs": [
    {
     "data": {
      "text/plain": [
       "array([  9,   7,   4,  24,   2,   3,   5,   8,  10,  11,  56,  12,  36,\n",
       "        25,  27,  21,  28,  13,  22,  20,  55, 145,  14, 140,  26,  17,\n",
       "       148,  19,  31, 174,  18, -20, 226, 365,  15,  29,  54, 153,  60,\n",
       "        23,   1, 208,  30,   6,  64,  57,  46,  65,  86, 202, 149,  84,\n",
       "       184,  35,  45,  16,  33,  41,  52, 104,  37,  87,  78,  38,  49,\n",
       "       193,  42,  59,  77,  62, 160,  47, 139, 221, 286, 180, 155, 191,\n",
       "       246, 274,  85,  48,  34,  39,  44, 186,  75,  50,  70,  82,  67,\n",
       "        40,  80,  76,  91,  43,  32,  72, 156,  83, 157, 187, 222,  73,\n",
       "        53,  81,  69, 335, 123, 257, 134, 127, 126, 100,  90,  89, 109,\n",
       "       194, 107, 118, 103, 158, 131,  95, 106, 128, 119, 117,  79,  61,\n",
       "       114,  66, 125,  93,  97, 112, 116, 130,  94, 120, 144, 132,  71,\n",
       "       137, 113, 133,  68, 269, 212, 138, 333,  98, 164,  58, 129, 115,\n",
       "       213,  63, 214,  74, 168, 150, 136, 141, 121, 259, 305, 340, 278,\n",
       "        51, 152, 199, 282, 236, 185, 273, 223, 176, 343, 294, 192,  88,\n",
       "       151, 169, 147, 167, 255, 154, 162, 288, 122, 110,  96, 175, 170,\n",
       "       196], dtype=int64)"
      ]
     },
     "execution_count": 65,
     "metadata": {},
     "output_type": "execute_result"
    }
   ],
   "source": [
    "open_flag_1.last_open_day.unique()"
   ]
  },
  {
   "cell_type": "code",
   "execution_count": 66,
   "id": "dae65339",
   "metadata": {
    "scrolled": true
   },
   "outputs": [
    {
     "data": {
      "text/plain": [
       "country_code                       2.0\n",
       "user_id                        63482.0\n",
       "subject_line_length               43.0\n",
       "last_open_day                     15.0\n",
       "last_login_day                     8.0\n",
       "last_checkout_day                 12.0\n",
       "open_count_last_10_days            0.0\n",
       "open_count_last_30_days            1.0\n",
       "open_count_last_60_days            1.0\n",
       "login_count_last_10_days           3.0\n",
       "login_count_last_30_days          11.0\n",
       "login_count_last_60_days          22.0\n",
       "checkout_count_last_10_days        0.0\n",
       "checkout_count_last_30_days        0.0\n",
       "checkout_count_last_60_days        1.0\n",
       "open_flag                          0.0\n",
       "row_id                         37452.0\n",
       "dtype: float64"
      ]
     },
     "execution_count": 66,
     "metadata": {},
     "output_type": "execute_result"
    }
   ],
   "source": [
    "open_flag_0.median()"
   ]
  },
  {
   "cell_type": "code",
   "execution_count": 67,
   "id": "cc2a2ef1",
   "metadata": {},
   "outputs": [
    {
     "data": {
      "text/plain": [
       "country_code                       3.0\n",
       "user_id                        62532.0\n",
       "subject_line_length               40.0\n",
       "last_open_day                      3.0\n",
       "last_login_day                     7.0\n",
       "last_checkout_day                 12.0\n",
       "open_count_last_10_days            2.0\n",
       "open_count_last_30_days            7.0\n",
       "open_count_last_60_days           11.0\n",
       "login_count_last_10_days           4.0\n",
       "login_count_last_30_days          13.0\n",
       "login_count_last_60_days          25.0\n",
       "checkout_count_last_10_days        0.0\n",
       "checkout_count_last_30_days        0.0\n",
       "checkout_count_last_60_days        1.0\n",
       "open_flag                          1.0\n",
       "row_id                         32438.5\n",
       "dtype: float64"
      ]
     },
     "execution_count": 67,
     "metadata": {},
     "output_type": "execute_result"
    }
   ],
   "source": [
    "open_flag_1.median()"
   ]
  },
  {
   "cell_type": "code",
   "execution_count": 68,
   "id": "35d07847",
   "metadata": {},
   "outputs": [],
   "source": [
    "import scipy.stats as ss"
   ]
  },
  {
   "cell_type": "code",
   "execution_count": 69,
   "id": "e9b9371a",
   "metadata": {},
   "outputs": [],
   "source": [
    "variables = ['last_open_day',\n",
    "             'last_login_day',\n",
    "             'last_checkout_day',\n",
    "             'open_count_last_10_days',\n",
    "             'open_count_last_30_days',\n",
    "             'open_count_last_60_days',\n",
    "             'login_count_last_10_days',\n",
    "             'login_count_last_30_days',\n",
    "             'login_count_last_60_days',\n",
    "             'checkout_count_last_10_days',\n",
    "             'checkout_count_last_30_days',\n",
    "             'checkout_count_last_60_days']"
   ]
  },
  {
   "cell_type": "code",
   "execution_count": 70,
   "id": "690248d2",
   "metadata": {},
   "outputs": [],
   "source": [
    "bb=[]\n",
    "for i in variables:\n",
    "    data1=open_flag_0[i]\n",
    "    data2=open_flag_1[i]\n",
    "    cnt1=data1.count()\n",
    "    cnt2=data2.count()\n",
    "    median1=data1.median()\n",
    "    median2=data2.median()\n",
    "    stat, p= ss.ranksums(data1,data2)\n",
    "    bb.append([i,cnt1,cnt2,median1,median2,stat.round(3),p.round(5)])"
   ]
  },
  {
   "cell_type": "code",
   "execution_count": 71,
   "id": "6a76e053",
   "metadata": {},
   "outputs": [
    {
     "data": {
      "text/plain": [
       "[['last_open_day', 62083, 11456, 15.0, 3.0, 68.309, 0.0],\n",
       " ['last_login_day', 62083, 11456, 8.0, 7.0, 8.961, 0.0],\n",
       " ['last_checkout_day', 62083, 11456, 12.0, 12.0, -2.751, 0.00594],\n",
       " ['open_count_last_10_days', 62083, 11456, 0.0, 2.0, -106.803, 0.0],\n",
       " ['open_count_last_30_days', 62083, 11456, 1.0, 7.0, -109.599, 0.0],\n",
       " ['open_count_last_60_days', 62083, 11456, 1.0, 11.0, -105.416, 0.0],\n",
       " ['login_count_last_10_days', 62083, 11456, 3.0, 4.0, -8.309, 0.0],\n",
       " ['login_count_last_30_days', 62083, 11456, 11.0, 13.0, -5.851, 0.0],\n",
       " ['login_count_last_60_days', 62083, 11456, 22.0, 25.0, -5.139, 0.0],\n",
       " ['checkout_count_last_10_days', 62083, 11456, 0.0, 0.0, -3.667, 0.00024],\n",
       " ['checkout_count_last_30_days', 62083, 11456, 0.0, 0.0, -4.069, 5e-05],\n",
       " ['checkout_count_last_60_days', 62083, 11456, 1.0, 1.0, -4.16, 3e-05]]"
      ]
     },
     "execution_count": 71,
     "metadata": {},
     "output_type": "execute_result"
    }
   ],
   "source": [
    "bb"
   ]
  },
  {
   "cell_type": "code",
   "execution_count": 72,
   "id": "41321502",
   "metadata": {},
   "outputs": [],
   "source": [
    "result = pd.DataFrame(bb)"
   ]
  },
  {
   "cell_type": "code",
   "execution_count": 73,
   "id": "0ed86582",
   "metadata": {},
   "outputs": [],
   "source": [
    "result.columns=['衡量變數','沒開信使用者筆數','有開信使用者筆數','沒開信使用者中位數','有開信使用者中位數','ranksums統計值','p值']"
   ]
  },
  {
   "cell_type": "code",
   "execution_count": 74,
   "id": "95ae8405",
   "metadata": {},
   "outputs": [],
   "source": [
    "result['中位數差異']=result['沒開信使用者中位數'].sub(result['有開信使用者中位數'])"
   ]
  },
  {
   "cell_type": "code",
   "execution_count": 75,
   "id": "23f3834c",
   "metadata": {},
   "outputs": [
    {
     "data": {
      "text/html": [
       "<div>\n",
       "<style scoped>\n",
       "    .dataframe tbody tr th:only-of-type {\n",
       "        vertical-align: middle;\n",
       "    }\n",
       "\n",
       "    .dataframe tbody tr th {\n",
       "        vertical-align: top;\n",
       "    }\n",
       "\n",
       "    .dataframe thead th {\n",
       "        text-align: right;\n",
       "    }\n",
       "</style>\n",
       "<table border=\"1\" class=\"dataframe\">\n",
       "  <thead>\n",
       "    <tr style=\"text-align: right;\">\n",
       "      <th></th>\n",
       "      <th>衡量變數</th>\n",
       "      <th>沒開信使用者筆數</th>\n",
       "      <th>有開信使用者筆數</th>\n",
       "      <th>沒開信使用者中位數</th>\n",
       "      <th>有開信使用者中位數</th>\n",
       "      <th>ranksums統計值</th>\n",
       "      <th>p值</th>\n",
       "      <th>中位數差異</th>\n",
       "    </tr>\n",
       "  </thead>\n",
       "  <tbody>\n",
       "    <tr>\n",
       "      <th>0</th>\n",
       "      <td>last_open_day</td>\n",
       "      <td>62083</td>\n",
       "      <td>11456</td>\n",
       "      <td>15.0</td>\n",
       "      <td>3.0</td>\n",
       "      <td>68.309</td>\n",
       "      <td>0.00000</td>\n",
       "      <td>12.0</td>\n",
       "    </tr>\n",
       "    <tr>\n",
       "      <th>1</th>\n",
       "      <td>last_login_day</td>\n",
       "      <td>62083</td>\n",
       "      <td>11456</td>\n",
       "      <td>8.0</td>\n",
       "      <td>7.0</td>\n",
       "      <td>8.961</td>\n",
       "      <td>0.00000</td>\n",
       "      <td>1.0</td>\n",
       "    </tr>\n",
       "    <tr>\n",
       "      <th>2</th>\n",
       "      <td>last_checkout_day</td>\n",
       "      <td>62083</td>\n",
       "      <td>11456</td>\n",
       "      <td>12.0</td>\n",
       "      <td>12.0</td>\n",
       "      <td>-2.751</td>\n",
       "      <td>0.00594</td>\n",
       "      <td>0.0</td>\n",
       "    </tr>\n",
       "    <tr>\n",
       "      <th>3</th>\n",
       "      <td>open_count_last_10_days</td>\n",
       "      <td>62083</td>\n",
       "      <td>11456</td>\n",
       "      <td>0.0</td>\n",
       "      <td>2.0</td>\n",
       "      <td>-106.803</td>\n",
       "      <td>0.00000</td>\n",
       "      <td>-2.0</td>\n",
       "    </tr>\n",
       "    <tr>\n",
       "      <th>4</th>\n",
       "      <td>open_count_last_30_days</td>\n",
       "      <td>62083</td>\n",
       "      <td>11456</td>\n",
       "      <td>1.0</td>\n",
       "      <td>7.0</td>\n",
       "      <td>-109.599</td>\n",
       "      <td>0.00000</td>\n",
       "      <td>-6.0</td>\n",
       "    </tr>\n",
       "  </tbody>\n",
       "</table>\n",
       "</div>"
      ],
      "text/plain": [
       "                      衡量變數  沒開信使用者筆數  有開信使用者筆數  沒開信使用者中位數  有開信使用者中位數  \\\n",
       "0            last_open_day     62083     11456       15.0        3.0   \n",
       "1           last_login_day     62083     11456        8.0        7.0   \n",
       "2        last_checkout_day     62083     11456       12.0       12.0   \n",
       "3  open_count_last_10_days     62083     11456        0.0        2.0   \n",
       "4  open_count_last_30_days     62083     11456        1.0        7.0   \n",
       "\n",
       "   ranksums統計值       p值  中位數差異  \n",
       "0       68.309  0.00000   12.0  \n",
       "1        8.961  0.00000    1.0  \n",
       "2       -2.751  0.00594    0.0  \n",
       "3     -106.803  0.00000   -2.0  \n",
       "4     -109.599  0.00000   -6.0  "
      ]
     },
     "execution_count": 75,
     "metadata": {},
     "output_type": "execute_result"
    }
   ],
   "source": [
    "result.head(5)"
   ]
  },
  {
   "cell_type": "code",
   "execution_count": 76,
   "id": "c2e9687f",
   "metadata": {},
   "outputs": [],
   "source": [
    "result['統計值方向']=result['中位數差異'].apply(lambda x: '+' if x>=0 else '-')"
   ]
  },
  {
   "cell_type": "code",
   "execution_count": 77,
   "id": "9cdd252e",
   "metadata": {},
   "outputs": [
    {
     "data": {
      "text/html": [
       "<div>\n",
       "<style scoped>\n",
       "    .dataframe tbody tr th:only-of-type {\n",
       "        vertical-align: middle;\n",
       "    }\n",
       "\n",
       "    .dataframe tbody tr th {\n",
       "        vertical-align: top;\n",
       "    }\n",
       "\n",
       "    .dataframe thead th {\n",
       "        text-align: right;\n",
       "    }\n",
       "</style>\n",
       "<table border=\"1\" class=\"dataframe\">\n",
       "  <thead>\n",
       "    <tr style=\"text-align: right;\">\n",
       "      <th></th>\n",
       "      <th>衡量變數</th>\n",
       "      <th>沒開信使用者筆數</th>\n",
       "      <th>有開信使用者筆數</th>\n",
       "      <th>沒開信使用者中位數</th>\n",
       "      <th>有開信使用者中位數</th>\n",
       "      <th>ranksums統計值</th>\n",
       "      <th>p值</th>\n",
       "      <th>中位數差異</th>\n",
       "      <th>統計值方向</th>\n",
       "    </tr>\n",
       "  </thead>\n",
       "  <tbody>\n",
       "    <tr>\n",
       "      <th>0</th>\n",
       "      <td>last_open_day</td>\n",
       "      <td>62083</td>\n",
       "      <td>11456</td>\n",
       "      <td>15.0</td>\n",
       "      <td>3.0</td>\n",
       "      <td>68.309</td>\n",
       "      <td>0.00000</td>\n",
       "      <td>12.0</td>\n",
       "      <td>+</td>\n",
       "    </tr>\n",
       "    <tr>\n",
       "      <th>1</th>\n",
       "      <td>last_login_day</td>\n",
       "      <td>62083</td>\n",
       "      <td>11456</td>\n",
       "      <td>8.0</td>\n",
       "      <td>7.0</td>\n",
       "      <td>8.961</td>\n",
       "      <td>0.00000</td>\n",
       "      <td>1.0</td>\n",
       "      <td>+</td>\n",
       "    </tr>\n",
       "    <tr>\n",
       "      <th>2</th>\n",
       "      <td>last_checkout_day</td>\n",
       "      <td>62083</td>\n",
       "      <td>11456</td>\n",
       "      <td>12.0</td>\n",
       "      <td>12.0</td>\n",
       "      <td>-2.751</td>\n",
       "      <td>0.00594</td>\n",
       "      <td>0.0</td>\n",
       "      <td>+</td>\n",
       "    </tr>\n",
       "    <tr>\n",
       "      <th>3</th>\n",
       "      <td>open_count_last_10_days</td>\n",
       "      <td>62083</td>\n",
       "      <td>11456</td>\n",
       "      <td>0.0</td>\n",
       "      <td>2.0</td>\n",
       "      <td>-106.803</td>\n",
       "      <td>0.00000</td>\n",
       "      <td>-2.0</td>\n",
       "      <td>-</td>\n",
       "    </tr>\n",
       "    <tr>\n",
       "      <th>4</th>\n",
       "      <td>open_count_last_30_days</td>\n",
       "      <td>62083</td>\n",
       "      <td>11456</td>\n",
       "      <td>1.0</td>\n",
       "      <td>7.0</td>\n",
       "      <td>-109.599</td>\n",
       "      <td>0.00000</td>\n",
       "      <td>-6.0</td>\n",
       "      <td>-</td>\n",
       "    </tr>\n",
       "  </tbody>\n",
       "</table>\n",
       "</div>"
      ],
      "text/plain": [
       "                      衡量變數  沒開信使用者筆數  有開信使用者筆數  沒開信使用者中位數  有開信使用者中位數  \\\n",
       "0            last_open_day     62083     11456       15.0        3.0   \n",
       "1           last_login_day     62083     11456        8.0        7.0   \n",
       "2        last_checkout_day     62083     11456       12.0       12.0   \n",
       "3  open_count_last_10_days     62083     11456        0.0        2.0   \n",
       "4  open_count_last_30_days     62083     11456        1.0        7.0   \n",
       "\n",
       "   ranksums統計值       p值  中位數差異 統計值方向  \n",
       "0       68.309  0.00000   12.0     +  \n",
       "1        8.961  0.00000    1.0     +  \n",
       "2       -2.751  0.00594    0.0     +  \n",
       "3     -106.803  0.00000   -2.0     -  \n",
       "4     -109.599  0.00000   -6.0     -  "
      ]
     },
     "execution_count": 77,
     "metadata": {},
     "output_type": "execute_result"
    }
   ],
   "source": [
    "result.head(5)"
   ]
  },
  {
   "cell_type": "code",
   "execution_count": 78,
   "id": "91f06c75",
   "metadata": {},
   "outputs": [],
   "source": [
    "def f(x):\n",
    "    '''\n",
    "    作為顯著性程度之區分函數。\n",
    "    '''\n",
    "    if x <= 0.001:\n",
    "        return '***'\n",
    "    elif x <=0.005:\n",
    "        return '**'\n",
    "    elif x <=0.01:\n",
    "        return '*'\n",
    "    else:\n",
    "        return ''\n"
   ]
  },
  {
   "cell_type": "code",
   "execution_count": 79,
   "id": "a84fa2d9",
   "metadata": {},
   "outputs": [],
   "source": [
    "result['顯著性']=result['p值'].apply(lambda x:f(x))"
   ]
  },
  {
   "cell_type": "code",
   "execution_count": 80,
   "id": "97809939",
   "metadata": {},
   "outputs": [
    {
     "data": {
      "text/html": [
       "<div>\n",
       "<style scoped>\n",
       "    .dataframe tbody tr th:only-of-type {\n",
       "        vertical-align: middle;\n",
       "    }\n",
       "\n",
       "    .dataframe tbody tr th {\n",
       "        vertical-align: top;\n",
       "    }\n",
       "\n",
       "    .dataframe thead th {\n",
       "        text-align: right;\n",
       "    }\n",
       "</style>\n",
       "<table border=\"1\" class=\"dataframe\">\n",
       "  <thead>\n",
       "    <tr style=\"text-align: right;\">\n",
       "      <th></th>\n",
       "      <th>衡量變數</th>\n",
       "      <th>沒開信使用者筆數</th>\n",
       "      <th>有開信使用者筆數</th>\n",
       "      <th>沒開信使用者中位數</th>\n",
       "      <th>有開信使用者中位數</th>\n",
       "      <th>ranksums統計值</th>\n",
       "      <th>p值</th>\n",
       "      <th>中位數差異</th>\n",
       "      <th>統計值方向</th>\n",
       "      <th>顯著性</th>\n",
       "    </tr>\n",
       "  </thead>\n",
       "  <tbody>\n",
       "    <tr>\n",
       "      <th>0</th>\n",
       "      <td>last_open_day</td>\n",
       "      <td>62083</td>\n",
       "      <td>11456</td>\n",
       "      <td>15.0</td>\n",
       "      <td>3.0</td>\n",
       "      <td>68.309</td>\n",
       "      <td>0.00000</td>\n",
       "      <td>12.0</td>\n",
       "      <td>+</td>\n",
       "      <td>***</td>\n",
       "    </tr>\n",
       "    <tr>\n",
       "      <th>1</th>\n",
       "      <td>last_login_day</td>\n",
       "      <td>62083</td>\n",
       "      <td>11456</td>\n",
       "      <td>8.0</td>\n",
       "      <td>7.0</td>\n",
       "      <td>8.961</td>\n",
       "      <td>0.00000</td>\n",
       "      <td>1.0</td>\n",
       "      <td>+</td>\n",
       "      <td>***</td>\n",
       "    </tr>\n",
       "    <tr>\n",
       "      <th>2</th>\n",
       "      <td>last_checkout_day</td>\n",
       "      <td>62083</td>\n",
       "      <td>11456</td>\n",
       "      <td>12.0</td>\n",
       "      <td>12.0</td>\n",
       "      <td>-2.751</td>\n",
       "      <td>0.00594</td>\n",
       "      <td>0.0</td>\n",
       "      <td>+</td>\n",
       "      <td>*</td>\n",
       "    </tr>\n",
       "    <tr>\n",
       "      <th>3</th>\n",
       "      <td>open_count_last_10_days</td>\n",
       "      <td>62083</td>\n",
       "      <td>11456</td>\n",
       "      <td>0.0</td>\n",
       "      <td>2.0</td>\n",
       "      <td>-106.803</td>\n",
       "      <td>0.00000</td>\n",
       "      <td>-2.0</td>\n",
       "      <td>-</td>\n",
       "      <td>***</td>\n",
       "    </tr>\n",
       "    <tr>\n",
       "      <th>4</th>\n",
       "      <td>open_count_last_30_days</td>\n",
       "      <td>62083</td>\n",
       "      <td>11456</td>\n",
       "      <td>1.0</td>\n",
       "      <td>7.0</td>\n",
       "      <td>-109.599</td>\n",
       "      <td>0.00000</td>\n",
       "      <td>-6.0</td>\n",
       "      <td>-</td>\n",
       "      <td>***</td>\n",
       "    </tr>\n",
       "    <tr>\n",
       "      <th>5</th>\n",
       "      <td>open_count_last_60_days</td>\n",
       "      <td>62083</td>\n",
       "      <td>11456</td>\n",
       "      <td>1.0</td>\n",
       "      <td>11.0</td>\n",
       "      <td>-105.416</td>\n",
       "      <td>0.00000</td>\n",
       "      <td>-10.0</td>\n",
       "      <td>-</td>\n",
       "      <td>***</td>\n",
       "    </tr>\n",
       "    <tr>\n",
       "      <th>6</th>\n",
       "      <td>login_count_last_10_days</td>\n",
       "      <td>62083</td>\n",
       "      <td>11456</td>\n",
       "      <td>3.0</td>\n",
       "      <td>4.0</td>\n",
       "      <td>-8.309</td>\n",
       "      <td>0.00000</td>\n",
       "      <td>-1.0</td>\n",
       "      <td>-</td>\n",
       "      <td>***</td>\n",
       "    </tr>\n",
       "    <tr>\n",
       "      <th>7</th>\n",
       "      <td>login_count_last_30_days</td>\n",
       "      <td>62083</td>\n",
       "      <td>11456</td>\n",
       "      <td>11.0</td>\n",
       "      <td>13.0</td>\n",
       "      <td>-5.851</td>\n",
       "      <td>0.00000</td>\n",
       "      <td>-2.0</td>\n",
       "      <td>-</td>\n",
       "      <td>***</td>\n",
       "    </tr>\n",
       "    <tr>\n",
       "      <th>8</th>\n",
       "      <td>login_count_last_60_days</td>\n",
       "      <td>62083</td>\n",
       "      <td>11456</td>\n",
       "      <td>22.0</td>\n",
       "      <td>25.0</td>\n",
       "      <td>-5.139</td>\n",
       "      <td>0.00000</td>\n",
       "      <td>-3.0</td>\n",
       "      <td>-</td>\n",
       "      <td>***</td>\n",
       "    </tr>\n",
       "    <tr>\n",
       "      <th>9</th>\n",
       "      <td>checkout_count_last_10_days</td>\n",
       "      <td>62083</td>\n",
       "      <td>11456</td>\n",
       "      <td>0.0</td>\n",
       "      <td>0.0</td>\n",
       "      <td>-3.667</td>\n",
       "      <td>0.00024</td>\n",
       "      <td>0.0</td>\n",
       "      <td>+</td>\n",
       "      <td>***</td>\n",
       "    </tr>\n",
       "    <tr>\n",
       "      <th>10</th>\n",
       "      <td>checkout_count_last_30_days</td>\n",
       "      <td>62083</td>\n",
       "      <td>11456</td>\n",
       "      <td>0.0</td>\n",
       "      <td>0.0</td>\n",
       "      <td>-4.069</td>\n",
       "      <td>0.00005</td>\n",
       "      <td>0.0</td>\n",
       "      <td>+</td>\n",
       "      <td>***</td>\n",
       "    </tr>\n",
       "    <tr>\n",
       "      <th>11</th>\n",
       "      <td>checkout_count_last_60_days</td>\n",
       "      <td>62083</td>\n",
       "      <td>11456</td>\n",
       "      <td>1.0</td>\n",
       "      <td>1.0</td>\n",
       "      <td>-4.160</td>\n",
       "      <td>0.00003</td>\n",
       "      <td>0.0</td>\n",
       "      <td>+</td>\n",
       "      <td>***</td>\n",
       "    </tr>\n",
       "  </tbody>\n",
       "</table>\n",
       "</div>"
      ],
      "text/plain": [
       "                           衡量變數  沒開信使用者筆數  有開信使用者筆數  沒開信使用者中位數  有開信使用者中位數  \\\n",
       "0                 last_open_day     62083     11456       15.0        3.0   \n",
       "1                last_login_day     62083     11456        8.0        7.0   \n",
       "2             last_checkout_day     62083     11456       12.0       12.0   \n",
       "3       open_count_last_10_days     62083     11456        0.0        2.0   \n",
       "4       open_count_last_30_days     62083     11456        1.0        7.0   \n",
       "5       open_count_last_60_days     62083     11456        1.0       11.0   \n",
       "6      login_count_last_10_days     62083     11456        3.0        4.0   \n",
       "7      login_count_last_30_days     62083     11456       11.0       13.0   \n",
       "8      login_count_last_60_days     62083     11456       22.0       25.0   \n",
       "9   checkout_count_last_10_days     62083     11456        0.0        0.0   \n",
       "10  checkout_count_last_30_days     62083     11456        0.0        0.0   \n",
       "11  checkout_count_last_60_days     62083     11456        1.0        1.0   \n",
       "\n",
       "    ranksums統計值       p值  中位數差異 統計值方向  顯著性  \n",
       "0        68.309  0.00000   12.0     +  ***  \n",
       "1         8.961  0.00000    1.0     +  ***  \n",
       "2        -2.751  0.00594    0.0     +    *  \n",
       "3      -106.803  0.00000   -2.0     -  ***  \n",
       "4      -109.599  0.00000   -6.0     -  ***  \n",
       "5      -105.416  0.00000  -10.0     -  ***  \n",
       "6        -8.309  0.00000   -1.0     -  ***  \n",
       "7        -5.851  0.00000   -2.0     -  ***  \n",
       "8        -5.139  0.00000   -3.0     -  ***  \n",
       "9        -3.667  0.00024    0.0     +  ***  \n",
       "10       -4.069  0.00005    0.0     +  ***  \n",
       "11       -4.160  0.00003    0.0     +  ***  "
      ]
     },
     "execution_count": 80,
     "metadata": {},
     "output_type": "execute_result"
    }
   ],
   "source": [
    "result"
   ]
  },
  {
   "cell_type": "markdown",
   "id": "a4bbabdf",
   "metadata": {},
   "source": [
    "# Analysis of Correlation"
   ]
  },
  {
   "cell_type": "code",
   "execution_count": 81,
   "id": "107073cf",
   "metadata": {},
   "outputs": [],
   "source": [
    "corr=df[variables].corr(method='spearman')"
   ]
  },
  {
   "cell_type": "code",
   "execution_count": 82,
   "id": "3babf593",
   "metadata": {
    "scrolled": true
   },
   "outputs": [
    {
     "data": {
      "text/html": [
       "<div>\n",
       "<style scoped>\n",
       "    .dataframe tbody tr th:only-of-type {\n",
       "        vertical-align: middle;\n",
       "    }\n",
       "\n",
       "    .dataframe tbody tr th {\n",
       "        vertical-align: top;\n",
       "    }\n",
       "\n",
       "    .dataframe thead th {\n",
       "        text-align: right;\n",
       "    }\n",
       "</style>\n",
       "<table border=\"1\" class=\"dataframe\">\n",
       "  <thead>\n",
       "    <tr style=\"text-align: right;\">\n",
       "      <th></th>\n",
       "      <th>last_open_day</th>\n",
       "      <th>last_login_day</th>\n",
       "      <th>last_checkout_day</th>\n",
       "      <th>open_count_last_10_days</th>\n",
       "      <th>open_count_last_30_days</th>\n",
       "      <th>open_count_last_60_days</th>\n",
       "      <th>login_count_last_10_days</th>\n",
       "      <th>login_count_last_30_days</th>\n",
       "      <th>login_count_last_60_days</th>\n",
       "      <th>checkout_count_last_10_days</th>\n",
       "      <th>checkout_count_last_30_days</th>\n",
       "      <th>checkout_count_last_60_days</th>\n",
       "    </tr>\n",
       "  </thead>\n",
       "  <tbody>\n",
       "    <tr>\n",
       "      <th>last_open_day</th>\n",
       "      <td>1.000000</td>\n",
       "      <td>0.040300</td>\n",
       "      <td>0.090518</td>\n",
       "      <td>-0.500288</td>\n",
       "      <td>-0.438401</td>\n",
       "      <td>-0.325674</td>\n",
       "      <td>-0.009049</td>\n",
       "      <td>-0.010462</td>\n",
       "      <td>0.031944</td>\n",
       "      <td>0.002367</td>\n",
       "      <td>-0.005693</td>\n",
       "      <td>0.023670</td>\n",
       "    </tr>\n",
       "    <tr>\n",
       "      <th>last_login_day</th>\n",
       "      <td>0.040300</td>\n",
       "      <td>1.000000</td>\n",
       "      <td>0.072103</td>\n",
       "      <td>-0.055891</td>\n",
       "      <td>-0.039509</td>\n",
       "      <td>-0.027038</td>\n",
       "      <td>-0.783852</td>\n",
       "      <td>-0.765498</td>\n",
       "      <td>-0.739351</td>\n",
       "      <td>-0.595775</td>\n",
       "      <td>-0.637837</td>\n",
       "      <td>-0.642705</td>\n",
       "    </tr>\n",
       "    <tr>\n",
       "      <th>last_checkout_day</th>\n",
       "      <td>0.090518</td>\n",
       "      <td>0.072103</td>\n",
       "      <td>1.000000</td>\n",
       "      <td>0.023098</td>\n",
       "      <td>0.047487</td>\n",
       "      <td>0.065584</td>\n",
       "      <td>-0.078638</td>\n",
       "      <td>-0.045600</td>\n",
       "      <td>0.004384</td>\n",
       "      <td>-0.259662</td>\n",
       "      <td>-0.161688</td>\n",
       "      <td>-0.063068</td>\n",
       "    </tr>\n",
       "    <tr>\n",
       "      <th>open_count_last_10_days</th>\n",
       "      <td>-0.500288</td>\n",
       "      <td>-0.055891</td>\n",
       "      <td>0.023098</td>\n",
       "      <td>1.000000</td>\n",
       "      <td>0.770287</td>\n",
       "      <td>0.684054</td>\n",
       "      <td>0.066345</td>\n",
       "      <td>0.055958</td>\n",
       "      <td>0.055403</td>\n",
       "      <td>0.043825</td>\n",
       "      <td>0.047606</td>\n",
       "      <td>0.050852</td>\n",
       "    </tr>\n",
       "    <tr>\n",
       "      <th>open_count_last_30_days</th>\n",
       "      <td>-0.438401</td>\n",
       "      <td>-0.039509</td>\n",
       "      <td>0.047487</td>\n",
       "      <td>0.770287</td>\n",
       "      <td>1.000000</td>\n",
       "      <td>0.893450</td>\n",
       "      <td>0.052025</td>\n",
       "      <td>0.049311</td>\n",
       "      <td>0.059818</td>\n",
       "      <td>0.027888</td>\n",
       "      <td>0.040517</td>\n",
       "      <td>0.054953</td>\n",
       "    </tr>\n",
       "    <tr>\n",
       "      <th>open_count_last_60_days</th>\n",
       "      <td>-0.325674</td>\n",
       "      <td>-0.027038</td>\n",
       "      <td>0.065584</td>\n",
       "      <td>0.684054</td>\n",
       "      <td>0.893450</td>\n",
       "      <td>1.000000</td>\n",
       "      <td>0.044895</td>\n",
       "      <td>0.037112</td>\n",
       "      <td>0.061576</td>\n",
       "      <td>0.024251</td>\n",
       "      <td>0.030358</td>\n",
       "      <td>0.057197</td>\n",
       "    </tr>\n",
       "    <tr>\n",
       "      <th>login_count_last_10_days</th>\n",
       "      <td>-0.009049</td>\n",
       "      <td>-0.783852</td>\n",
       "      <td>-0.078638</td>\n",
       "      <td>0.066345</td>\n",
       "      <td>0.052025</td>\n",
       "      <td>0.044895</td>\n",
       "      <td>1.000000</td>\n",
       "      <td>0.926041</td>\n",
       "      <td>0.885470</td>\n",
       "      <td>0.639444</td>\n",
       "      <td>0.713598</td>\n",
       "      <td>0.717663</td>\n",
       "    </tr>\n",
       "    <tr>\n",
       "      <th>login_count_last_30_days</th>\n",
       "      <td>-0.010462</td>\n",
       "      <td>-0.765498</td>\n",
       "      <td>-0.045600</td>\n",
       "      <td>0.055958</td>\n",
       "      <td>0.049311</td>\n",
       "      <td>0.037112</td>\n",
       "      <td>0.926041</td>\n",
       "      <td>1.000000</td>\n",
       "      <td>0.961219</td>\n",
       "      <td>0.570577</td>\n",
       "      <td>0.751349</td>\n",
       "      <td>0.771592</td>\n",
       "    </tr>\n",
       "    <tr>\n",
       "      <th>login_count_last_60_days</th>\n",
       "      <td>0.031944</td>\n",
       "      <td>-0.739351</td>\n",
       "      <td>0.004384</td>\n",
       "      <td>0.055403</td>\n",
       "      <td>0.059818</td>\n",
       "      <td>0.061576</td>\n",
       "      <td>0.885470</td>\n",
       "      <td>0.961219</td>\n",
       "      <td>1.000000</td>\n",
       "      <td>0.541986</td>\n",
       "      <td>0.708222</td>\n",
       "      <td>0.794686</td>\n",
       "    </tr>\n",
       "    <tr>\n",
       "      <th>checkout_count_last_10_days</th>\n",
       "      <td>0.002367</td>\n",
       "      <td>-0.595775</td>\n",
       "      <td>-0.259662</td>\n",
       "      <td>0.043825</td>\n",
       "      <td>0.027888</td>\n",
       "      <td>0.024251</td>\n",
       "      <td>0.639444</td>\n",
       "      <td>0.570577</td>\n",
       "      <td>0.541986</td>\n",
       "      <td>1.000000</td>\n",
       "      <td>0.754583</td>\n",
       "      <td>0.680279</td>\n",
       "    </tr>\n",
       "    <tr>\n",
       "      <th>checkout_count_last_30_days</th>\n",
       "      <td>-0.005693</td>\n",
       "      <td>-0.637837</td>\n",
       "      <td>-0.161688</td>\n",
       "      <td>0.047606</td>\n",
       "      <td>0.040517</td>\n",
       "      <td>0.030358</td>\n",
       "      <td>0.713598</td>\n",
       "      <td>0.751349</td>\n",
       "      <td>0.708222</td>\n",
       "      <td>0.754583</td>\n",
       "      <td>1.000000</td>\n",
       "      <td>0.893980</td>\n",
       "    </tr>\n",
       "    <tr>\n",
       "      <th>checkout_count_last_60_days</th>\n",
       "      <td>0.023670</td>\n",
       "      <td>-0.642705</td>\n",
       "      <td>-0.063068</td>\n",
       "      <td>0.050852</td>\n",
       "      <td>0.054953</td>\n",
       "      <td>0.057197</td>\n",
       "      <td>0.717663</td>\n",
       "      <td>0.771592</td>\n",
       "      <td>0.794686</td>\n",
       "      <td>0.680279</td>\n",
       "      <td>0.893980</td>\n",
       "      <td>1.000000</td>\n",
       "    </tr>\n",
       "  </tbody>\n",
       "</table>\n",
       "</div>"
      ],
      "text/plain": [
       "                             last_open_day  last_login_day  last_checkout_day  \\\n",
       "last_open_day                     1.000000        0.040300           0.090518   \n",
       "last_login_day                    0.040300        1.000000           0.072103   \n",
       "last_checkout_day                 0.090518        0.072103           1.000000   \n",
       "open_count_last_10_days          -0.500288       -0.055891           0.023098   \n",
       "open_count_last_30_days          -0.438401       -0.039509           0.047487   \n",
       "open_count_last_60_days          -0.325674       -0.027038           0.065584   \n",
       "login_count_last_10_days         -0.009049       -0.783852          -0.078638   \n",
       "login_count_last_30_days         -0.010462       -0.765498          -0.045600   \n",
       "login_count_last_60_days          0.031944       -0.739351           0.004384   \n",
       "checkout_count_last_10_days       0.002367       -0.595775          -0.259662   \n",
       "checkout_count_last_30_days      -0.005693       -0.637837          -0.161688   \n",
       "checkout_count_last_60_days       0.023670       -0.642705          -0.063068   \n",
       "\n",
       "                             open_count_last_10_days  open_count_last_30_days  \\\n",
       "last_open_day                              -0.500288                -0.438401   \n",
       "last_login_day                             -0.055891                -0.039509   \n",
       "last_checkout_day                           0.023098                 0.047487   \n",
       "open_count_last_10_days                     1.000000                 0.770287   \n",
       "open_count_last_30_days                     0.770287                 1.000000   \n",
       "open_count_last_60_days                     0.684054                 0.893450   \n",
       "login_count_last_10_days                    0.066345                 0.052025   \n",
       "login_count_last_30_days                    0.055958                 0.049311   \n",
       "login_count_last_60_days                    0.055403                 0.059818   \n",
       "checkout_count_last_10_days                 0.043825                 0.027888   \n",
       "checkout_count_last_30_days                 0.047606                 0.040517   \n",
       "checkout_count_last_60_days                 0.050852                 0.054953   \n",
       "\n",
       "                             open_count_last_60_days  \\\n",
       "last_open_day                              -0.325674   \n",
       "last_login_day                             -0.027038   \n",
       "last_checkout_day                           0.065584   \n",
       "open_count_last_10_days                     0.684054   \n",
       "open_count_last_30_days                     0.893450   \n",
       "open_count_last_60_days                     1.000000   \n",
       "login_count_last_10_days                    0.044895   \n",
       "login_count_last_30_days                    0.037112   \n",
       "login_count_last_60_days                    0.061576   \n",
       "checkout_count_last_10_days                 0.024251   \n",
       "checkout_count_last_30_days                 0.030358   \n",
       "checkout_count_last_60_days                 0.057197   \n",
       "\n",
       "                             login_count_last_10_days  \\\n",
       "last_open_day                               -0.009049   \n",
       "last_login_day                              -0.783852   \n",
       "last_checkout_day                           -0.078638   \n",
       "open_count_last_10_days                      0.066345   \n",
       "open_count_last_30_days                      0.052025   \n",
       "open_count_last_60_days                      0.044895   \n",
       "login_count_last_10_days                     1.000000   \n",
       "login_count_last_30_days                     0.926041   \n",
       "login_count_last_60_days                     0.885470   \n",
       "checkout_count_last_10_days                  0.639444   \n",
       "checkout_count_last_30_days                  0.713598   \n",
       "checkout_count_last_60_days                  0.717663   \n",
       "\n",
       "                             login_count_last_30_days  \\\n",
       "last_open_day                               -0.010462   \n",
       "last_login_day                              -0.765498   \n",
       "last_checkout_day                           -0.045600   \n",
       "open_count_last_10_days                      0.055958   \n",
       "open_count_last_30_days                      0.049311   \n",
       "open_count_last_60_days                      0.037112   \n",
       "login_count_last_10_days                     0.926041   \n",
       "login_count_last_30_days                     1.000000   \n",
       "login_count_last_60_days                     0.961219   \n",
       "checkout_count_last_10_days                  0.570577   \n",
       "checkout_count_last_30_days                  0.751349   \n",
       "checkout_count_last_60_days                  0.771592   \n",
       "\n",
       "                             login_count_last_60_days  \\\n",
       "last_open_day                                0.031944   \n",
       "last_login_day                              -0.739351   \n",
       "last_checkout_day                            0.004384   \n",
       "open_count_last_10_days                      0.055403   \n",
       "open_count_last_30_days                      0.059818   \n",
       "open_count_last_60_days                      0.061576   \n",
       "login_count_last_10_days                     0.885470   \n",
       "login_count_last_30_days                     0.961219   \n",
       "login_count_last_60_days                     1.000000   \n",
       "checkout_count_last_10_days                  0.541986   \n",
       "checkout_count_last_30_days                  0.708222   \n",
       "checkout_count_last_60_days                  0.794686   \n",
       "\n",
       "                             checkout_count_last_10_days  \\\n",
       "last_open_day                                   0.002367   \n",
       "last_login_day                                 -0.595775   \n",
       "last_checkout_day                              -0.259662   \n",
       "open_count_last_10_days                         0.043825   \n",
       "open_count_last_30_days                         0.027888   \n",
       "open_count_last_60_days                         0.024251   \n",
       "login_count_last_10_days                        0.639444   \n",
       "login_count_last_30_days                        0.570577   \n",
       "login_count_last_60_days                        0.541986   \n",
       "checkout_count_last_10_days                     1.000000   \n",
       "checkout_count_last_30_days                     0.754583   \n",
       "checkout_count_last_60_days                     0.680279   \n",
       "\n",
       "                             checkout_count_last_30_days  \\\n",
       "last_open_day                                  -0.005693   \n",
       "last_login_day                                 -0.637837   \n",
       "last_checkout_day                              -0.161688   \n",
       "open_count_last_10_days                         0.047606   \n",
       "open_count_last_30_days                         0.040517   \n",
       "open_count_last_60_days                         0.030358   \n",
       "login_count_last_10_days                        0.713598   \n",
       "login_count_last_30_days                        0.751349   \n",
       "login_count_last_60_days                        0.708222   \n",
       "checkout_count_last_10_days                     0.754583   \n",
       "checkout_count_last_30_days                     1.000000   \n",
       "checkout_count_last_60_days                     0.893980   \n",
       "\n",
       "                             checkout_count_last_60_days  \n",
       "last_open_day                                   0.023670  \n",
       "last_login_day                                 -0.642705  \n",
       "last_checkout_day                              -0.063068  \n",
       "open_count_last_10_days                         0.050852  \n",
       "open_count_last_30_days                         0.054953  \n",
       "open_count_last_60_days                         0.057197  \n",
       "login_count_last_10_days                        0.717663  \n",
       "login_count_last_30_days                        0.771592  \n",
       "login_count_last_60_days                        0.794686  \n",
       "checkout_count_last_10_days                     0.680279  \n",
       "checkout_count_last_30_days                     0.893980  \n",
       "checkout_count_last_60_days                     1.000000  "
      ]
     },
     "execution_count": 82,
     "metadata": {},
     "output_type": "execute_result"
    }
   ],
   "source": [
    "corr"
   ]
  },
  {
   "cell_type": "code",
   "execution_count": 83,
   "id": "2500d781",
   "metadata": {
    "scrolled": true
   },
   "outputs": [
    {
     "data": {
      "text/html": [
       "<style  type=\"text/css\" >\n",
       "#T_9b914_row0_col0,#T_9b914_row1_col1,#T_9b914_row2_col2,#T_9b914_row3_col3,#T_9b914_row4_col4,#T_9b914_row5_col5,#T_9b914_row6_col6,#T_9b914_row7_col7,#T_9b914_row8_col8,#T_9b914_row9_col9,#T_9b914_row10_col10,#T_9b914_row11_col11{\n",
       "            background-color:  #023858;\n",
       "            color:  #f1f1f1;\n",
       "        }#T_9b914_row0_col1,#T_9b914_row4_col7,#T_9b914_row5_col6{\n",
       "            background-color:  #83afd3;\n",
       "            color:  #000000;\n",
       "        }#T_9b914_row0_col2,#T_9b914_row6_col5{\n",
       "            background-color:  #c6cce3;\n",
       "            color:  #000000;\n",
       "        }#T_9b914_row0_col3,#T_9b914_row0_col4,#T_9b914_row0_col5,#T_9b914_row1_col6,#T_9b914_row1_col7,#T_9b914_row1_col8,#T_9b914_row1_col9,#T_9b914_row1_col10,#T_9b914_row1_col11,#T_9b914_row3_col0,#T_9b914_row6_col1,#T_9b914_row9_col2{\n",
       "            background-color:  #fff7fb;\n",
       "            color:  #000000;\n",
       "        }#T_9b914_row0_col6{\n",
       "            background-color:  #8eb3d5;\n",
       "            color:  #000000;\n",
       "        }#T_9b914_row0_col7,#T_9b914_row2_col8,#T_9b914_row5_col11{\n",
       "            background-color:  #91b5d6;\n",
       "            color:  #000000;\n",
       "        }#T_9b914_row0_col8{\n",
       "            background-color:  #8bb2d4;\n",
       "            color:  #000000;\n",
       "        }#T_9b914_row0_col9{\n",
       "            background-color:  #a7bddb;\n",
       "            color:  #000000;\n",
       "        }#T_9b914_row0_col10{\n",
       "            background-color:  #a2bcda;\n",
       "            color:  #000000;\n",
       "        }#T_9b914_row0_col11{\n",
       "            background-color:  #9ab8d8;\n",
       "            color:  #000000;\n",
       "        }#T_9b914_row1_col0,#T_9b914_row9_col3{\n",
       "            background-color:  #abbfdc;\n",
       "            color:  #000000;\n",
       "        }#T_9b914_row1_col2,#T_9b914_row9_col5{\n",
       "            background-color:  #cccfe5;\n",
       "            color:  #000000;\n",
       "        }#T_9b914_row1_col3,#T_9b914_row2_col5{\n",
       "            background-color:  #c1cae2;\n",
       "            color:  #000000;\n",
       "        }#T_9b914_row1_col4,#T_9b914_row7_col5{\n",
       "            background-color:  #c8cde4;\n",
       "            color:  #000000;\n",
       "        }#T_9b914_row1_col5,#T_9b914_row3_col2{\n",
       "            background-color:  #d6d6e9;\n",
       "            color:  #000000;\n",
       "        }#T_9b914_row2_col0,#T_9b914_row4_col9{\n",
       "            background-color:  #9fbad9;\n",
       "            color:  #000000;\n",
       "        }#T_9b914_row2_col1,#T_9b914_row3_col6{\n",
       "            background-color:  #7dacd1;\n",
       "            color:  #000000;\n",
       "        }#T_9b914_row2_col3,#T_9b914_row11_col0{\n",
       "            background-color:  #afc1dd;\n",
       "            color:  #000000;\n",
       "        }#T_9b914_row2_col4,#T_9b914_row7_col4{\n",
       "            background-color:  #b3c3de;\n",
       "            color:  #000000;\n",
       "        }#T_9b914_row2_col6{\n",
       "            background-color:  #9ebad9;\n",
       "            color:  #000000;\n",
       "        }#T_9b914_row2_col7,#T_9b914_row3_col1,#T_9b914_row5_col10{\n",
       "            background-color:  #99b8d8;\n",
       "            color:  #000000;\n",
       "        }#T_9b914_row2_col9,#T_9b914_row8_col2{\n",
       "            background-color:  #d9d8ea;\n",
       "            color:  #000000;\n",
       "        }#T_9b914_row2_col10,#T_9b914_row8_col5{\n",
       "            background-color:  #c2cbe2;\n",
       "            color:  #000000;\n",
       "        }#T_9b914_row2_col11,#T_9b914_row8_col0{\n",
       "            background-color:  #adc1dd;\n",
       "            color:  #000000;\n",
       "        }#T_9b914_row3_col4,#T_9b914_row11_col6{\n",
       "            background-color:  #046096;\n",
       "            color:  #f1f1f1;\n",
       "        }#T_9b914_row3_col5{\n",
       "            background-color:  #056ead;\n",
       "            color:  #f1f1f1;\n",
       "        }#T_9b914_row3_col7,#T_9b914_row4_col6{\n",
       "            background-color:  #81aed2;\n",
       "            color:  #000000;\n",
       "        }#T_9b914_row3_col8,#T_9b914_row5_col7{\n",
       "            background-color:  #86b0d3;\n",
       "            color:  #000000;\n",
       "        }#T_9b914_row3_col9{\n",
       "            background-color:  #9cb9d9;\n",
       "            color:  #000000;\n",
       "        }#T_9b914_row3_col10{\n",
       "            background-color:  #94b6d7;\n",
       "            color:  #000000;\n",
       "        }#T_9b914_row3_col11,#T_9b914_row4_col11,#T_9b914_row5_col1{\n",
       "            background-color:  #93b5d6;\n",
       "            color:  #000000;\n",
       "        }#T_9b914_row4_col0{\n",
       "            background-color:  #f9f2f8;\n",
       "            color:  #000000;\n",
       "        }#T_9b914_row4_col1,#T_9b914_row4_col10{\n",
       "            background-color:  #96b6d7;\n",
       "            color:  #000000;\n",
       "        }#T_9b914_row4_col2{\n",
       "            background-color:  #d2d2e7;\n",
       "            color:  #000000;\n",
       "        }#T_9b914_row4_col3,#T_9b914_row10_col9{\n",
       "            background-color:  #045f95;\n",
       "            color:  #f1f1f1;\n",
       "        }#T_9b914_row4_col5{\n",
       "            background-color:  #034d79;\n",
       "            color:  #f1f1f1;\n",
       "        }#T_9b914_row4_col8,#T_9b914_row5_col8{\n",
       "            background-color:  #84b0d3;\n",
       "            color:  #000000;\n",
       "        }#T_9b914_row5_col0{\n",
       "            background-color:  #eee8f3;\n",
       "            color:  #000000;\n",
       "        }#T_9b914_row5_col2{\n",
       "            background-color:  #cdd0e5;\n",
       "            color:  #000000;\n",
       "        }#T_9b914_row5_col3{\n",
       "            background-color:  #0569a4;\n",
       "            color:  #f1f1f1;\n",
       "        }#T_9b914_row5_col4{\n",
       "            background-color:  #034b76;\n",
       "            color:  #f1f1f1;\n",
       "        }#T_9b914_row5_col9{\n",
       "            background-color:  #a1bbda;\n",
       "            color:  #000000;\n",
       "        }#T_9b914_row6_col0,#T_9b914_row7_col0{\n",
       "            background-color:  #b7c5df;\n",
       "            color:  #000000;\n",
       "        }#T_9b914_row6_col2{\n",
       "            background-color:  #e8e4f0;\n",
       "            color:  #000000;\n",
       "        }#T_9b914_row6_col3{\n",
       "            background-color:  #a5bddb;\n",
       "            color:  #000000;\n",
       "        }#T_9b914_row6_col4,#T_9b914_row11_col4{\n",
       "            background-color:  #b1c2de;\n",
       "            color:  #000000;\n",
       "        }#T_9b914_row6_col7,#T_9b914_row7_col6{\n",
       "            background-color:  #034369;\n",
       "            color:  #f1f1f1;\n",
       "        }#T_9b914_row6_col8,#T_9b914_row8_col6,#T_9b914_row10_col11,#T_9b914_row11_col10{\n",
       "            background-color:  #034973;\n",
       "            color:  #f1f1f1;\n",
       "        }#T_9b914_row6_col9{\n",
       "            background-color:  #056ba9;\n",
       "            color:  #f1f1f1;\n",
       "        }#T_9b914_row6_col10{\n",
       "            background-color:  #04629a;\n",
       "            color:  #f1f1f1;\n",
       "        }#T_9b914_row6_col11{\n",
       "            background-color:  #046299;\n",
       "            color:  #f1f1f1;\n",
       "        }#T_9b914_row7_col1{\n",
       "            background-color:  #fef6fa;\n",
       "            color:  #000000;\n",
       "        }#T_9b914_row7_col2{\n",
       "            background-color:  #e2dfee;\n",
       "            color:  #000000;\n",
       "        }#T_9b914_row7_col3,#T_9b914_row8_col3,#T_9b914_row11_col3{\n",
       "            background-color:  #a8bedc;\n",
       "            color:  #000000;\n",
       "        }#T_9b914_row7_col8,#T_9b914_row8_col7{\n",
       "            background-color:  #023d60;\n",
       "            color:  #f1f1f1;\n",
       "        }#T_9b914_row7_col9{\n",
       "            background-color:  #0c74b2;\n",
       "            color:  #f1f1f1;\n",
       "        }#T_9b914_row7_col10,#T_9b914_row9_col10{\n",
       "            background-color:  #045e94;\n",
       "            color:  #f1f1f1;\n",
       "        }#T_9b914_row7_col11{\n",
       "            background-color:  #045c90;\n",
       "            color:  #f1f1f1;\n",
       "        }#T_9b914_row8_col1{\n",
       "            background-color:  #fbf4f9;\n",
       "            color:  #000000;\n",
       "        }#T_9b914_row8_col4{\n",
       "            background-color:  #b0c2de;\n",
       "            color:  #000000;\n",
       "        }#T_9b914_row8_col9{\n",
       "            background-color:  #1379b5;\n",
       "            color:  #f1f1f1;\n",
       "        }#T_9b914_row8_col10{\n",
       "            background-color:  #04639b;\n",
       "            color:  #f1f1f1;\n",
       "        }#T_9b914_row8_col11{\n",
       "            background-color:  #04598c;\n",
       "            color:  #f1f1f1;\n",
       "        }#T_9b914_row9_col0,#T_9b914_row10_col4{\n",
       "            background-color:  #b4c4df;\n",
       "            color:  #000000;\n",
       "        }#T_9b914_row9_col1{\n",
       "            background-color:  #f0eaf4;\n",
       "            color:  #000000;\n",
       "        }#T_9b914_row9_col4{\n",
       "            background-color:  #b8c6e0;\n",
       "            color:  #000000;\n",
       "        }#T_9b914_row9_col6,#T_9b914_row11_col9{\n",
       "            background-color:  #0567a2;\n",
       "            color:  #f1f1f1;\n",
       "        }#T_9b914_row9_col7{\n",
       "            background-color:  #056fae;\n",
       "            color:  #f1f1f1;\n",
       "        }#T_9b914_row9_col8{\n",
       "            background-color:  #0a73b2;\n",
       "            color:  #f1f1f1;\n",
       "        }#T_9b914_row9_col11{\n",
       "            background-color:  #0566a0;\n",
       "            color:  #f1f1f1;\n",
       "        }#T_9b914_row10_col0{\n",
       "            background-color:  #b5c4df;\n",
       "            color:  #000000;\n",
       "        }#T_9b914_row10_col1,#T_9b914_row11_col1{\n",
       "            background-color:  #f3edf5;\n",
       "            color:  #000000;\n",
       "        }#T_9b914_row10_col2{\n",
       "            background-color:  #f4edf6;\n",
       "            color:  #000000;\n",
       "        }#T_9b914_row10_col3{\n",
       "            background-color:  #a9bfdc;\n",
       "            color:  #000000;\n",
       "        }#T_9b914_row10_col5{\n",
       "            background-color:  #cacee5;\n",
       "            color:  #000000;\n",
       "        }#T_9b914_row10_col6{\n",
       "            background-color:  #046097;\n",
       "            color:  #f1f1f1;\n",
       "        }#T_9b914_row10_col7{\n",
       "            background-color:  #045d92;\n",
       "            color:  #f1f1f1;\n",
       "        }#T_9b914_row10_col8{\n",
       "            background-color:  #046198;\n",
       "            color:  #f1f1f1;\n",
       "        }#T_9b914_row11_col2{\n",
       "            background-color:  #e6e2ef;\n",
       "            color:  #000000;\n",
       "        }#T_9b914_row11_col5{\n",
       "            background-color:  #c4cbe3;\n",
       "            color:  #000000;\n",
       "        }#T_9b914_row11_col7{\n",
       "            background-color:  #045b8e;\n",
       "            color:  #f1f1f1;\n",
       "        }#T_9b914_row11_col8{\n",
       "            background-color:  #04588a;\n",
       "            color:  #f1f1f1;\n",
       "        }</style><table id=\"T_9b914_\" ><thead>    <tr>        <th class=\"blank level0\" ></th>        <th class=\"col_heading level0 col0\" >last_open_day</th>        <th class=\"col_heading level0 col1\" >last_login_day</th>        <th class=\"col_heading level0 col2\" >last_checkout_day</th>        <th class=\"col_heading level0 col3\" >open_count_last_10_days</th>        <th class=\"col_heading level0 col4\" >open_count_last_30_days</th>        <th class=\"col_heading level0 col5\" >open_count_last_60_days</th>        <th class=\"col_heading level0 col6\" >login_count_last_10_days</th>        <th class=\"col_heading level0 col7\" >login_count_last_30_days</th>        <th class=\"col_heading level0 col8\" >login_count_last_60_days</th>        <th class=\"col_heading level0 col9\" >checkout_count_last_10_days</th>        <th class=\"col_heading level0 col10\" >checkout_count_last_30_days</th>        <th class=\"col_heading level0 col11\" >checkout_count_last_60_days</th>    </tr></thead><tbody>\n",
       "                <tr>\n",
       "                        <th id=\"T_9b914_level0_row0\" class=\"row_heading level0 row0\" >last_open_day</th>\n",
       "                        <td id=\"T_9b914_row0_col0\" class=\"data row0 col0\" >1.00</td>\n",
       "                        <td id=\"T_9b914_row0_col1\" class=\"data row0 col1\" >0.04</td>\n",
       "                        <td id=\"T_9b914_row0_col2\" class=\"data row0 col2\" >0.09</td>\n",
       "                        <td id=\"T_9b914_row0_col3\" class=\"data row0 col3\" >-0.50</td>\n",
       "                        <td id=\"T_9b914_row0_col4\" class=\"data row0 col4\" >-0.44</td>\n",
       "                        <td id=\"T_9b914_row0_col5\" class=\"data row0 col5\" >-0.33</td>\n",
       "                        <td id=\"T_9b914_row0_col6\" class=\"data row0 col6\" >-0.01</td>\n",
       "                        <td id=\"T_9b914_row0_col7\" class=\"data row0 col7\" >-0.01</td>\n",
       "                        <td id=\"T_9b914_row0_col8\" class=\"data row0 col8\" >0.03</td>\n",
       "                        <td id=\"T_9b914_row0_col9\" class=\"data row0 col9\" >0.00</td>\n",
       "                        <td id=\"T_9b914_row0_col10\" class=\"data row0 col10\" >-0.01</td>\n",
       "                        <td id=\"T_9b914_row0_col11\" class=\"data row0 col11\" >0.02</td>\n",
       "            </tr>\n",
       "            <tr>\n",
       "                        <th id=\"T_9b914_level0_row1\" class=\"row_heading level0 row1\" >last_login_day</th>\n",
       "                        <td id=\"T_9b914_row1_col0\" class=\"data row1 col0\" >0.04</td>\n",
       "                        <td id=\"T_9b914_row1_col1\" class=\"data row1 col1\" >1.00</td>\n",
       "                        <td id=\"T_9b914_row1_col2\" class=\"data row1 col2\" >0.07</td>\n",
       "                        <td id=\"T_9b914_row1_col3\" class=\"data row1 col3\" >-0.06</td>\n",
       "                        <td id=\"T_9b914_row1_col4\" class=\"data row1 col4\" >-0.04</td>\n",
       "                        <td id=\"T_9b914_row1_col5\" class=\"data row1 col5\" >-0.03</td>\n",
       "                        <td id=\"T_9b914_row1_col6\" class=\"data row1 col6\" >-0.78</td>\n",
       "                        <td id=\"T_9b914_row1_col7\" class=\"data row1 col7\" >-0.77</td>\n",
       "                        <td id=\"T_9b914_row1_col8\" class=\"data row1 col8\" >-0.74</td>\n",
       "                        <td id=\"T_9b914_row1_col9\" class=\"data row1 col9\" >-0.60</td>\n",
       "                        <td id=\"T_9b914_row1_col10\" class=\"data row1 col10\" >-0.64</td>\n",
       "                        <td id=\"T_9b914_row1_col11\" class=\"data row1 col11\" >-0.64</td>\n",
       "            </tr>\n",
       "            <tr>\n",
       "                        <th id=\"T_9b914_level0_row2\" class=\"row_heading level0 row2\" >last_checkout_day</th>\n",
       "                        <td id=\"T_9b914_row2_col0\" class=\"data row2 col0\" >0.09</td>\n",
       "                        <td id=\"T_9b914_row2_col1\" class=\"data row2 col1\" >0.07</td>\n",
       "                        <td id=\"T_9b914_row2_col2\" class=\"data row2 col2\" >1.00</td>\n",
       "                        <td id=\"T_9b914_row2_col3\" class=\"data row2 col3\" >0.02</td>\n",
       "                        <td id=\"T_9b914_row2_col4\" class=\"data row2 col4\" >0.05</td>\n",
       "                        <td id=\"T_9b914_row2_col5\" class=\"data row2 col5\" >0.07</td>\n",
       "                        <td id=\"T_9b914_row2_col6\" class=\"data row2 col6\" >-0.08</td>\n",
       "                        <td id=\"T_9b914_row2_col7\" class=\"data row2 col7\" >-0.05</td>\n",
       "                        <td id=\"T_9b914_row2_col8\" class=\"data row2 col8\" >0.00</td>\n",
       "                        <td id=\"T_9b914_row2_col9\" class=\"data row2 col9\" >-0.26</td>\n",
       "                        <td id=\"T_9b914_row2_col10\" class=\"data row2 col10\" >-0.16</td>\n",
       "                        <td id=\"T_9b914_row2_col11\" class=\"data row2 col11\" >-0.06</td>\n",
       "            </tr>\n",
       "            <tr>\n",
       "                        <th id=\"T_9b914_level0_row3\" class=\"row_heading level0 row3\" >open_count_last_10_days</th>\n",
       "                        <td id=\"T_9b914_row3_col0\" class=\"data row3 col0\" >-0.50</td>\n",
       "                        <td id=\"T_9b914_row3_col1\" class=\"data row3 col1\" >-0.06</td>\n",
       "                        <td id=\"T_9b914_row3_col2\" class=\"data row3 col2\" >0.02</td>\n",
       "                        <td id=\"T_9b914_row3_col3\" class=\"data row3 col3\" >1.00</td>\n",
       "                        <td id=\"T_9b914_row3_col4\" class=\"data row3 col4\" >0.77</td>\n",
       "                        <td id=\"T_9b914_row3_col5\" class=\"data row3 col5\" >0.68</td>\n",
       "                        <td id=\"T_9b914_row3_col6\" class=\"data row3 col6\" >0.07</td>\n",
       "                        <td id=\"T_9b914_row3_col7\" class=\"data row3 col7\" >0.06</td>\n",
       "                        <td id=\"T_9b914_row3_col8\" class=\"data row3 col8\" >0.06</td>\n",
       "                        <td id=\"T_9b914_row3_col9\" class=\"data row3 col9\" >0.04</td>\n",
       "                        <td id=\"T_9b914_row3_col10\" class=\"data row3 col10\" >0.05</td>\n",
       "                        <td id=\"T_9b914_row3_col11\" class=\"data row3 col11\" >0.05</td>\n",
       "            </tr>\n",
       "            <tr>\n",
       "                        <th id=\"T_9b914_level0_row4\" class=\"row_heading level0 row4\" >open_count_last_30_days</th>\n",
       "                        <td id=\"T_9b914_row4_col0\" class=\"data row4 col0\" >-0.44</td>\n",
       "                        <td id=\"T_9b914_row4_col1\" class=\"data row4 col1\" >-0.04</td>\n",
       "                        <td id=\"T_9b914_row4_col2\" class=\"data row4 col2\" >0.05</td>\n",
       "                        <td id=\"T_9b914_row4_col3\" class=\"data row4 col3\" >0.77</td>\n",
       "                        <td id=\"T_9b914_row4_col4\" class=\"data row4 col4\" >1.00</td>\n",
       "                        <td id=\"T_9b914_row4_col5\" class=\"data row4 col5\" >0.89</td>\n",
       "                        <td id=\"T_9b914_row4_col6\" class=\"data row4 col6\" >0.05</td>\n",
       "                        <td id=\"T_9b914_row4_col7\" class=\"data row4 col7\" >0.05</td>\n",
       "                        <td id=\"T_9b914_row4_col8\" class=\"data row4 col8\" >0.06</td>\n",
       "                        <td id=\"T_9b914_row4_col9\" class=\"data row4 col9\" >0.03</td>\n",
       "                        <td id=\"T_9b914_row4_col10\" class=\"data row4 col10\" >0.04</td>\n",
       "                        <td id=\"T_9b914_row4_col11\" class=\"data row4 col11\" >0.05</td>\n",
       "            </tr>\n",
       "            <tr>\n",
       "                        <th id=\"T_9b914_level0_row5\" class=\"row_heading level0 row5\" >open_count_last_60_days</th>\n",
       "                        <td id=\"T_9b914_row5_col0\" class=\"data row5 col0\" >-0.33</td>\n",
       "                        <td id=\"T_9b914_row5_col1\" class=\"data row5 col1\" >-0.03</td>\n",
       "                        <td id=\"T_9b914_row5_col2\" class=\"data row5 col2\" >0.07</td>\n",
       "                        <td id=\"T_9b914_row5_col3\" class=\"data row5 col3\" >0.68</td>\n",
       "                        <td id=\"T_9b914_row5_col4\" class=\"data row5 col4\" >0.89</td>\n",
       "                        <td id=\"T_9b914_row5_col5\" class=\"data row5 col5\" >1.00</td>\n",
       "                        <td id=\"T_9b914_row5_col6\" class=\"data row5 col6\" >0.04</td>\n",
       "                        <td id=\"T_9b914_row5_col7\" class=\"data row5 col7\" >0.04</td>\n",
       "                        <td id=\"T_9b914_row5_col8\" class=\"data row5 col8\" >0.06</td>\n",
       "                        <td id=\"T_9b914_row5_col9\" class=\"data row5 col9\" >0.02</td>\n",
       "                        <td id=\"T_9b914_row5_col10\" class=\"data row5 col10\" >0.03</td>\n",
       "                        <td id=\"T_9b914_row5_col11\" class=\"data row5 col11\" >0.06</td>\n",
       "            </tr>\n",
       "            <tr>\n",
       "                        <th id=\"T_9b914_level0_row6\" class=\"row_heading level0 row6\" >login_count_last_10_days</th>\n",
       "                        <td id=\"T_9b914_row6_col0\" class=\"data row6 col0\" >-0.01</td>\n",
       "                        <td id=\"T_9b914_row6_col1\" class=\"data row6 col1\" >-0.78</td>\n",
       "                        <td id=\"T_9b914_row6_col2\" class=\"data row6 col2\" >-0.08</td>\n",
       "                        <td id=\"T_9b914_row6_col3\" class=\"data row6 col3\" >0.07</td>\n",
       "                        <td id=\"T_9b914_row6_col4\" class=\"data row6 col4\" >0.05</td>\n",
       "                        <td id=\"T_9b914_row6_col5\" class=\"data row6 col5\" >0.04</td>\n",
       "                        <td id=\"T_9b914_row6_col6\" class=\"data row6 col6\" >1.00</td>\n",
       "                        <td id=\"T_9b914_row6_col7\" class=\"data row6 col7\" >0.93</td>\n",
       "                        <td id=\"T_9b914_row6_col8\" class=\"data row6 col8\" >0.89</td>\n",
       "                        <td id=\"T_9b914_row6_col9\" class=\"data row6 col9\" >0.64</td>\n",
       "                        <td id=\"T_9b914_row6_col10\" class=\"data row6 col10\" >0.71</td>\n",
       "                        <td id=\"T_9b914_row6_col11\" class=\"data row6 col11\" >0.72</td>\n",
       "            </tr>\n",
       "            <tr>\n",
       "                        <th id=\"T_9b914_level0_row7\" class=\"row_heading level0 row7\" >login_count_last_30_days</th>\n",
       "                        <td id=\"T_9b914_row7_col0\" class=\"data row7 col0\" >-0.01</td>\n",
       "                        <td id=\"T_9b914_row7_col1\" class=\"data row7 col1\" >-0.77</td>\n",
       "                        <td id=\"T_9b914_row7_col2\" class=\"data row7 col2\" >-0.05</td>\n",
       "                        <td id=\"T_9b914_row7_col3\" class=\"data row7 col3\" >0.06</td>\n",
       "                        <td id=\"T_9b914_row7_col4\" class=\"data row7 col4\" >0.05</td>\n",
       "                        <td id=\"T_9b914_row7_col5\" class=\"data row7 col5\" >0.04</td>\n",
       "                        <td id=\"T_9b914_row7_col6\" class=\"data row7 col6\" >0.93</td>\n",
       "                        <td id=\"T_9b914_row7_col7\" class=\"data row7 col7\" >1.00</td>\n",
       "                        <td id=\"T_9b914_row7_col8\" class=\"data row7 col8\" >0.96</td>\n",
       "                        <td id=\"T_9b914_row7_col9\" class=\"data row7 col9\" >0.57</td>\n",
       "                        <td id=\"T_9b914_row7_col10\" class=\"data row7 col10\" >0.75</td>\n",
       "                        <td id=\"T_9b914_row7_col11\" class=\"data row7 col11\" >0.77</td>\n",
       "            </tr>\n",
       "            <tr>\n",
       "                        <th id=\"T_9b914_level0_row8\" class=\"row_heading level0 row8\" >login_count_last_60_days</th>\n",
       "                        <td id=\"T_9b914_row8_col0\" class=\"data row8 col0\" >0.03</td>\n",
       "                        <td id=\"T_9b914_row8_col1\" class=\"data row8 col1\" >-0.74</td>\n",
       "                        <td id=\"T_9b914_row8_col2\" class=\"data row8 col2\" >0.00</td>\n",
       "                        <td id=\"T_9b914_row8_col3\" class=\"data row8 col3\" >0.06</td>\n",
       "                        <td id=\"T_9b914_row8_col4\" class=\"data row8 col4\" >0.06</td>\n",
       "                        <td id=\"T_9b914_row8_col5\" class=\"data row8 col5\" >0.06</td>\n",
       "                        <td id=\"T_9b914_row8_col6\" class=\"data row8 col6\" >0.89</td>\n",
       "                        <td id=\"T_9b914_row8_col7\" class=\"data row8 col7\" >0.96</td>\n",
       "                        <td id=\"T_9b914_row8_col8\" class=\"data row8 col8\" >1.00</td>\n",
       "                        <td id=\"T_9b914_row8_col9\" class=\"data row8 col9\" >0.54</td>\n",
       "                        <td id=\"T_9b914_row8_col10\" class=\"data row8 col10\" >0.71</td>\n",
       "                        <td id=\"T_9b914_row8_col11\" class=\"data row8 col11\" >0.79</td>\n",
       "            </tr>\n",
       "            <tr>\n",
       "                        <th id=\"T_9b914_level0_row9\" class=\"row_heading level0 row9\" >checkout_count_last_10_days</th>\n",
       "                        <td id=\"T_9b914_row9_col0\" class=\"data row9 col0\" >0.00</td>\n",
       "                        <td id=\"T_9b914_row9_col1\" class=\"data row9 col1\" >-0.60</td>\n",
       "                        <td id=\"T_9b914_row9_col2\" class=\"data row9 col2\" >-0.26</td>\n",
       "                        <td id=\"T_9b914_row9_col3\" class=\"data row9 col3\" >0.04</td>\n",
       "                        <td id=\"T_9b914_row9_col4\" class=\"data row9 col4\" >0.03</td>\n",
       "                        <td id=\"T_9b914_row9_col5\" class=\"data row9 col5\" >0.02</td>\n",
       "                        <td id=\"T_9b914_row9_col6\" class=\"data row9 col6\" >0.64</td>\n",
       "                        <td id=\"T_9b914_row9_col7\" class=\"data row9 col7\" >0.57</td>\n",
       "                        <td id=\"T_9b914_row9_col8\" class=\"data row9 col8\" >0.54</td>\n",
       "                        <td id=\"T_9b914_row9_col9\" class=\"data row9 col9\" >1.00</td>\n",
       "                        <td id=\"T_9b914_row9_col10\" class=\"data row9 col10\" >0.75</td>\n",
       "                        <td id=\"T_9b914_row9_col11\" class=\"data row9 col11\" >0.68</td>\n",
       "            </tr>\n",
       "            <tr>\n",
       "                        <th id=\"T_9b914_level0_row10\" class=\"row_heading level0 row10\" >checkout_count_last_30_days</th>\n",
       "                        <td id=\"T_9b914_row10_col0\" class=\"data row10 col0\" >-0.01</td>\n",
       "                        <td id=\"T_9b914_row10_col1\" class=\"data row10 col1\" >-0.64</td>\n",
       "                        <td id=\"T_9b914_row10_col2\" class=\"data row10 col2\" >-0.16</td>\n",
       "                        <td id=\"T_9b914_row10_col3\" class=\"data row10 col3\" >0.05</td>\n",
       "                        <td id=\"T_9b914_row10_col4\" class=\"data row10 col4\" >0.04</td>\n",
       "                        <td id=\"T_9b914_row10_col5\" class=\"data row10 col5\" >0.03</td>\n",
       "                        <td id=\"T_9b914_row10_col6\" class=\"data row10 col6\" >0.71</td>\n",
       "                        <td id=\"T_9b914_row10_col7\" class=\"data row10 col7\" >0.75</td>\n",
       "                        <td id=\"T_9b914_row10_col8\" class=\"data row10 col8\" >0.71</td>\n",
       "                        <td id=\"T_9b914_row10_col9\" class=\"data row10 col9\" >0.75</td>\n",
       "                        <td id=\"T_9b914_row10_col10\" class=\"data row10 col10\" >1.00</td>\n",
       "                        <td id=\"T_9b914_row10_col11\" class=\"data row10 col11\" >0.89</td>\n",
       "            </tr>\n",
       "            <tr>\n",
       "                        <th id=\"T_9b914_level0_row11\" class=\"row_heading level0 row11\" >checkout_count_last_60_days</th>\n",
       "                        <td id=\"T_9b914_row11_col0\" class=\"data row11 col0\" >0.02</td>\n",
       "                        <td id=\"T_9b914_row11_col1\" class=\"data row11 col1\" >-0.64</td>\n",
       "                        <td id=\"T_9b914_row11_col2\" class=\"data row11 col2\" >-0.06</td>\n",
       "                        <td id=\"T_9b914_row11_col3\" class=\"data row11 col3\" >0.05</td>\n",
       "                        <td id=\"T_9b914_row11_col4\" class=\"data row11 col4\" >0.05</td>\n",
       "                        <td id=\"T_9b914_row11_col5\" class=\"data row11 col5\" >0.06</td>\n",
       "                        <td id=\"T_9b914_row11_col6\" class=\"data row11 col6\" >0.72</td>\n",
       "                        <td id=\"T_9b914_row11_col7\" class=\"data row11 col7\" >0.77</td>\n",
       "                        <td id=\"T_9b914_row11_col8\" class=\"data row11 col8\" >0.79</td>\n",
       "                        <td id=\"T_9b914_row11_col9\" class=\"data row11 col9\" >0.68</td>\n",
       "                        <td id=\"T_9b914_row11_col10\" class=\"data row11 col10\" >0.89</td>\n",
       "                        <td id=\"T_9b914_row11_col11\" class=\"data row11 col11\" >1.00</td>\n",
       "            </tr>\n",
       "    </tbody></table>"
      ],
      "text/plain": [
       "<pandas.io.formats.style.Styler at 0x23113fe82e0>"
      ]
     },
     "execution_count": 83,
     "metadata": {},
     "output_type": "execute_result"
    }
   ],
   "source": [
    "corr.style.background_gradient().set_precision(2)"
   ]
  },
  {
   "cell_type": "markdown",
   "id": "125a0f55",
   "metadata": {},
   "source": [
    "From the outcome above, we see that login_count has high correlation with checkout_count.\\\n",
    "And e-mail related variables have low correlation with other non-e-mail- related variables."
   ]
  },
  {
   "cell_type": "markdown",
   "id": "b85801db",
   "metadata": {},
   "source": [
    "# Univariate T-test and Pearson correlation"
   ]
  },
  {
   "cell_type": "code",
   "execution_count": 84,
   "id": "610b04e5",
   "metadata": {},
   "outputs": [],
   "source": [
    "zz=[]\n",
    "for i in variables:\n",
    "    aa=df[i].quantile(q=[0,0.001,0.01,0.02,0.03,0.1,0.5,0.9,0.97,0.98,0.99,0.999,1])    \n",
    "    ab=aa.to_list()\n",
    "    ac=df[i].skew()\n",
    "    bb=[i]+ab+[ac]\n",
    "    zz.append(bb)"
   ]
  },
  {
   "cell_type": "code",
   "execution_count": 85,
   "id": "dbc4dcd7",
   "metadata": {},
   "outputs": [],
   "source": [
    "qtile=pd.DataFrame(zz)"
   ]
  },
  {
   "cell_type": "code",
   "execution_count": 86,
   "id": "505ea52e",
   "metadata": {},
   "outputs": [],
   "source": [
    "qtile.columns=['衡量變數','min','p_0.001','p_0.01','p_0.02','p_0.03','p_0.1','p_0.5','p_0.9','p_0.97','p_0.98','p_0.99','p_0.999','max','skew']"
   ]
  },
  {
   "cell_type": "code",
   "execution_count": 87,
   "id": "8d7d6485",
   "metadata": {},
   "outputs": [
    {
     "data": {
      "text/html": [
       "<div>\n",
       "<style scoped>\n",
       "    .dataframe tbody tr th:only-of-type {\n",
       "        vertical-align: middle;\n",
       "    }\n",
       "\n",
       "    .dataframe tbody tr th {\n",
       "        vertical-align: top;\n",
       "    }\n",
       "\n",
       "    .dataframe thead th {\n",
       "        text-align: right;\n",
       "    }\n",
       "</style>\n",
       "<table border=\"1\" class=\"dataframe\">\n",
       "  <thead>\n",
       "    <tr style=\"text-align: right;\">\n",
       "      <th></th>\n",
       "      <th>衡量變數</th>\n",
       "      <th>min</th>\n",
       "      <th>p_0.001</th>\n",
       "      <th>p_0.01</th>\n",
       "      <th>p_0.02</th>\n",
       "      <th>p_0.03</th>\n",
       "      <th>p_0.1</th>\n",
       "      <th>p_0.5</th>\n",
       "      <th>p_0.9</th>\n",
       "      <th>p_0.97</th>\n",
       "      <th>p_0.98</th>\n",
       "      <th>p_0.99</th>\n",
       "      <th>p_0.999</th>\n",
       "      <th>max</th>\n",
       "      <th>skew</th>\n",
       "    </tr>\n",
       "  </thead>\n",
       "  <tbody>\n",
       "    <tr>\n",
       "      <th>0</th>\n",
       "      <td>last_open_day</td>\n",
       "      <td>-20.0</td>\n",
       "      <td>-20.0</td>\n",
       "      <td>-20.0</td>\n",
       "      <td>-20.0</td>\n",
       "      <td>-20.0</td>\n",
       "      <td>-20.0</td>\n",
       "      <td>12.0</td>\n",
       "      <td>75.0</td>\n",
       "      <td>149.0</td>\n",
       "      <td>183.0</td>\n",
       "      <td>268.00</td>\n",
       "      <td>365.000</td>\n",
       "      <td>365.0</td>\n",
       "      <td>3.393725</td>\n",
       "    </tr>\n",
       "    <tr>\n",
       "      <th>1</th>\n",
       "      <td>last_login_day</td>\n",
       "      <td>-20.0</td>\n",
       "      <td>-20.0</td>\n",
       "      <td>0.0</td>\n",
       "      <td>1.0</td>\n",
       "      <td>1.0</td>\n",
       "      <td>1.0</td>\n",
       "      <td>8.0</td>\n",
       "      <td>140.0</td>\n",
       "      <td>365.0</td>\n",
       "      <td>365.0</td>\n",
       "      <td>365.00</td>\n",
       "      <td>365.000</td>\n",
       "      <td>365.0</td>\n",
       "      <td>2.729871</td>\n",
       "    </tr>\n",
       "    <tr>\n",
       "      <th>2</th>\n",
       "      <td>last_checkout_day</td>\n",
       "      <td>-20.0</td>\n",
       "      <td>-20.0</td>\n",
       "      <td>-20.0</td>\n",
       "      <td>-20.0</td>\n",
       "      <td>-20.0</td>\n",
       "      <td>-20.0</td>\n",
       "      <td>12.0</td>\n",
       "      <td>170.0</td>\n",
       "      <td>365.0</td>\n",
       "      <td>365.0</td>\n",
       "      <td>365.00</td>\n",
       "      <td>365.000</td>\n",
       "      <td>365.0</td>\n",
       "      <td>2.211257</td>\n",
       "    </tr>\n",
       "    <tr>\n",
       "      <th>3</th>\n",
       "      <td>open_count_last_10_days</td>\n",
       "      <td>0.0</td>\n",
       "      <td>0.0</td>\n",
       "      <td>0.0</td>\n",
       "      <td>0.0</td>\n",
       "      <td>0.0</td>\n",
       "      <td>0.0</td>\n",
       "      <td>0.0</td>\n",
       "      <td>3.0</td>\n",
       "      <td>6.0</td>\n",
       "      <td>7.0</td>\n",
       "      <td>8.00</td>\n",
       "      <td>11.000</td>\n",
       "      <td>31.0</td>\n",
       "      <td>2.786152</td>\n",
       "    </tr>\n",
       "    <tr>\n",
       "      <th>4</th>\n",
       "      <td>open_count_last_30_days</td>\n",
       "      <td>0.0</td>\n",
       "      <td>0.0</td>\n",
       "      <td>0.0</td>\n",
       "      <td>0.0</td>\n",
       "      <td>0.0</td>\n",
       "      <td>0.0</td>\n",
       "      <td>1.0</td>\n",
       "      <td>8.0</td>\n",
       "      <td>16.0</td>\n",
       "      <td>18.0</td>\n",
       "      <td>22.00</td>\n",
       "      <td>29.000</td>\n",
       "      <td>92.0</td>\n",
       "      <td>2.771019</td>\n",
       "    </tr>\n",
       "    <tr>\n",
       "      <th>5</th>\n",
       "      <td>open_count_last_60_days</td>\n",
       "      <td>0.0</td>\n",
       "      <td>0.0</td>\n",
       "      <td>0.0</td>\n",
       "      <td>0.0</td>\n",
       "      <td>0.0</td>\n",
       "      <td>0.0</td>\n",
       "      <td>2.0</td>\n",
       "      <td>15.0</td>\n",
       "      <td>27.0</td>\n",
       "      <td>32.0</td>\n",
       "      <td>38.00</td>\n",
       "      <td>53.000</td>\n",
       "      <td>135.0</td>\n",
       "      <td>2.808588</td>\n",
       "    </tr>\n",
       "    <tr>\n",
       "      <th>6</th>\n",
       "      <td>login_count_last_10_days</td>\n",
       "      <td>0.0</td>\n",
       "      <td>0.0</td>\n",
       "      <td>0.0</td>\n",
       "      <td>0.0</td>\n",
       "      <td>0.0</td>\n",
       "      <td>0.0</td>\n",
       "      <td>3.0</td>\n",
       "      <td>23.0</td>\n",
       "      <td>41.0</td>\n",
       "      <td>48.0</td>\n",
       "      <td>62.00</td>\n",
       "      <td>120.000</td>\n",
       "      <td>254.0</td>\n",
       "      <td>3.599801</td>\n",
       "    </tr>\n",
       "    <tr>\n",
       "      <th>7</th>\n",
       "      <td>login_count_last_30_days</td>\n",
       "      <td>0.0</td>\n",
       "      <td>0.0</td>\n",
       "      <td>0.0</td>\n",
       "      <td>0.0</td>\n",
       "      <td>0.0</td>\n",
       "      <td>0.0</td>\n",
       "      <td>11.0</td>\n",
       "      <td>67.0</td>\n",
       "      <td>116.0</td>\n",
       "      <td>137.0</td>\n",
       "      <td>176.62</td>\n",
       "      <td>341.000</td>\n",
       "      <td>735.0</td>\n",
       "      <td>3.523943</td>\n",
       "    </tr>\n",
       "    <tr>\n",
       "      <th>8</th>\n",
       "      <td>login_count_last_60_days</td>\n",
       "      <td>0.0</td>\n",
       "      <td>0.0</td>\n",
       "      <td>0.0</td>\n",
       "      <td>0.0</td>\n",
       "      <td>0.0</td>\n",
       "      <td>0.0</td>\n",
       "      <td>22.0</td>\n",
       "      <td>128.0</td>\n",
       "      <td>222.0</td>\n",
       "      <td>262.0</td>\n",
       "      <td>336.00</td>\n",
       "      <td>633.462</td>\n",
       "      <td>1260.0</td>\n",
       "      <td>3.474175</td>\n",
       "    </tr>\n",
       "    <tr>\n",
       "      <th>9</th>\n",
       "      <td>checkout_count_last_10_days</td>\n",
       "      <td>0.0</td>\n",
       "      <td>0.0</td>\n",
       "      <td>0.0</td>\n",
       "      <td>0.0</td>\n",
       "      <td>0.0</td>\n",
       "      <td>0.0</td>\n",
       "      <td>0.0</td>\n",
       "      <td>3.0</td>\n",
       "      <td>6.0</td>\n",
       "      <td>8.0</td>\n",
       "      <td>11.00</td>\n",
       "      <td>33.000</td>\n",
       "      <td>157.0</td>\n",
       "      <td>13.125030</td>\n",
       "    </tr>\n",
       "    <tr>\n",
       "      <th>10</th>\n",
       "      <td>checkout_count_last_30_days</td>\n",
       "      <td>0.0</td>\n",
       "      <td>0.0</td>\n",
       "      <td>0.0</td>\n",
       "      <td>0.0</td>\n",
       "      <td>0.0</td>\n",
       "      <td>0.0</td>\n",
       "      <td>0.0</td>\n",
       "      <td>7.0</td>\n",
       "      <td>17.0</td>\n",
       "      <td>21.0</td>\n",
       "      <td>31.00</td>\n",
       "      <td>89.462</td>\n",
       "      <td>531.0</td>\n",
       "      <td>14.249103</td>\n",
       "    </tr>\n",
       "    <tr>\n",
       "      <th>11</th>\n",
       "      <td>checkout_count_last_60_days</td>\n",
       "      <td>0.0</td>\n",
       "      <td>0.0</td>\n",
       "      <td>0.0</td>\n",
       "      <td>0.0</td>\n",
       "      <td>0.0</td>\n",
       "      <td>0.0</td>\n",
       "      <td>1.0</td>\n",
       "      <td>14.0</td>\n",
       "      <td>31.0</td>\n",
       "      <td>40.0</td>\n",
       "      <td>55.00</td>\n",
       "      <td>168.462</td>\n",
       "      <td>783.0</td>\n",
       "      <td>12.873158</td>\n",
       "    </tr>\n",
       "  </tbody>\n",
       "</table>\n",
       "</div>"
      ],
      "text/plain": [
       "                           衡量變數   min  p_0.001  p_0.01  p_0.02  p_0.03  p_0.1  \\\n",
       "0                 last_open_day -20.0    -20.0   -20.0   -20.0   -20.0  -20.0   \n",
       "1                last_login_day -20.0    -20.0     0.0     1.0     1.0    1.0   \n",
       "2             last_checkout_day -20.0    -20.0   -20.0   -20.0   -20.0  -20.0   \n",
       "3       open_count_last_10_days   0.0      0.0     0.0     0.0     0.0    0.0   \n",
       "4       open_count_last_30_days   0.0      0.0     0.0     0.0     0.0    0.0   \n",
       "5       open_count_last_60_days   0.0      0.0     0.0     0.0     0.0    0.0   \n",
       "6      login_count_last_10_days   0.0      0.0     0.0     0.0     0.0    0.0   \n",
       "7      login_count_last_30_days   0.0      0.0     0.0     0.0     0.0    0.0   \n",
       "8      login_count_last_60_days   0.0      0.0     0.0     0.0     0.0    0.0   \n",
       "9   checkout_count_last_10_days   0.0      0.0     0.0     0.0     0.0    0.0   \n",
       "10  checkout_count_last_30_days   0.0      0.0     0.0     0.0     0.0    0.0   \n",
       "11  checkout_count_last_60_days   0.0      0.0     0.0     0.0     0.0    0.0   \n",
       "\n",
       "    p_0.5  p_0.9  p_0.97  p_0.98  p_0.99  p_0.999     max       skew  \n",
       "0    12.0   75.0   149.0   183.0  268.00  365.000   365.0   3.393725  \n",
       "1     8.0  140.0   365.0   365.0  365.00  365.000   365.0   2.729871  \n",
       "2    12.0  170.0   365.0   365.0  365.00  365.000   365.0   2.211257  \n",
       "3     0.0    3.0     6.0     7.0    8.00   11.000    31.0   2.786152  \n",
       "4     1.0    8.0    16.0    18.0   22.00   29.000    92.0   2.771019  \n",
       "5     2.0   15.0    27.0    32.0   38.00   53.000   135.0   2.808588  \n",
       "6     3.0   23.0    41.0    48.0   62.00  120.000   254.0   3.599801  \n",
       "7    11.0   67.0   116.0   137.0  176.62  341.000   735.0   3.523943  \n",
       "8    22.0  128.0   222.0   262.0  336.00  633.462  1260.0   3.474175  \n",
       "9     0.0    3.0     6.0     8.0   11.00   33.000   157.0  13.125030  \n",
       "10    0.0    7.0    17.0    21.0   31.00   89.462   531.0  14.249103  \n",
       "11    1.0   14.0    31.0    40.0   55.00  168.462   783.0  12.873158  "
      ]
     },
     "execution_count": 87,
     "metadata": {},
     "output_type": "execute_result"
    }
   ],
   "source": [
    "qtile"
   ]
  },
  {
   "cell_type": "markdown",
   "id": "c3846110",
   "metadata": {},
   "source": [
    "Since outliers may swell up the variance and make t-test incorrectly significant, \\\n",
    "we try to winsorize data and see the result."
   ]
  },
  {
   "cell_type": "markdown",
   "id": "77754954",
   "metadata": {},
   "source": [
    "## Rule of winsorization: [min,max]\n",
    "1.right-skewed:[p_0.02, p_0.97] \\\n",
    "2.left-skewed:[p_0.03, p_0.98]"
   ]
  },
  {
   "cell_type": "code",
   "execution_count": 88,
   "id": "ff30ca6c",
   "metadata": {},
   "outputs": [],
   "source": [
    "def bound(qtile):\n",
    "    qtile['lb']=np.nan\n",
    "    qtile['ub']=np.nan\n",
    "    for i in range(len(qtile.index)):\n",
    "        if (qtile['skew'][i]>=4):\n",
    "            qtile['lb'][i]=qtile['p_0.02'][i]\n",
    "            qtile['ub'][i]=qtile['p_0.97'][i]\n",
    "        else:\n",
    "            qtile['lb'][i]=qtile['p_0.03'][i]\n",
    "            qtile['ub'][i]=qtile['p_0.98'][i]"
   ]
  },
  {
   "cell_type": "code",
   "execution_count": 89,
   "id": "0408b2bb",
   "metadata": {
    "scrolled": true
   },
   "outputs": [
    {
     "name": "stderr",
     "output_type": "stream",
     "text": [
      "C:\\Users\\2022080101\\AppData\\Local\\Temp\\ipykernel_8148\\1875694522.py:9: SettingWithCopyWarning: \n",
      "A value is trying to be set on a copy of a slice from a DataFrame\n",
      "\n",
      "See the caveats in the documentation: https://pandas.pydata.org/pandas-docs/stable/user_guide/indexing.html#returning-a-view-versus-a-copy\n",
      "  qtile['lb'][i]=qtile['p_0.03'][i]\n",
      "C:\\Users\\2022080101\\AppData\\Local\\Temp\\ipykernel_8148\\1875694522.py:10: SettingWithCopyWarning: \n",
      "A value is trying to be set on a copy of a slice from a DataFrame\n",
      "\n",
      "See the caveats in the documentation: https://pandas.pydata.org/pandas-docs/stable/user_guide/indexing.html#returning-a-view-versus-a-copy\n",
      "  qtile['ub'][i]=qtile['p_0.98'][i]\n",
      "C:\\Users\\2022080101\\AppData\\Local\\Temp\\ipykernel_8148\\1875694522.py:6: SettingWithCopyWarning: \n",
      "A value is trying to be set on a copy of a slice from a DataFrame\n",
      "\n",
      "See the caveats in the documentation: https://pandas.pydata.org/pandas-docs/stable/user_guide/indexing.html#returning-a-view-versus-a-copy\n",
      "  qtile['lb'][i]=qtile['p_0.02'][i]\n",
      "C:\\Users\\2022080101\\AppData\\Local\\Temp\\ipykernel_8148\\1875694522.py:7: SettingWithCopyWarning: \n",
      "A value is trying to be set on a copy of a slice from a DataFrame\n",
      "\n",
      "See the caveats in the documentation: https://pandas.pydata.org/pandas-docs/stable/user_guide/indexing.html#returning-a-view-versus-a-copy\n",
      "  qtile['ub'][i]=qtile['p_0.97'][i]\n"
     ]
    }
   ],
   "source": [
    "bound(qtile)"
   ]
  },
  {
   "cell_type": "code",
   "execution_count": 90,
   "id": "da81400a",
   "metadata": {},
   "outputs": [
    {
     "data": {
      "text/html": [
       "<div>\n",
       "<style scoped>\n",
       "    .dataframe tbody tr th:only-of-type {\n",
       "        vertical-align: middle;\n",
       "    }\n",
       "\n",
       "    .dataframe tbody tr th {\n",
       "        vertical-align: top;\n",
       "    }\n",
       "\n",
       "    .dataframe thead th {\n",
       "        text-align: right;\n",
       "    }\n",
       "</style>\n",
       "<table border=\"1\" class=\"dataframe\">\n",
       "  <thead>\n",
       "    <tr style=\"text-align: right;\">\n",
       "      <th></th>\n",
       "      <th>衡量變數</th>\n",
       "      <th>min</th>\n",
       "      <th>p_0.001</th>\n",
       "      <th>p_0.01</th>\n",
       "      <th>p_0.02</th>\n",
       "      <th>p_0.03</th>\n",
       "      <th>p_0.1</th>\n",
       "      <th>p_0.5</th>\n",
       "      <th>p_0.9</th>\n",
       "      <th>p_0.97</th>\n",
       "      <th>p_0.98</th>\n",
       "      <th>p_0.99</th>\n",
       "      <th>p_0.999</th>\n",
       "      <th>max</th>\n",
       "      <th>skew</th>\n",
       "      <th>lb</th>\n",
       "      <th>ub</th>\n",
       "    </tr>\n",
       "  </thead>\n",
       "  <tbody>\n",
       "    <tr>\n",
       "      <th>0</th>\n",
       "      <td>last_open_day</td>\n",
       "      <td>-20.0</td>\n",
       "      <td>-20.0</td>\n",
       "      <td>-20.0</td>\n",
       "      <td>-20.0</td>\n",
       "      <td>-20.0</td>\n",
       "      <td>-20.0</td>\n",
       "      <td>12.0</td>\n",
       "      <td>75.0</td>\n",
       "      <td>149.0</td>\n",
       "      <td>183.0</td>\n",
       "      <td>268.00</td>\n",
       "      <td>365.00</td>\n",
       "      <td>365.0</td>\n",
       "      <td>3.39</td>\n",
       "      <td>-20.0</td>\n",
       "      <td>183.0</td>\n",
       "    </tr>\n",
       "    <tr>\n",
       "      <th>1</th>\n",
       "      <td>last_login_day</td>\n",
       "      <td>-20.0</td>\n",
       "      <td>-20.0</td>\n",
       "      <td>0.0</td>\n",
       "      <td>1.0</td>\n",
       "      <td>1.0</td>\n",
       "      <td>1.0</td>\n",
       "      <td>8.0</td>\n",
       "      <td>140.0</td>\n",
       "      <td>365.0</td>\n",
       "      <td>365.0</td>\n",
       "      <td>365.00</td>\n",
       "      <td>365.00</td>\n",
       "      <td>365.0</td>\n",
       "      <td>2.73</td>\n",
       "      <td>1.0</td>\n",
       "      <td>365.0</td>\n",
       "    </tr>\n",
       "    <tr>\n",
       "      <th>2</th>\n",
       "      <td>last_checkout_day</td>\n",
       "      <td>-20.0</td>\n",
       "      <td>-20.0</td>\n",
       "      <td>-20.0</td>\n",
       "      <td>-20.0</td>\n",
       "      <td>-20.0</td>\n",
       "      <td>-20.0</td>\n",
       "      <td>12.0</td>\n",
       "      <td>170.0</td>\n",
       "      <td>365.0</td>\n",
       "      <td>365.0</td>\n",
       "      <td>365.00</td>\n",
       "      <td>365.00</td>\n",
       "      <td>365.0</td>\n",
       "      <td>2.21</td>\n",
       "      <td>-20.0</td>\n",
       "      <td>365.0</td>\n",
       "    </tr>\n",
       "    <tr>\n",
       "      <th>3</th>\n",
       "      <td>open_count_last_10_days</td>\n",
       "      <td>0.0</td>\n",
       "      <td>0.0</td>\n",
       "      <td>0.0</td>\n",
       "      <td>0.0</td>\n",
       "      <td>0.0</td>\n",
       "      <td>0.0</td>\n",
       "      <td>0.0</td>\n",
       "      <td>3.0</td>\n",
       "      <td>6.0</td>\n",
       "      <td>7.0</td>\n",
       "      <td>8.00</td>\n",
       "      <td>11.00</td>\n",
       "      <td>31.0</td>\n",
       "      <td>2.79</td>\n",
       "      <td>0.0</td>\n",
       "      <td>7.0</td>\n",
       "    </tr>\n",
       "    <tr>\n",
       "      <th>4</th>\n",
       "      <td>open_count_last_30_days</td>\n",
       "      <td>0.0</td>\n",
       "      <td>0.0</td>\n",
       "      <td>0.0</td>\n",
       "      <td>0.0</td>\n",
       "      <td>0.0</td>\n",
       "      <td>0.0</td>\n",
       "      <td>1.0</td>\n",
       "      <td>8.0</td>\n",
       "      <td>16.0</td>\n",
       "      <td>18.0</td>\n",
       "      <td>22.00</td>\n",
       "      <td>29.00</td>\n",
       "      <td>92.0</td>\n",
       "      <td>2.77</td>\n",
       "      <td>0.0</td>\n",
       "      <td>18.0</td>\n",
       "    </tr>\n",
       "    <tr>\n",
       "      <th>5</th>\n",
       "      <td>open_count_last_60_days</td>\n",
       "      <td>0.0</td>\n",
       "      <td>0.0</td>\n",
       "      <td>0.0</td>\n",
       "      <td>0.0</td>\n",
       "      <td>0.0</td>\n",
       "      <td>0.0</td>\n",
       "      <td>2.0</td>\n",
       "      <td>15.0</td>\n",
       "      <td>27.0</td>\n",
       "      <td>32.0</td>\n",
       "      <td>38.00</td>\n",
       "      <td>53.00</td>\n",
       "      <td>135.0</td>\n",
       "      <td>2.81</td>\n",
       "      <td>0.0</td>\n",
       "      <td>32.0</td>\n",
       "    </tr>\n",
       "    <tr>\n",
       "      <th>6</th>\n",
       "      <td>login_count_last_10_days</td>\n",
       "      <td>0.0</td>\n",
       "      <td>0.0</td>\n",
       "      <td>0.0</td>\n",
       "      <td>0.0</td>\n",
       "      <td>0.0</td>\n",
       "      <td>0.0</td>\n",
       "      <td>3.0</td>\n",
       "      <td>23.0</td>\n",
       "      <td>41.0</td>\n",
       "      <td>48.0</td>\n",
       "      <td>62.00</td>\n",
       "      <td>120.00</td>\n",
       "      <td>254.0</td>\n",
       "      <td>3.60</td>\n",
       "      <td>0.0</td>\n",
       "      <td>48.0</td>\n",
       "    </tr>\n",
       "    <tr>\n",
       "      <th>7</th>\n",
       "      <td>login_count_last_30_days</td>\n",
       "      <td>0.0</td>\n",
       "      <td>0.0</td>\n",
       "      <td>0.0</td>\n",
       "      <td>0.0</td>\n",
       "      <td>0.0</td>\n",
       "      <td>0.0</td>\n",
       "      <td>11.0</td>\n",
       "      <td>67.0</td>\n",
       "      <td>116.0</td>\n",
       "      <td>137.0</td>\n",
       "      <td>176.62</td>\n",
       "      <td>341.00</td>\n",
       "      <td>735.0</td>\n",
       "      <td>3.52</td>\n",
       "      <td>0.0</td>\n",
       "      <td>137.0</td>\n",
       "    </tr>\n",
       "    <tr>\n",
       "      <th>8</th>\n",
       "      <td>login_count_last_60_days</td>\n",
       "      <td>0.0</td>\n",
       "      <td>0.0</td>\n",
       "      <td>0.0</td>\n",
       "      <td>0.0</td>\n",
       "      <td>0.0</td>\n",
       "      <td>0.0</td>\n",
       "      <td>22.0</td>\n",
       "      <td>128.0</td>\n",
       "      <td>222.0</td>\n",
       "      <td>262.0</td>\n",
       "      <td>336.00</td>\n",
       "      <td>633.46</td>\n",
       "      <td>1260.0</td>\n",
       "      <td>3.47</td>\n",
       "      <td>0.0</td>\n",
       "      <td>262.0</td>\n",
       "    </tr>\n",
       "    <tr>\n",
       "      <th>9</th>\n",
       "      <td>checkout_count_last_10_days</td>\n",
       "      <td>0.0</td>\n",
       "      <td>0.0</td>\n",
       "      <td>0.0</td>\n",
       "      <td>0.0</td>\n",
       "      <td>0.0</td>\n",
       "      <td>0.0</td>\n",
       "      <td>0.0</td>\n",
       "      <td>3.0</td>\n",
       "      <td>6.0</td>\n",
       "      <td>8.0</td>\n",
       "      <td>11.00</td>\n",
       "      <td>33.00</td>\n",
       "      <td>157.0</td>\n",
       "      <td>13.13</td>\n",
       "      <td>0.0</td>\n",
       "      <td>6.0</td>\n",
       "    </tr>\n",
       "    <tr>\n",
       "      <th>10</th>\n",
       "      <td>checkout_count_last_30_days</td>\n",
       "      <td>0.0</td>\n",
       "      <td>0.0</td>\n",
       "      <td>0.0</td>\n",
       "      <td>0.0</td>\n",
       "      <td>0.0</td>\n",
       "      <td>0.0</td>\n",
       "      <td>0.0</td>\n",
       "      <td>7.0</td>\n",
       "      <td>17.0</td>\n",
       "      <td>21.0</td>\n",
       "      <td>31.00</td>\n",
       "      <td>89.46</td>\n",
       "      <td>531.0</td>\n",
       "      <td>14.25</td>\n",
       "      <td>0.0</td>\n",
       "      <td>17.0</td>\n",
       "    </tr>\n",
       "    <tr>\n",
       "      <th>11</th>\n",
       "      <td>checkout_count_last_60_days</td>\n",
       "      <td>0.0</td>\n",
       "      <td>0.0</td>\n",
       "      <td>0.0</td>\n",
       "      <td>0.0</td>\n",
       "      <td>0.0</td>\n",
       "      <td>0.0</td>\n",
       "      <td>1.0</td>\n",
       "      <td>14.0</td>\n",
       "      <td>31.0</td>\n",
       "      <td>40.0</td>\n",
       "      <td>55.00</td>\n",
       "      <td>168.46</td>\n",
       "      <td>783.0</td>\n",
       "      <td>12.87</td>\n",
       "      <td>0.0</td>\n",
       "      <td>31.0</td>\n",
       "    </tr>\n",
       "  </tbody>\n",
       "</table>\n",
       "</div>"
      ],
      "text/plain": [
       "                           衡量變數   min  p_0.001  p_0.01  p_0.02  p_0.03  p_0.1  \\\n",
       "0                 last_open_day -20.0    -20.0   -20.0   -20.0   -20.0  -20.0   \n",
       "1                last_login_day -20.0    -20.0     0.0     1.0     1.0    1.0   \n",
       "2             last_checkout_day -20.0    -20.0   -20.0   -20.0   -20.0  -20.0   \n",
       "3       open_count_last_10_days   0.0      0.0     0.0     0.0     0.0    0.0   \n",
       "4       open_count_last_30_days   0.0      0.0     0.0     0.0     0.0    0.0   \n",
       "5       open_count_last_60_days   0.0      0.0     0.0     0.0     0.0    0.0   \n",
       "6      login_count_last_10_days   0.0      0.0     0.0     0.0     0.0    0.0   \n",
       "7      login_count_last_30_days   0.0      0.0     0.0     0.0     0.0    0.0   \n",
       "8      login_count_last_60_days   0.0      0.0     0.0     0.0     0.0    0.0   \n",
       "9   checkout_count_last_10_days   0.0      0.0     0.0     0.0     0.0    0.0   \n",
       "10  checkout_count_last_30_days   0.0      0.0     0.0     0.0     0.0    0.0   \n",
       "11  checkout_count_last_60_days   0.0      0.0     0.0     0.0     0.0    0.0   \n",
       "\n",
       "    p_0.5  p_0.9  p_0.97  p_0.98  p_0.99  p_0.999     max   skew    lb     ub  \n",
       "0    12.0   75.0   149.0   183.0  268.00   365.00   365.0   3.39 -20.0  183.0  \n",
       "1     8.0  140.0   365.0   365.0  365.00   365.00   365.0   2.73   1.0  365.0  \n",
       "2    12.0  170.0   365.0   365.0  365.00   365.00   365.0   2.21 -20.0  365.0  \n",
       "3     0.0    3.0     6.0     7.0    8.00    11.00    31.0   2.79   0.0    7.0  \n",
       "4     1.0    8.0    16.0    18.0   22.00    29.00    92.0   2.77   0.0   18.0  \n",
       "5     2.0   15.0    27.0    32.0   38.00    53.00   135.0   2.81   0.0   32.0  \n",
       "6     3.0   23.0    41.0    48.0   62.00   120.00   254.0   3.60   0.0   48.0  \n",
       "7    11.0   67.0   116.0   137.0  176.62   341.00   735.0   3.52   0.0  137.0  \n",
       "8    22.0  128.0   222.0   262.0  336.00   633.46  1260.0   3.47   0.0  262.0  \n",
       "9     0.0    3.0     6.0     8.0   11.00    33.00   157.0  13.13   0.0    6.0  \n",
       "10    0.0    7.0    17.0    21.0   31.00    89.46   531.0  14.25   0.0   17.0  \n",
       "11    1.0   14.0    31.0    40.0   55.00   168.46   783.0  12.87   0.0   31.0  "
      ]
     },
     "execution_count": 90,
     "metadata": {},
     "output_type": "execute_result"
    }
   ],
   "source": [
    "qtile.round(2)"
   ]
  },
  {
   "cell_type": "code",
   "execution_count": 91,
   "id": "95a6d511",
   "metadata": {},
   "outputs": [],
   "source": [
    "winsor_data = df"
   ]
  },
  {
   "cell_type": "code",
   "execution_count": 92,
   "id": "52e7d946",
   "metadata": {},
   "outputs": [
    {
     "data": {
      "text/plain": [
       "-20.0"
      ]
     },
     "execution_count": 92,
     "metadata": {},
     "output_type": "execute_result"
    }
   ],
   "source": [
    "qtile.loc[0,'lb']"
   ]
  },
  {
   "cell_type": "code",
   "execution_count": 93,
   "id": "9e5b1f54",
   "metadata": {},
   "outputs": [],
   "source": [
    "count = 0\n",
    "for i in variables:\n",
    "    b1=winsor_data[i]\n",
    "    b21=np.where(b1<qtile.loc[count,'lb'],qtile.loc[count,'lb'],b1)\n",
    "    b22=np.where(b21>qtile.loc[count,'ub'],qtile.loc[count,'ub'],b21)\n",
    "    count += 1\n",
    "    winsor_data[i]=pd.DataFrame(b22)   "
   ]
  },
  {
   "cell_type": "code",
   "execution_count": 94,
   "id": "d3d9316f",
   "metadata": {
    "scrolled": true
   },
   "outputs": [
    {
     "data": {
      "text/html": [
       "<div>\n",
       "<style scoped>\n",
       "    .dataframe tbody tr th:only-of-type {\n",
       "        vertical-align: middle;\n",
       "    }\n",
       "\n",
       "    .dataframe tbody tr th {\n",
       "        vertical-align: top;\n",
       "    }\n",
       "\n",
       "    .dataframe thead th {\n",
       "        text-align: right;\n",
       "    }\n",
       "</style>\n",
       "<table border=\"1\" class=\"dataframe\">\n",
       "  <thead>\n",
       "    <tr style=\"text-align: right;\">\n",
       "      <th></th>\n",
       "      <th>country_code</th>\n",
       "      <th>grass_date</th>\n",
       "      <th>user_id</th>\n",
       "      <th>subject_line_length</th>\n",
       "      <th>last_open_day</th>\n",
       "      <th>last_login_day</th>\n",
       "      <th>last_checkout_day</th>\n",
       "      <th>open_count_last_10_days</th>\n",
       "      <th>open_count_last_30_days</th>\n",
       "      <th>open_count_last_60_days</th>\n",
       "      <th>login_count_last_10_days</th>\n",
       "      <th>login_count_last_30_days</th>\n",
       "      <th>login_count_last_60_days</th>\n",
       "      <th>checkout_count_last_10_days</th>\n",
       "      <th>checkout_count_last_30_days</th>\n",
       "      <th>checkout_count_last_60_days</th>\n",
       "      <th>open_flag</th>\n",
       "      <th>row_id</th>\n",
       "    </tr>\n",
       "  </thead>\n",
       "  <tbody>\n",
       "    <tr>\n",
       "      <th>0</th>\n",
       "      <td>4</td>\n",
       "      <td>2019-07-16 00:00:00+08:00</td>\n",
       "      <td>43</td>\n",
       "      <td>44</td>\n",
       "      <td>19.0</td>\n",
       "      <td>6.0</td>\n",
       "      <td>18.0</td>\n",
       "      <td>0.0</td>\n",
       "      <td>2.0</td>\n",
       "      <td>4.0</td>\n",
       "      <td>12.0</td>\n",
       "      <td>43.0</td>\n",
       "      <td>99.0</td>\n",
       "      <td>0.0</td>\n",
       "      <td>5.0</td>\n",
       "      <td>10.0</td>\n",
       "      <td>0</td>\n",
       "      <td>0</td>\n",
       "    </tr>\n",
       "    <tr>\n",
       "      <th>1</th>\n",
       "      <td>4</td>\n",
       "      <td>2019-07-16 00:00:00+08:00</td>\n",
       "      <td>102</td>\n",
       "      <td>44</td>\n",
       "      <td>9.0</td>\n",
       "      <td>4.0</td>\n",
       "      <td>8.0</td>\n",
       "      <td>2.0</td>\n",
       "      <td>9.0</td>\n",
       "      <td>17.0</td>\n",
       "      <td>18.0</td>\n",
       "      <td>48.0</td>\n",
       "      <td>90.0</td>\n",
       "      <td>1.0</td>\n",
       "      <td>1.0</td>\n",
       "      <td>4.0</td>\n",
       "      <td>1</td>\n",
       "      <td>1</td>\n",
       "    </tr>\n",
       "    <tr>\n",
       "      <th>2</th>\n",
       "      <td>6</td>\n",
       "      <td>2019-07-16 00:00:00+08:00</td>\n",
       "      <td>177</td>\n",
       "      <td>49</td>\n",
       "      <td>14.0</td>\n",
       "      <td>5.0</td>\n",
       "      <td>5.0</td>\n",
       "      <td>0.0</td>\n",
       "      <td>4.0</td>\n",
       "      <td>12.0</td>\n",
       "      <td>24.0</td>\n",
       "      <td>69.0</td>\n",
       "      <td>119.0</td>\n",
       "      <td>5.0</td>\n",
       "      <td>17.0</td>\n",
       "      <td>27.0</td>\n",
       "      <td>0</td>\n",
       "      <td>2</td>\n",
       "    </tr>\n",
       "    <tr>\n",
       "      <th>3</th>\n",
       "      <td>1</td>\n",
       "      <td>2019-07-16 00:00:00+08:00</td>\n",
       "      <td>184</td>\n",
       "      <td>49</td>\n",
       "      <td>49.0</td>\n",
       "      <td>9.0</td>\n",
       "      <td>53.0</td>\n",
       "      <td>0.0</td>\n",
       "      <td>0.0</td>\n",
       "      <td>1.0</td>\n",
       "      <td>9.0</td>\n",
       "      <td>23.0</td>\n",
       "      <td>69.0</td>\n",
       "      <td>1.0</td>\n",
       "      <td>3.0</td>\n",
       "      <td>6.0</td>\n",
       "      <td>0</td>\n",
       "      <td>3</td>\n",
       "    </tr>\n",
       "    <tr>\n",
       "      <th>4</th>\n",
       "      <td>6</td>\n",
       "      <td>2019-07-16 00:00:00+08:00</td>\n",
       "      <td>221</td>\n",
       "      <td>49</td>\n",
       "      <td>183.0</td>\n",
       "      <td>6.0</td>\n",
       "      <td>221.0</td>\n",
       "      <td>0.0</td>\n",
       "      <td>0.0</td>\n",
       "      <td>0.0</td>\n",
       "      <td>2.0</td>\n",
       "      <td>5.0</td>\n",
       "      <td>5.0</td>\n",
       "      <td>0.0</td>\n",
       "      <td>0.0</td>\n",
       "      <td>0.0</td>\n",
       "      <td>0</td>\n",
       "      <td>4</td>\n",
       "    </tr>\n",
       "    <tr>\n",
       "      <th>...</th>\n",
       "      <td>...</td>\n",
       "      <td>...</td>\n",
       "      <td>...</td>\n",
       "      <td>...</td>\n",
       "      <td>...</td>\n",
       "      <td>...</td>\n",
       "      <td>...</td>\n",
       "      <td>...</td>\n",
       "      <td>...</td>\n",
       "      <td>...</td>\n",
       "      <td>...</td>\n",
       "      <td>...</td>\n",
       "      <td>...</td>\n",
       "      <td>...</td>\n",
       "      <td>...</td>\n",
       "      <td>...</td>\n",
       "      <td>...</td>\n",
       "      <td>...</td>\n",
       "    </tr>\n",
       "    <tr>\n",
       "      <th>73534</th>\n",
       "      <td>6</td>\n",
       "      <td>2019-09-02 00:00:00+08:00</td>\n",
       "      <td>127613</td>\n",
       "      <td>39</td>\n",
       "      <td>24.0</td>\n",
       "      <td>36.0</td>\n",
       "      <td>279.0</td>\n",
       "      <td>0.0</td>\n",
       "      <td>1.0</td>\n",
       "      <td>1.0</td>\n",
       "      <td>0.0</td>\n",
       "      <td>0.0</td>\n",
       "      <td>0.0</td>\n",
       "      <td>0.0</td>\n",
       "      <td>0.0</td>\n",
       "      <td>0.0</td>\n",
       "      <td>0</td>\n",
       "      <td>73534</td>\n",
       "    </tr>\n",
       "    <tr>\n",
       "      <th>73535</th>\n",
       "      <td>2</td>\n",
       "      <td>2019-09-02 00:00:00+08:00</td>\n",
       "      <td>127620</td>\n",
       "      <td>38</td>\n",
       "      <td>46.0</td>\n",
       "      <td>10.0</td>\n",
       "      <td>51.0</td>\n",
       "      <td>0.0</td>\n",
       "      <td>0.0</td>\n",
       "      <td>1.0</td>\n",
       "      <td>0.0</td>\n",
       "      <td>0.0</td>\n",
       "      <td>0.0</td>\n",
       "      <td>0.0</td>\n",
       "      <td>0.0</td>\n",
       "      <td>0.0</td>\n",
       "      <td>0</td>\n",
       "      <td>73535</td>\n",
       "    </tr>\n",
       "    <tr>\n",
       "      <th>73536</th>\n",
       "      <td>2</td>\n",
       "      <td>2019-09-02 00:00:00+08:00</td>\n",
       "      <td>127696</td>\n",
       "      <td>32</td>\n",
       "      <td>-20.0</td>\n",
       "      <td>1.0</td>\n",
       "      <td>-20.0</td>\n",
       "      <td>0.0</td>\n",
       "      <td>0.0</td>\n",
       "      <td>0.0</td>\n",
       "      <td>0.0</td>\n",
       "      <td>0.0</td>\n",
       "      <td>0.0</td>\n",
       "      <td>0.0</td>\n",
       "      <td>0.0</td>\n",
       "      <td>0.0</td>\n",
       "      <td>0</td>\n",
       "      <td>73536</td>\n",
       "    </tr>\n",
       "    <tr>\n",
       "      <th>73537</th>\n",
       "      <td>2</td>\n",
       "      <td>2019-09-02 00:00:00+08:00</td>\n",
       "      <td>127807</td>\n",
       "      <td>38</td>\n",
       "      <td>5.0</td>\n",
       "      <td>34.0</td>\n",
       "      <td>-20.0</td>\n",
       "      <td>2.0</td>\n",
       "      <td>4.0</td>\n",
       "      <td>4.0</td>\n",
       "      <td>0.0</td>\n",
       "      <td>0.0</td>\n",
       "      <td>0.0</td>\n",
       "      <td>0.0</td>\n",
       "      <td>0.0</td>\n",
       "      <td>0.0</td>\n",
       "      <td>1</td>\n",
       "      <td>73537</td>\n",
       "    </tr>\n",
       "    <tr>\n",
       "      <th>73538</th>\n",
       "      <td>6</td>\n",
       "      <td>2019-09-02 00:00:00+08:00</td>\n",
       "      <td>127880</td>\n",
       "      <td>39</td>\n",
       "      <td>1.0</td>\n",
       "      <td>3.0</td>\n",
       "      <td>-20.0</td>\n",
       "      <td>2.0</td>\n",
       "      <td>2.0</td>\n",
       "      <td>3.0</td>\n",
       "      <td>0.0</td>\n",
       "      <td>0.0</td>\n",
       "      <td>0.0</td>\n",
       "      <td>0.0</td>\n",
       "      <td>0.0</td>\n",
       "      <td>0.0</td>\n",
       "      <td>0</td>\n",
       "      <td>73538</td>\n",
       "    </tr>\n",
       "  </tbody>\n",
       "</table>\n",
       "<p>73539 rows × 18 columns</p>\n",
       "</div>"
      ],
      "text/plain": [
       "       country_code                 grass_date  user_id  subject_line_length  \\\n",
       "0                 4  2019-07-16 00:00:00+08:00       43                   44   \n",
       "1                 4  2019-07-16 00:00:00+08:00      102                   44   \n",
       "2                 6  2019-07-16 00:00:00+08:00      177                   49   \n",
       "3                 1  2019-07-16 00:00:00+08:00      184                   49   \n",
       "4                 6  2019-07-16 00:00:00+08:00      221                   49   \n",
       "...             ...                        ...      ...                  ...   \n",
       "73534             6  2019-09-02 00:00:00+08:00   127613                   39   \n",
       "73535             2  2019-09-02 00:00:00+08:00   127620                   38   \n",
       "73536             2  2019-09-02 00:00:00+08:00   127696                   32   \n",
       "73537             2  2019-09-02 00:00:00+08:00   127807                   38   \n",
       "73538             6  2019-09-02 00:00:00+08:00   127880                   39   \n",
       "\n",
       "       last_open_day  last_login_day  last_checkout_day  \\\n",
       "0               19.0             6.0               18.0   \n",
       "1                9.0             4.0                8.0   \n",
       "2               14.0             5.0                5.0   \n",
       "3               49.0             9.0               53.0   \n",
       "4              183.0             6.0              221.0   \n",
       "...              ...             ...                ...   \n",
       "73534           24.0            36.0              279.0   \n",
       "73535           46.0            10.0               51.0   \n",
       "73536          -20.0             1.0              -20.0   \n",
       "73537            5.0            34.0              -20.0   \n",
       "73538            1.0             3.0              -20.0   \n",
       "\n",
       "       open_count_last_10_days  open_count_last_30_days  \\\n",
       "0                          0.0                      2.0   \n",
       "1                          2.0                      9.0   \n",
       "2                          0.0                      4.0   \n",
       "3                          0.0                      0.0   \n",
       "4                          0.0                      0.0   \n",
       "...                        ...                      ...   \n",
       "73534                      0.0                      1.0   \n",
       "73535                      0.0                      0.0   \n",
       "73536                      0.0                      0.0   \n",
       "73537                      2.0                      4.0   \n",
       "73538                      2.0                      2.0   \n",
       "\n",
       "       open_count_last_60_days  login_count_last_10_days  \\\n",
       "0                          4.0                      12.0   \n",
       "1                         17.0                      18.0   \n",
       "2                         12.0                      24.0   \n",
       "3                          1.0                       9.0   \n",
       "4                          0.0                       2.0   \n",
       "...                        ...                       ...   \n",
       "73534                      1.0                       0.0   \n",
       "73535                      1.0                       0.0   \n",
       "73536                      0.0                       0.0   \n",
       "73537                      4.0                       0.0   \n",
       "73538                      3.0                       0.0   \n",
       "\n",
       "       login_count_last_30_days  login_count_last_60_days  \\\n",
       "0                          43.0                      99.0   \n",
       "1                          48.0                      90.0   \n",
       "2                          69.0                     119.0   \n",
       "3                          23.0                      69.0   \n",
       "4                           5.0                       5.0   \n",
       "...                         ...                       ...   \n",
       "73534                       0.0                       0.0   \n",
       "73535                       0.0                       0.0   \n",
       "73536                       0.0                       0.0   \n",
       "73537                       0.0                       0.0   \n",
       "73538                       0.0                       0.0   \n",
       "\n",
       "       checkout_count_last_10_days  checkout_count_last_30_days  \\\n",
       "0                              0.0                          5.0   \n",
       "1                              1.0                          1.0   \n",
       "2                              5.0                         17.0   \n",
       "3                              1.0                          3.0   \n",
       "4                              0.0                          0.0   \n",
       "...                            ...                          ...   \n",
       "73534                          0.0                          0.0   \n",
       "73535                          0.0                          0.0   \n",
       "73536                          0.0                          0.0   \n",
       "73537                          0.0                          0.0   \n",
       "73538                          0.0                          0.0   \n",
       "\n",
       "       checkout_count_last_60_days  open_flag  row_id  \n",
       "0                             10.0          0       0  \n",
       "1                              4.0          1       1  \n",
       "2                             27.0          0       2  \n",
       "3                              6.0          0       3  \n",
       "4                              0.0          0       4  \n",
       "...                            ...        ...     ...  \n",
       "73534                          0.0          0   73534  \n",
       "73535                          0.0          0   73535  \n",
       "73536                          0.0          0   73536  \n",
       "73537                          0.0          1   73537  \n",
       "73538                          0.0          0   73538  \n",
       "\n",
       "[73539 rows x 18 columns]"
      ]
     },
     "execution_count": 94,
     "metadata": {},
     "output_type": "execute_result"
    }
   ],
   "source": [
    "winsor_data"
   ]
  },
  {
   "cell_type": "code",
   "execution_count": 95,
   "id": "4f0560f9",
   "metadata": {},
   "outputs": [],
   "source": [
    "bb=[]\n",
    "for i in variables:\n",
    "    data1=winsor_data[i][winsor_data.open_flag ==0]\n",
    "    data2=winsor_data[i][winsor_data.open_flag ==1]\n",
    "    cnt1=data1.count()\n",
    "    cnt2=data2.count()\n",
    "    median1=data1.median()\n",
    "    median2=data2.median()\n",
    "    mean1=data1.mean()\n",
    "    mean2=data2.mean()\n",
    "    std1=data1.std()\n",
    "    std2=data2.std()\n",
    "    modified_std1=np.sqrt(cnt1/(cnt1-1))*std1\n",
    "    modified_std2=np.sqrt(cnt2/(cnt2-1))*std2\n",
    "    stat, p= ss.ttest_ind_from_stats(mean1=mean1,std1=modified_std1,nobs1=cnt1,\n",
    "                                    mean2=mean2,std2=modified_std2,nobs2=cnt2)\n",
    "    bb.append([i,cnt1,cnt2,median1,median2,mean1,mean2,stat.round(3),p.round(5)])"
   ]
  },
  {
   "cell_type": "code",
   "execution_count": 96,
   "id": "e3ee9b22",
   "metadata": {},
   "outputs": [],
   "source": [
    "winsor_result = pd.DataFrame(bb)"
   ]
  },
  {
   "cell_type": "code",
   "execution_count": 97,
   "id": "bd038ebf",
   "metadata": {},
   "outputs": [],
   "source": [
    "winsor_result.columns=['衡量變數','沒開信使用者筆數','有開信使用者筆數',\n",
    "                       '沒開信使用者中位數','有開信使用者中位數',\n",
    "                       '沒開信使用者平均數','有開信使用者平均數','T統計值','p值']"
   ]
  },
  {
   "cell_type": "code",
   "execution_count": 98,
   "id": "4c634cad",
   "metadata": {},
   "outputs": [
    {
     "data": {
      "text/html": [
       "<div>\n",
       "<style scoped>\n",
       "    .dataframe tbody tr th:only-of-type {\n",
       "        vertical-align: middle;\n",
       "    }\n",
       "\n",
       "    .dataframe tbody tr th {\n",
       "        vertical-align: top;\n",
       "    }\n",
       "\n",
       "    .dataframe thead th {\n",
       "        text-align: right;\n",
       "    }\n",
       "</style>\n",
       "<table border=\"1\" class=\"dataframe\">\n",
       "  <thead>\n",
       "    <tr style=\"text-align: right;\">\n",
       "      <th></th>\n",
       "      <th>衡量變數</th>\n",
       "      <th>沒開信使用者筆數</th>\n",
       "      <th>有開信使用者筆數</th>\n",
       "      <th>沒開信使用者中位數</th>\n",
       "      <th>有開信使用者中位數</th>\n",
       "      <th>沒開信使用者平均數</th>\n",
       "      <th>有開信使用者平均數</th>\n",
       "      <th>T統計值</th>\n",
       "      <th>p值</th>\n",
       "    </tr>\n",
       "  </thead>\n",
       "  <tbody>\n",
       "    <tr>\n",
       "      <th>0</th>\n",
       "      <td>last_open_day</td>\n",
       "      <td>62083</td>\n",
       "      <td>11456</td>\n",
       "      <td>15.0</td>\n",
       "      <td>3.0</td>\n",
       "      <td>27.806501</td>\n",
       "      <td>9.400925</td>\n",
       "      <td>45.317</td>\n",
       "      <td>0.00000</td>\n",
       "    </tr>\n",
       "    <tr>\n",
       "      <th>1</th>\n",
       "      <td>last_login_day</td>\n",
       "      <td>62083</td>\n",
       "      <td>11456</td>\n",
       "      <td>8.0</td>\n",
       "      <td>7.0</td>\n",
       "      <td>42.326740</td>\n",
       "      <td>41.212902</td>\n",
       "      <td>1.288</td>\n",
       "      <td>0.19789</td>\n",
       "    </tr>\n",
       "    <tr>\n",
       "      <th>2</th>\n",
       "      <td>last_checkout_day</td>\n",
       "      <td>62083</td>\n",
       "      <td>11456</td>\n",
       "      <td>12.0</td>\n",
       "      <td>12.0</td>\n",
       "      <td>45.950067</td>\n",
       "      <td>46.502706</td>\n",
       "      <td>-0.594</td>\n",
       "      <td>0.55252</td>\n",
       "    </tr>\n",
       "    <tr>\n",
       "      <th>3</th>\n",
       "      <td>open_count_last_10_days</td>\n",
       "      <td>62083</td>\n",
       "      <td>11456</td>\n",
       "      <td>0.0</td>\n",
       "      <td>2.0</td>\n",
       "      <td>0.518789</td>\n",
       "      <td>2.842004</td>\n",
       "      <td>-166.298</td>\n",
       "      <td>0.00000</td>\n",
       "    </tr>\n",
       "    <tr>\n",
       "      <th>4</th>\n",
       "      <td>open_count_last_30_days</td>\n",
       "      <td>62083</td>\n",
       "      <td>11456</td>\n",
       "      <td>1.0</td>\n",
       "      <td>7.0</td>\n",
       "      <td>1.767489</td>\n",
       "      <td>7.665590</td>\n",
       "      <td>-163.280</td>\n",
       "      <td>0.00000</td>\n",
       "    </tr>\n",
       "    <tr>\n",
       "      <th>5</th>\n",
       "      <td>open_count_last_60_days</td>\n",
       "      <td>62083</td>\n",
       "      <td>11456</td>\n",
       "      <td>1.0</td>\n",
       "      <td>11.0</td>\n",
       "      <td>3.365656</td>\n",
       "      <td>12.952689</td>\n",
       "      <td>-150.625</td>\n",
       "      <td>0.00000</td>\n",
       "    </tr>\n",
       "    <tr>\n",
       "      <th>6</th>\n",
       "      <td>login_count_last_10_days</td>\n",
       "      <td>62083</td>\n",
       "      <td>11456</td>\n",
       "      <td>3.0</td>\n",
       "      <td>4.0</td>\n",
       "      <td>7.834721</td>\n",
       "      <td>8.476432</td>\n",
       "      <td>-5.695</td>\n",
       "      <td>0.00000</td>\n",
       "    </tr>\n",
       "    <tr>\n",
       "      <th>7</th>\n",
       "      <td>login_count_last_30_days</td>\n",
       "      <td>62083</td>\n",
       "      <td>11456</td>\n",
       "      <td>11.0</td>\n",
       "      <td>13.0</td>\n",
       "      <td>23.827247</td>\n",
       "      <td>25.248167</td>\n",
       "      <td>-4.448</td>\n",
       "      <td>0.00001</td>\n",
       "    </tr>\n",
       "    <tr>\n",
       "      <th>8</th>\n",
       "      <td>login_count_last_60_days</td>\n",
       "      <td>62083</td>\n",
       "      <td>11456</td>\n",
       "      <td>22.0</td>\n",
       "      <td>25.0</td>\n",
       "      <td>46.342622</td>\n",
       "      <td>48.588949</td>\n",
       "      <td>-3.694</td>\n",
       "      <td>0.00022</td>\n",
       "    </tr>\n",
       "    <tr>\n",
       "      <th>9</th>\n",
       "      <td>checkout_count_last_10_days</td>\n",
       "      <td>62083</td>\n",
       "      <td>11456</td>\n",
       "      <td>0.0</td>\n",
       "      <td>0.0</td>\n",
       "      <td>0.710178</td>\n",
       "      <td>0.773045</td>\n",
       "      <td>-4.155</td>\n",
       "      <td>0.00003</td>\n",
       "    </tr>\n",
       "    <tr>\n",
       "      <th>10</th>\n",
       "      <td>checkout_count_last_30_days</td>\n",
       "      <td>62083</td>\n",
       "      <td>11456</td>\n",
       "      <td>0.0</td>\n",
       "      <td>0.0</td>\n",
       "      <td>2.301016</td>\n",
       "      <td>2.423970</td>\n",
       "      <td>-3.013</td>\n",
       "      <td>0.00258</td>\n",
       "    </tr>\n",
       "    <tr>\n",
       "      <th>11</th>\n",
       "      <td>checkout_count_last_60_days</td>\n",
       "      <td>62083</td>\n",
       "      <td>11456</td>\n",
       "      <td>1.0</td>\n",
       "      <td>1.0</td>\n",
       "      <td>4.510140</td>\n",
       "      <td>4.653282</td>\n",
       "      <td>-1.919</td>\n",
       "      <td>0.05503</td>\n",
       "    </tr>\n",
       "  </tbody>\n",
       "</table>\n",
       "</div>"
      ],
      "text/plain": [
       "                           衡量變數  沒開信使用者筆數  有開信使用者筆數  沒開信使用者中位數  有開信使用者中位數  \\\n",
       "0                 last_open_day     62083     11456       15.0        3.0   \n",
       "1                last_login_day     62083     11456        8.0        7.0   \n",
       "2             last_checkout_day     62083     11456       12.0       12.0   \n",
       "3       open_count_last_10_days     62083     11456        0.0        2.0   \n",
       "4       open_count_last_30_days     62083     11456        1.0        7.0   \n",
       "5       open_count_last_60_days     62083     11456        1.0       11.0   \n",
       "6      login_count_last_10_days     62083     11456        3.0        4.0   \n",
       "7      login_count_last_30_days     62083     11456       11.0       13.0   \n",
       "8      login_count_last_60_days     62083     11456       22.0       25.0   \n",
       "9   checkout_count_last_10_days     62083     11456        0.0        0.0   \n",
       "10  checkout_count_last_30_days     62083     11456        0.0        0.0   \n",
       "11  checkout_count_last_60_days     62083     11456        1.0        1.0   \n",
       "\n",
       "    沒開信使用者平均數  有開信使用者平均數     T統計值       p值  \n",
       "0   27.806501   9.400925   45.317  0.00000  \n",
       "1   42.326740  41.212902    1.288  0.19789  \n",
       "2   45.950067  46.502706   -0.594  0.55252  \n",
       "3    0.518789   2.842004 -166.298  0.00000  \n",
       "4    1.767489   7.665590 -163.280  0.00000  \n",
       "5    3.365656  12.952689 -150.625  0.00000  \n",
       "6    7.834721   8.476432   -5.695  0.00000  \n",
       "7   23.827247  25.248167   -4.448  0.00001  \n",
       "8   46.342622  48.588949   -3.694  0.00022  \n",
       "9    0.710178   0.773045   -4.155  0.00003  \n",
       "10   2.301016   2.423970   -3.013  0.00258  \n",
       "11   4.510140   4.653282   -1.919  0.05503  "
      ]
     },
     "execution_count": 98,
     "metadata": {},
     "output_type": "execute_result"
    }
   ],
   "source": [
    "winsor_result"
   ]
  },
  {
   "cell_type": "markdown",
   "id": "40e03d14",
   "metadata": {},
   "source": [
    "After winsorizing the data, we can see that \\\n",
    "`last_checkout_day` and `checkout_count_last_60_days` are not statistically significant."
   ]
  },
  {
   "cell_type": "code",
   "execution_count": 99,
   "id": "9cca1be0",
   "metadata": {},
   "outputs": [],
   "source": [
    "winsor_result['中位數差異']=winsor_result['沒開信使用者中位數']-winsor_result['有開信使用者中位數']"
   ]
  },
  {
   "cell_type": "code",
   "execution_count": 100,
   "id": "b4c11301",
   "metadata": {},
   "outputs": [],
   "source": [
    "winsor_result['統計值方向']=winsor_result['中位數差異'].apply(lambda x: '+' if x>=0 else '-')"
   ]
  },
  {
   "cell_type": "code",
   "execution_count": 101,
   "id": "e3d36c95",
   "metadata": {},
   "outputs": [
    {
     "data": {
      "text/html": [
       "<div>\n",
       "<style scoped>\n",
       "    .dataframe tbody tr th:only-of-type {\n",
       "        vertical-align: middle;\n",
       "    }\n",
       "\n",
       "    .dataframe tbody tr th {\n",
       "        vertical-align: top;\n",
       "    }\n",
       "\n",
       "    .dataframe thead th {\n",
       "        text-align: right;\n",
       "    }\n",
       "</style>\n",
       "<table border=\"1\" class=\"dataframe\">\n",
       "  <thead>\n",
       "    <tr style=\"text-align: right;\">\n",
       "      <th></th>\n",
       "      <th>衡量變數</th>\n",
       "      <th>沒開信使用者筆數</th>\n",
       "      <th>有開信使用者筆數</th>\n",
       "      <th>沒開信使用者中位數</th>\n",
       "      <th>有開信使用者中位數</th>\n",
       "      <th>沒開信使用者平均數</th>\n",
       "      <th>有開信使用者平均數</th>\n",
       "      <th>T統計值</th>\n",
       "      <th>p值</th>\n",
       "      <th>中位數差異</th>\n",
       "      <th>統計值方向</th>\n",
       "    </tr>\n",
       "  </thead>\n",
       "  <tbody>\n",
       "    <tr>\n",
       "      <th>0</th>\n",
       "      <td>last_open_day</td>\n",
       "      <td>62083</td>\n",
       "      <td>11456</td>\n",
       "      <td>15.0</td>\n",
       "      <td>3.0</td>\n",
       "      <td>27.806501</td>\n",
       "      <td>9.400925</td>\n",
       "      <td>45.317</td>\n",
       "      <td>0.00000</td>\n",
       "      <td>12.0</td>\n",
       "      <td>+</td>\n",
       "    </tr>\n",
       "    <tr>\n",
       "      <th>1</th>\n",
       "      <td>last_login_day</td>\n",
       "      <td>62083</td>\n",
       "      <td>11456</td>\n",
       "      <td>8.0</td>\n",
       "      <td>7.0</td>\n",
       "      <td>42.326740</td>\n",
       "      <td>41.212902</td>\n",
       "      <td>1.288</td>\n",
       "      <td>0.19789</td>\n",
       "      <td>1.0</td>\n",
       "      <td>+</td>\n",
       "    </tr>\n",
       "    <tr>\n",
       "      <th>2</th>\n",
       "      <td>last_checkout_day</td>\n",
       "      <td>62083</td>\n",
       "      <td>11456</td>\n",
       "      <td>12.0</td>\n",
       "      <td>12.0</td>\n",
       "      <td>45.950067</td>\n",
       "      <td>46.502706</td>\n",
       "      <td>-0.594</td>\n",
       "      <td>0.55252</td>\n",
       "      <td>0.0</td>\n",
       "      <td>+</td>\n",
       "    </tr>\n",
       "    <tr>\n",
       "      <th>3</th>\n",
       "      <td>open_count_last_10_days</td>\n",
       "      <td>62083</td>\n",
       "      <td>11456</td>\n",
       "      <td>0.0</td>\n",
       "      <td>2.0</td>\n",
       "      <td>0.518789</td>\n",
       "      <td>2.842004</td>\n",
       "      <td>-166.298</td>\n",
       "      <td>0.00000</td>\n",
       "      <td>-2.0</td>\n",
       "      <td>-</td>\n",
       "    </tr>\n",
       "    <tr>\n",
       "      <th>4</th>\n",
       "      <td>open_count_last_30_days</td>\n",
       "      <td>62083</td>\n",
       "      <td>11456</td>\n",
       "      <td>1.0</td>\n",
       "      <td>7.0</td>\n",
       "      <td>1.767489</td>\n",
       "      <td>7.665590</td>\n",
       "      <td>-163.280</td>\n",
       "      <td>0.00000</td>\n",
       "      <td>-6.0</td>\n",
       "      <td>-</td>\n",
       "    </tr>\n",
       "    <tr>\n",
       "      <th>5</th>\n",
       "      <td>open_count_last_60_days</td>\n",
       "      <td>62083</td>\n",
       "      <td>11456</td>\n",
       "      <td>1.0</td>\n",
       "      <td>11.0</td>\n",
       "      <td>3.365656</td>\n",
       "      <td>12.952689</td>\n",
       "      <td>-150.625</td>\n",
       "      <td>0.00000</td>\n",
       "      <td>-10.0</td>\n",
       "      <td>-</td>\n",
       "    </tr>\n",
       "    <tr>\n",
       "      <th>6</th>\n",
       "      <td>login_count_last_10_days</td>\n",
       "      <td>62083</td>\n",
       "      <td>11456</td>\n",
       "      <td>3.0</td>\n",
       "      <td>4.0</td>\n",
       "      <td>7.834721</td>\n",
       "      <td>8.476432</td>\n",
       "      <td>-5.695</td>\n",
       "      <td>0.00000</td>\n",
       "      <td>-1.0</td>\n",
       "      <td>-</td>\n",
       "    </tr>\n",
       "    <tr>\n",
       "      <th>7</th>\n",
       "      <td>login_count_last_30_days</td>\n",
       "      <td>62083</td>\n",
       "      <td>11456</td>\n",
       "      <td>11.0</td>\n",
       "      <td>13.0</td>\n",
       "      <td>23.827247</td>\n",
       "      <td>25.248167</td>\n",
       "      <td>-4.448</td>\n",
       "      <td>0.00001</td>\n",
       "      <td>-2.0</td>\n",
       "      <td>-</td>\n",
       "    </tr>\n",
       "    <tr>\n",
       "      <th>8</th>\n",
       "      <td>login_count_last_60_days</td>\n",
       "      <td>62083</td>\n",
       "      <td>11456</td>\n",
       "      <td>22.0</td>\n",
       "      <td>25.0</td>\n",
       "      <td>46.342622</td>\n",
       "      <td>48.588949</td>\n",
       "      <td>-3.694</td>\n",
       "      <td>0.00022</td>\n",
       "      <td>-3.0</td>\n",
       "      <td>-</td>\n",
       "    </tr>\n",
       "    <tr>\n",
       "      <th>9</th>\n",
       "      <td>checkout_count_last_10_days</td>\n",
       "      <td>62083</td>\n",
       "      <td>11456</td>\n",
       "      <td>0.0</td>\n",
       "      <td>0.0</td>\n",
       "      <td>0.710178</td>\n",
       "      <td>0.773045</td>\n",
       "      <td>-4.155</td>\n",
       "      <td>0.00003</td>\n",
       "      <td>0.0</td>\n",
       "      <td>+</td>\n",
       "    </tr>\n",
       "    <tr>\n",
       "      <th>10</th>\n",
       "      <td>checkout_count_last_30_days</td>\n",
       "      <td>62083</td>\n",
       "      <td>11456</td>\n",
       "      <td>0.0</td>\n",
       "      <td>0.0</td>\n",
       "      <td>2.301016</td>\n",
       "      <td>2.423970</td>\n",
       "      <td>-3.013</td>\n",
       "      <td>0.00258</td>\n",
       "      <td>0.0</td>\n",
       "      <td>+</td>\n",
       "    </tr>\n",
       "    <tr>\n",
       "      <th>11</th>\n",
       "      <td>checkout_count_last_60_days</td>\n",
       "      <td>62083</td>\n",
       "      <td>11456</td>\n",
       "      <td>1.0</td>\n",
       "      <td>1.0</td>\n",
       "      <td>4.510140</td>\n",
       "      <td>4.653282</td>\n",
       "      <td>-1.919</td>\n",
       "      <td>0.05503</td>\n",
       "      <td>0.0</td>\n",
       "      <td>+</td>\n",
       "    </tr>\n",
       "  </tbody>\n",
       "</table>\n",
       "</div>"
      ],
      "text/plain": [
       "                           衡量變數  沒開信使用者筆數  有開信使用者筆數  沒開信使用者中位數  有開信使用者中位數  \\\n",
       "0                 last_open_day     62083     11456       15.0        3.0   \n",
       "1                last_login_day     62083     11456        8.0        7.0   \n",
       "2             last_checkout_day     62083     11456       12.0       12.0   \n",
       "3       open_count_last_10_days     62083     11456        0.0        2.0   \n",
       "4       open_count_last_30_days     62083     11456        1.0        7.0   \n",
       "5       open_count_last_60_days     62083     11456        1.0       11.0   \n",
       "6      login_count_last_10_days     62083     11456        3.0        4.0   \n",
       "7      login_count_last_30_days     62083     11456       11.0       13.0   \n",
       "8      login_count_last_60_days     62083     11456       22.0       25.0   \n",
       "9   checkout_count_last_10_days     62083     11456        0.0        0.0   \n",
       "10  checkout_count_last_30_days     62083     11456        0.0        0.0   \n",
       "11  checkout_count_last_60_days     62083     11456        1.0        1.0   \n",
       "\n",
       "    沒開信使用者平均數  有開信使用者平均數     T統計值       p值  中位數差異 統計值方向  \n",
       "0   27.806501   9.400925   45.317  0.00000   12.0     +  \n",
       "1   42.326740  41.212902    1.288  0.19789    1.0     +  \n",
       "2   45.950067  46.502706   -0.594  0.55252    0.0     +  \n",
       "3    0.518789   2.842004 -166.298  0.00000   -2.0     -  \n",
       "4    1.767489   7.665590 -163.280  0.00000   -6.0     -  \n",
       "5    3.365656  12.952689 -150.625  0.00000  -10.0     -  \n",
       "6    7.834721   8.476432   -5.695  0.00000   -1.0     -  \n",
       "7   23.827247  25.248167   -4.448  0.00001   -2.0     -  \n",
       "8   46.342622  48.588949   -3.694  0.00022   -3.0     -  \n",
       "9    0.710178   0.773045   -4.155  0.00003    0.0     +  \n",
       "10   2.301016   2.423970   -3.013  0.00258    0.0     +  \n",
       "11   4.510140   4.653282   -1.919  0.05503    0.0     +  "
      ]
     },
     "execution_count": 101,
     "metadata": {},
     "output_type": "execute_result"
    }
   ],
   "source": [
    "winsor_result"
   ]
  },
  {
   "cell_type": "code",
   "execution_count": 102,
   "id": "b8a8912f",
   "metadata": {},
   "outputs": [],
   "source": [
    "def f(x):\n",
    "    if x <= 0.001:\n",
    "        return '***'\n",
    "    elif x <=0.005:\n",
    "        return '**'\n",
    "    elif x <=0.01:\n",
    "        return '*'\n",
    "    else:\n",
    "        return ''"
   ]
  },
  {
   "cell_type": "code",
   "execution_count": 103,
   "id": "799a628a",
   "metadata": {},
   "outputs": [],
   "source": [
    "winsor_result['顯著性']=winsor_result['p值'].apply(lambda x:f(x))"
   ]
  },
  {
   "cell_type": "code",
   "execution_count": 104,
   "id": "33e6184e",
   "metadata": {
    "scrolled": true
   },
   "outputs": [
    {
     "data": {
      "text/html": [
       "<div>\n",
       "<style scoped>\n",
       "    .dataframe tbody tr th:only-of-type {\n",
       "        vertical-align: middle;\n",
       "    }\n",
       "\n",
       "    .dataframe tbody tr th {\n",
       "        vertical-align: top;\n",
       "    }\n",
       "\n",
       "    .dataframe thead th {\n",
       "        text-align: right;\n",
       "    }\n",
       "</style>\n",
       "<table border=\"1\" class=\"dataframe\">\n",
       "  <thead>\n",
       "    <tr style=\"text-align: right;\">\n",
       "      <th></th>\n",
       "      <th>衡量變數</th>\n",
       "      <th>沒開信使用者筆數</th>\n",
       "      <th>有開信使用者筆數</th>\n",
       "      <th>沒開信使用者中位數</th>\n",
       "      <th>有開信使用者中位數</th>\n",
       "      <th>沒開信使用者平均數</th>\n",
       "      <th>有開信使用者平均數</th>\n",
       "      <th>T統計值</th>\n",
       "      <th>p值</th>\n",
       "      <th>中位數差異</th>\n",
       "      <th>統計值方向</th>\n",
       "      <th>顯著性</th>\n",
       "    </tr>\n",
       "  </thead>\n",
       "  <tbody>\n",
       "    <tr>\n",
       "      <th>0</th>\n",
       "      <td>last_open_day</td>\n",
       "      <td>62083</td>\n",
       "      <td>11456</td>\n",
       "      <td>15.0</td>\n",
       "      <td>3.0</td>\n",
       "      <td>27.806501</td>\n",
       "      <td>9.400925</td>\n",
       "      <td>45.317</td>\n",
       "      <td>0.00000</td>\n",
       "      <td>12.0</td>\n",
       "      <td>+</td>\n",
       "      <td>***</td>\n",
       "    </tr>\n",
       "    <tr>\n",
       "      <th>1</th>\n",
       "      <td>last_login_day</td>\n",
       "      <td>62083</td>\n",
       "      <td>11456</td>\n",
       "      <td>8.0</td>\n",
       "      <td>7.0</td>\n",
       "      <td>42.326740</td>\n",
       "      <td>41.212902</td>\n",
       "      <td>1.288</td>\n",
       "      <td>0.19789</td>\n",
       "      <td>1.0</td>\n",
       "      <td>+</td>\n",
       "      <td></td>\n",
       "    </tr>\n",
       "    <tr>\n",
       "      <th>2</th>\n",
       "      <td>last_checkout_day</td>\n",
       "      <td>62083</td>\n",
       "      <td>11456</td>\n",
       "      <td>12.0</td>\n",
       "      <td>12.0</td>\n",
       "      <td>45.950067</td>\n",
       "      <td>46.502706</td>\n",
       "      <td>-0.594</td>\n",
       "      <td>0.55252</td>\n",
       "      <td>0.0</td>\n",
       "      <td>+</td>\n",
       "      <td></td>\n",
       "    </tr>\n",
       "    <tr>\n",
       "      <th>3</th>\n",
       "      <td>open_count_last_10_days</td>\n",
       "      <td>62083</td>\n",
       "      <td>11456</td>\n",
       "      <td>0.0</td>\n",
       "      <td>2.0</td>\n",
       "      <td>0.518789</td>\n",
       "      <td>2.842004</td>\n",
       "      <td>-166.298</td>\n",
       "      <td>0.00000</td>\n",
       "      <td>-2.0</td>\n",
       "      <td>-</td>\n",
       "      <td>***</td>\n",
       "    </tr>\n",
       "    <tr>\n",
       "      <th>4</th>\n",
       "      <td>open_count_last_30_days</td>\n",
       "      <td>62083</td>\n",
       "      <td>11456</td>\n",
       "      <td>1.0</td>\n",
       "      <td>7.0</td>\n",
       "      <td>1.767489</td>\n",
       "      <td>7.665590</td>\n",
       "      <td>-163.280</td>\n",
       "      <td>0.00000</td>\n",
       "      <td>-6.0</td>\n",
       "      <td>-</td>\n",
       "      <td>***</td>\n",
       "    </tr>\n",
       "    <tr>\n",
       "      <th>5</th>\n",
       "      <td>open_count_last_60_days</td>\n",
       "      <td>62083</td>\n",
       "      <td>11456</td>\n",
       "      <td>1.0</td>\n",
       "      <td>11.0</td>\n",
       "      <td>3.365656</td>\n",
       "      <td>12.952689</td>\n",
       "      <td>-150.625</td>\n",
       "      <td>0.00000</td>\n",
       "      <td>-10.0</td>\n",
       "      <td>-</td>\n",
       "      <td>***</td>\n",
       "    </tr>\n",
       "    <tr>\n",
       "      <th>6</th>\n",
       "      <td>login_count_last_10_days</td>\n",
       "      <td>62083</td>\n",
       "      <td>11456</td>\n",
       "      <td>3.0</td>\n",
       "      <td>4.0</td>\n",
       "      <td>7.834721</td>\n",
       "      <td>8.476432</td>\n",
       "      <td>-5.695</td>\n",
       "      <td>0.00000</td>\n",
       "      <td>-1.0</td>\n",
       "      <td>-</td>\n",
       "      <td>***</td>\n",
       "    </tr>\n",
       "    <tr>\n",
       "      <th>7</th>\n",
       "      <td>login_count_last_30_days</td>\n",
       "      <td>62083</td>\n",
       "      <td>11456</td>\n",
       "      <td>11.0</td>\n",
       "      <td>13.0</td>\n",
       "      <td>23.827247</td>\n",
       "      <td>25.248167</td>\n",
       "      <td>-4.448</td>\n",
       "      <td>0.00001</td>\n",
       "      <td>-2.0</td>\n",
       "      <td>-</td>\n",
       "      <td>***</td>\n",
       "    </tr>\n",
       "    <tr>\n",
       "      <th>8</th>\n",
       "      <td>login_count_last_60_days</td>\n",
       "      <td>62083</td>\n",
       "      <td>11456</td>\n",
       "      <td>22.0</td>\n",
       "      <td>25.0</td>\n",
       "      <td>46.342622</td>\n",
       "      <td>48.588949</td>\n",
       "      <td>-3.694</td>\n",
       "      <td>0.00022</td>\n",
       "      <td>-3.0</td>\n",
       "      <td>-</td>\n",
       "      <td>***</td>\n",
       "    </tr>\n",
       "    <tr>\n",
       "      <th>9</th>\n",
       "      <td>checkout_count_last_10_days</td>\n",
       "      <td>62083</td>\n",
       "      <td>11456</td>\n",
       "      <td>0.0</td>\n",
       "      <td>0.0</td>\n",
       "      <td>0.710178</td>\n",
       "      <td>0.773045</td>\n",
       "      <td>-4.155</td>\n",
       "      <td>0.00003</td>\n",
       "      <td>0.0</td>\n",
       "      <td>+</td>\n",
       "      <td>***</td>\n",
       "    </tr>\n",
       "    <tr>\n",
       "      <th>10</th>\n",
       "      <td>checkout_count_last_30_days</td>\n",
       "      <td>62083</td>\n",
       "      <td>11456</td>\n",
       "      <td>0.0</td>\n",
       "      <td>0.0</td>\n",
       "      <td>2.301016</td>\n",
       "      <td>2.423970</td>\n",
       "      <td>-3.013</td>\n",
       "      <td>0.00258</td>\n",
       "      <td>0.0</td>\n",
       "      <td>+</td>\n",
       "      <td>**</td>\n",
       "    </tr>\n",
       "    <tr>\n",
       "      <th>11</th>\n",
       "      <td>checkout_count_last_60_days</td>\n",
       "      <td>62083</td>\n",
       "      <td>11456</td>\n",
       "      <td>1.0</td>\n",
       "      <td>1.0</td>\n",
       "      <td>4.510140</td>\n",
       "      <td>4.653282</td>\n",
       "      <td>-1.919</td>\n",
       "      <td>0.05503</td>\n",
       "      <td>0.0</td>\n",
       "      <td>+</td>\n",
       "      <td></td>\n",
       "    </tr>\n",
       "  </tbody>\n",
       "</table>\n",
       "</div>"
      ],
      "text/plain": [
       "                           衡量變數  沒開信使用者筆數  有開信使用者筆數  沒開信使用者中位數  有開信使用者中位數  \\\n",
       "0                 last_open_day     62083     11456       15.0        3.0   \n",
       "1                last_login_day     62083     11456        8.0        7.0   \n",
       "2             last_checkout_day     62083     11456       12.0       12.0   \n",
       "3       open_count_last_10_days     62083     11456        0.0        2.0   \n",
       "4       open_count_last_30_days     62083     11456        1.0        7.0   \n",
       "5       open_count_last_60_days     62083     11456        1.0       11.0   \n",
       "6      login_count_last_10_days     62083     11456        3.0        4.0   \n",
       "7      login_count_last_30_days     62083     11456       11.0       13.0   \n",
       "8      login_count_last_60_days     62083     11456       22.0       25.0   \n",
       "9   checkout_count_last_10_days     62083     11456        0.0        0.0   \n",
       "10  checkout_count_last_30_days     62083     11456        0.0        0.0   \n",
       "11  checkout_count_last_60_days     62083     11456        1.0        1.0   \n",
       "\n",
       "    沒開信使用者平均數  有開信使用者平均數     T統計值       p值  中位數差異 統計值方向  顯著性  \n",
       "0   27.806501   9.400925   45.317  0.00000   12.0     +  ***  \n",
       "1   42.326740  41.212902    1.288  0.19789    1.0     +       \n",
       "2   45.950067  46.502706   -0.594  0.55252    0.0     +       \n",
       "3    0.518789   2.842004 -166.298  0.00000   -2.0     -  ***  \n",
       "4    1.767489   7.665590 -163.280  0.00000   -6.0     -  ***  \n",
       "5    3.365656  12.952689 -150.625  0.00000  -10.0     -  ***  \n",
       "6    7.834721   8.476432   -5.695  0.00000   -1.0     -  ***  \n",
       "7   23.827247  25.248167   -4.448  0.00001   -2.0     -  ***  \n",
       "8   46.342622  48.588949   -3.694  0.00022   -3.0     -  ***  \n",
       "9    0.710178   0.773045   -4.155  0.00003    0.0     +  ***  \n",
       "10   2.301016   2.423970   -3.013  0.00258    0.0     +   **  \n",
       "11   4.510140   4.653282   -1.919  0.05503    0.0     +       "
      ]
     },
     "execution_count": 104,
     "metadata": {},
     "output_type": "execute_result"
    }
   ],
   "source": [
    "winsor_result"
   ]
  },
  {
   "cell_type": "code",
   "execution_count": 105,
   "id": "e71cb48a",
   "metadata": {},
   "outputs": [],
   "source": [
    "corr_profit=winsor_data[variables].corr(method='pearson')"
   ]
  },
  {
   "cell_type": "code",
   "execution_count": 106,
   "id": "71fad9a1",
   "metadata": {},
   "outputs": [
    {
     "data": {
      "text/html": [
       "<style  type=\"text/css\" >\n",
       "#T_c5811_row0_col0,#T_c5811_row1_col1,#T_c5811_row2_col2,#T_c5811_row3_col3,#T_c5811_row4_col4,#T_c5811_row5_col5,#T_c5811_row6_col6,#T_c5811_row7_col7,#T_c5811_row8_col8,#T_c5811_row9_col9,#T_c5811_row10_col10,#T_c5811_row11_col11{\n",
       "            background-color:  #023858;\n",
       "            color:  #f1f1f1;\n",
       "        }#T_c5811_row0_col1,#T_c5811_row3_col7,#T_c5811_row4_col7,#T_c5811_row4_col8{\n",
       "            background-color:  #c4cbe3;\n",
       "            color:  #000000;\n",
       "        }#T_c5811_row0_col2,#T_c5811_row0_col6,#T_c5811_row4_col11,#T_c5811_row5_col1,#T_c5811_row6_col5{\n",
       "            background-color:  #d2d2e7;\n",
       "            color:  #000000;\n",
       "        }#T_c5811_row0_col3,#T_c5811_row0_col4,#T_c5811_row0_col5,#T_c5811_row1_col6,#T_c5811_row1_col7,#T_c5811_row1_col8,#T_c5811_row1_col9,#T_c5811_row1_col10,#T_c5811_row1_col11,#T_c5811_row4_col0,#T_c5811_row7_col1,#T_c5811_row8_col1,#T_c5811_row10_col2,#T_c5811_row11_col2{\n",
       "            background-color:  #fff7fb;\n",
       "            color:  #000000;\n",
       "        }#T_c5811_row0_col7,#T_c5811_row6_col4,#T_c5811_row11_col4{\n",
       "            background-color:  #ced0e6;\n",
       "            color:  #000000;\n",
       "        }#T_c5811_row0_col8{\n",
       "            background-color:  #c8cde4;\n",
       "            color:  #000000;\n",
       "        }#T_c5811_row0_col9{\n",
       "            background-color:  #dfddec;\n",
       "            color:  #000000;\n",
       "        }#T_c5811_row0_col10,#T_c5811_row1_col5,#T_c5811_row2_col3,#T_c5811_row3_col9{\n",
       "            background-color:  #d9d8ea;\n",
       "            color:  #000000;\n",
       "        }#T_c5811_row0_col11,#T_c5811_row2_col5,#T_c5811_row5_col10,#T_c5811_row6_col0,#T_c5811_row9_col0,#T_c5811_row10_col0{\n",
       "            background-color:  #d5d5e8;\n",
       "            color:  #000000;\n",
       "        }#T_c5811_row1_col0,#T_c5811_row7_col4,#T_c5811_row8_col4{\n",
       "            background-color:  #cccfe5;\n",
       "            color:  #000000;\n",
       "        }#T_c5811_row1_col2{\n",
       "            background-color:  #a8bedc;\n",
       "            color:  #000000;\n",
       "        }#T_c5811_row1_col3,#T_c5811_row5_col2{\n",
       "            background-color:  #dcdaeb;\n",
       "            color:  #000000;\n",
       "        }#T_c5811_row1_col4{\n",
       "            background-color:  #d8d7e9;\n",
       "            color:  #000000;\n",
       "        }#T_c5811_row2_col0,#T_c5811_row3_col8,#T_c5811_row5_col7{\n",
       "            background-color:  #c5cce3;\n",
       "            color:  #000000;\n",
       "        }#T_c5811_row2_col1{\n",
       "            background-color:  #94b6d7;\n",
       "            color:  #000000;\n",
       "        }#T_c5811_row2_col4,#T_c5811_row3_col10,#T_c5811_row4_col10,#T_c5811_row7_col0{\n",
       "            background-color:  #d4d4e8;\n",
       "            color:  #000000;\n",
       "        }#T_c5811_row2_col6{\n",
       "            background-color:  #f3edf5;\n",
       "            color:  #000000;\n",
       "        }#T_c5811_row2_col7,#T_c5811_row9_col1{\n",
       "            background-color:  #f2ecf5;\n",
       "            color:  #000000;\n",
       "        }#T_c5811_row2_col8{\n",
       "            background-color:  #f1ebf4;\n",
       "            color:  #000000;\n",
       "        }#T_c5811_row2_col9,#T_c5811_row3_col0,#T_c5811_row5_col0,#T_c5811_row6_col1,#T_c5811_row8_col2,#T_c5811_row9_col2{\n",
       "            background-color:  #fdf5fa;\n",
       "            color:  #000000;\n",
       "        }#T_c5811_row2_col10{\n",
       "            background-color:  #fbf4f9;\n",
       "            color:  #000000;\n",
       "        }#T_c5811_row2_col11{\n",
       "            background-color:  #faf2f8;\n",
       "            color:  #000000;\n",
       "        }#T_c5811_row3_col1,#T_c5811_row9_col5{\n",
       "            background-color:  #d3d4e7;\n",
       "            color:  #000000;\n",
       "        }#T_c5811_row3_col2{\n",
       "            background-color:  #e0dded;\n",
       "            color:  #000000;\n",
       "        }#T_c5811_row3_col4{\n",
       "            background-color:  #045382;\n",
       "            color:  #f1f1f1;\n",
       "        }#T_c5811_row3_col5,#T_c5811_row5_col3{\n",
       "            background-color:  #046299;\n",
       "            color:  #f1f1f1;\n",
       "        }#T_c5811_row3_col6{\n",
       "            background-color:  #c6cce3;\n",
       "            color:  #000000;\n",
       "        }#T_c5811_row3_col11,#T_c5811_row4_col1,#T_c5811_row9_col3,#T_c5811_row10_col3,#T_c5811_row10_col5,#T_c5811_row11_col0,#T_c5811_row11_col3{\n",
       "            background-color:  #d2d3e7;\n",
       "            color:  #000000;\n",
       "        }#T_c5811_row4_col2{\n",
       "            background-color:  #dedcec;\n",
       "            color:  #000000;\n",
       "        }#T_c5811_row4_col3{\n",
       "            background-color:  #045483;\n",
       "            color:  #f1f1f1;\n",
       "        }#T_c5811_row4_col5,#T_c5811_row5_col4,#T_c5811_row6_col7,#T_c5811_row7_col6{\n",
       "            background-color:  #03456c;\n",
       "            color:  #f1f1f1;\n",
       "        }#T_c5811_row4_col6,#T_c5811_row5_col6{\n",
       "            background-color:  #c9cee4;\n",
       "            color:  #000000;\n",
       "        }#T_c5811_row4_col9,#T_c5811_row5_col9{\n",
       "            background-color:  #dad9ea;\n",
       "            color:  #000000;\n",
       "        }#T_c5811_row5_col8{\n",
       "            background-color:  #c2cbe2;\n",
       "            color:  #000000;\n",
       "        }#T_c5811_row5_col11,#T_c5811_row7_col5,#T_c5811_row8_col0,#T_c5811_row8_col3,#T_c5811_row9_col4,#T_c5811_row11_col5{\n",
       "            background-color:  #d1d2e6;\n",
       "            color:  #000000;\n",
       "        }#T_c5811_row6_col2{\n",
       "            background-color:  #fef6fa;\n",
       "            color:  #000000;\n",
       "        }#T_c5811_row6_col3,#T_c5811_row7_col3,#T_c5811_row10_col4{\n",
       "            background-color:  #d0d1e6;\n",
       "            color:  #000000;\n",
       "        }#T_c5811_row6_col8,#T_c5811_row8_col6{\n",
       "            background-color:  #034f7d;\n",
       "            color:  #f1f1f1;\n",
       "        }#T_c5811_row6_col9{\n",
       "            background-color:  #2987bc;\n",
       "            color:  #000000;\n",
       "        }#T_c5811_row6_col10,#T_c5811_row11_col6{\n",
       "            background-color:  #2182b9;\n",
       "            color:  #000000;\n",
       "        }#T_c5811_row6_col11{\n",
       "            background-color:  #2685bb;\n",
       "            color:  #000000;\n",
       "        }#T_c5811_row7_col2{\n",
       "            background-color:  #fef6fb;\n",
       "            color:  #000000;\n",
       "        }#T_c5811_row7_col8,#T_c5811_row8_col7{\n",
       "            background-color:  #023f64;\n",
       "            color:  #f1f1f1;\n",
       "        }#T_c5811_row7_col9{\n",
       "            background-color:  #4094c3;\n",
       "            color:  #000000;\n",
       "        }#T_c5811_row7_col10{\n",
       "            background-color:  #187cb6;\n",
       "            color:  #000000;\n",
       "        }#T_c5811_row7_col11{\n",
       "            background-color:  #167bb6;\n",
       "            color:  #000000;\n",
       "        }#T_c5811_row8_col5{\n",
       "            background-color:  #cdd0e5;\n",
       "            color:  #000000;\n",
       "        }#T_c5811_row8_col9{\n",
       "            background-color:  #4c99c5;\n",
       "            color:  #000000;\n",
       "        }#T_c5811_row8_col10{\n",
       "            background-color:  #2383ba;\n",
       "            color:  #000000;\n",
       "        }#T_c5811_row8_col11,#T_c5811_row10_col7{\n",
       "            background-color:  #1077b4;\n",
       "            color:  #f1f1f1;\n",
       "        }#T_c5811_row9_col6{\n",
       "            background-color:  #2081b9;\n",
       "            color:  #000000;\n",
       "        }#T_c5811_row9_col7{\n",
       "            background-color:  #328dbf;\n",
       "            color:  #000000;\n",
       "        }#T_c5811_row9_col8{\n",
       "            background-color:  #3b92c1;\n",
       "            color:  #000000;\n",
       "        }#T_c5811_row9_col10{\n",
       "            background-color:  #046096;\n",
       "            color:  #f1f1f1;\n",
       "        }#T_c5811_row9_col11{\n",
       "            background-color:  #0569a5;\n",
       "            color:  #f1f1f1;\n",
       "        }#T_c5811_row10_col1{\n",
       "            background-color:  #f7f0f7;\n",
       "            color:  #000000;\n",
       "        }#T_c5811_row10_col6{\n",
       "            background-color:  #1c7fb8;\n",
       "            color:  #000000;\n",
       "        }#T_c5811_row10_col8{\n",
       "            background-color:  #1b7eb7;\n",
       "            color:  #000000;\n",
       "        }#T_c5811_row10_col9{\n",
       "            background-color:  #046097;\n",
       "            color:  #f1f1f1;\n",
       "        }#T_c5811_row10_col11,#T_c5811_row11_col10{\n",
       "            background-color:  #034b76;\n",
       "            color:  #f1f1f1;\n",
       "        }#T_c5811_row11_col1{\n",
       "            background-color:  #f8f1f8;\n",
       "            color:  #000000;\n",
       "        }#T_c5811_row11_col7{\n",
       "            background-color:  #1278b4;\n",
       "            color:  #f1f1f1;\n",
       "        }#T_c5811_row11_col8{\n",
       "            background-color:  #0a73b2;\n",
       "            color:  #f1f1f1;\n",
       "        }#T_c5811_row11_col9{\n",
       "            background-color:  #056ba7;\n",
       "            color:  #f1f1f1;\n",
       "        }</style><table id=\"T_c5811_\" ><thead>    <tr>        <th class=\"blank level0\" ></th>        <th class=\"col_heading level0 col0\" >last_open_day</th>        <th class=\"col_heading level0 col1\" >last_login_day</th>        <th class=\"col_heading level0 col2\" >last_checkout_day</th>        <th class=\"col_heading level0 col3\" >open_count_last_10_days</th>        <th class=\"col_heading level0 col4\" >open_count_last_30_days</th>        <th class=\"col_heading level0 col5\" >open_count_last_60_days</th>        <th class=\"col_heading level0 col6\" >login_count_last_10_days</th>        <th class=\"col_heading level0 col7\" >login_count_last_30_days</th>        <th class=\"col_heading level0 col8\" >login_count_last_60_days</th>        <th class=\"col_heading level0 col9\" >checkout_count_last_10_days</th>        <th class=\"col_heading level0 col10\" >checkout_count_last_30_days</th>        <th class=\"col_heading level0 col11\" >checkout_count_last_60_days</th>    </tr></thead><tbody>\n",
       "                <tr>\n",
       "                        <th id=\"T_c5811_level0_row0\" class=\"row_heading level0 row0\" >last_open_day</th>\n",
       "                        <td id=\"T_c5811_row0_col0\" class=\"data row0 col0\" >1.000</td>\n",
       "                        <td id=\"T_c5811_row0_col1\" class=\"data row0 col1\" >0.049</td>\n",
       "                        <td id=\"T_c5811_row0_col2\" class=\"data row0 col2\" >0.072</td>\n",
       "                        <td id=\"T_c5811_row0_col3\" class=\"data row0 col3\" >-0.271</td>\n",
       "                        <td id=\"T_c5811_row0_col4\" class=\"data row0 col4\" >-0.292</td>\n",
       "                        <td id=\"T_c5811_row0_col5\" class=\"data row0 col5\" >-0.275</td>\n",
       "                        <td id=\"T_c5811_row0_col6\" class=\"data row0 col6\" >0.004</td>\n",
       "                        <td id=\"T_c5811_row0_col7\" class=\"data row0 col7\" >0.009</td>\n",
       "                        <td id=\"T_c5811_row0_col8\" class=\"data row0 col8\" >0.029</td>\n",
       "                        <td id=\"T_c5811_row0_col9\" class=\"data row0 col9\" >0.005</td>\n",
       "                        <td id=\"T_c5811_row0_col10\" class=\"data row0 col10\" >0.004</td>\n",
       "                        <td id=\"T_c5811_row0_col11\" class=\"data row0 col11\" >0.020</td>\n",
       "            </tr>\n",
       "            <tr>\n",
       "                        <th id=\"T_c5811_level0_row1\" class=\"row_heading level0 row1\" >last_login_day</th>\n",
       "                        <td id=\"T_c5811_row1_col0\" class=\"data row1 col0\" >0.049</td>\n",
       "                        <td id=\"T_c5811_row1_col1\" class=\"data row1 col1\" >1.000</td>\n",
       "                        <td id=\"T_c5811_row1_col2\" class=\"data row1 col2\" >0.225</td>\n",
       "                        <td id=\"T_c5811_row1_col3\" class=\"data row1 col3\" >-0.021</td>\n",
       "                        <td id=\"T_c5811_row1_col4\" class=\"data row1 col4\" >-0.014</td>\n",
       "                        <td id=\"T_c5811_row1_col5\" class=\"data row1 col5\" >-0.008</td>\n",
       "                        <td id=\"T_c5811_row1_col6\" class=\"data row1 col6\" >-0.317</td>\n",
       "                        <td id=\"T_c5811_row1_col7\" class=\"data row1 col7\" >-0.334</td>\n",
       "                        <td id=\"T_c5811_row1_col8\" class=\"data row1 col8\" >-0.337</td>\n",
       "                        <td id=\"T_c5811_row1_col9\" class=\"data row1 col9\" >-0.223</td>\n",
       "                        <td id=\"T_c5811_row1_col10\" class=\"data row1 col10\" >-0.259</td>\n",
       "                        <td id=\"T_c5811_row1_col11\" class=\"data row1 col11\" >-0.271</td>\n",
       "            </tr>\n",
       "            <tr>\n",
       "                        <th id=\"T_c5811_level0_row2\" class=\"row_heading level0 row2\" >last_checkout_day</th>\n",
       "                        <td id=\"T_c5811_row2_col0\" class=\"data row2 col0\" >0.072</td>\n",
       "                        <td id=\"T_c5811_row2_col1\" class=\"data row2 col1\" >0.225</td>\n",
       "                        <td id=\"T_c5811_row2_col2\" class=\"data row2 col2\" >1.000</td>\n",
       "                        <td id=\"T_c5811_row2_col3\" class=\"data row2 col3\" >-0.003</td>\n",
       "                        <td id=\"T_c5811_row2_col4\" class=\"data row2 col4\" >0.007</td>\n",
       "                        <td id=\"T_c5811_row2_col5\" class=\"data row2 col5\" >0.015</td>\n",
       "                        <td id=\"T_c5811_row2_col6\" class=\"data row2 col6\" >-0.214</td>\n",
       "                        <td id=\"T_c5811_row2_col7\" class=\"data row2 col7\" >-0.220</td>\n",
       "                        <td id=\"T_c5811_row2_col8\" class=\"data row2 col8\" >-0.211</td>\n",
       "                        <td id=\"T_c5811_row2_col9\" class=\"data row2 col9\" >-0.204</td>\n",
       "                        <td id=\"T_c5811_row2_col10\" class=\"data row2 col10\" >-0.225</td>\n",
       "                        <td id=\"T_c5811_row2_col11\" class=\"data row2 col11\" >-0.224</td>\n",
       "            </tr>\n",
       "            <tr>\n",
       "                        <th id=\"T_c5811_level0_row3\" class=\"row_heading level0 row3\" >open_count_last_10_days</th>\n",
       "                        <td id=\"T_c5811_row3_col0\" class=\"data row3 col0\" >-0.271</td>\n",
       "                        <td id=\"T_c5811_row3_col1\" class=\"data row3 col1\" >-0.021</td>\n",
       "                        <td id=\"T_c5811_row3_col2\" class=\"data row3 col2\" >-0.003</td>\n",
       "                        <td id=\"T_c5811_row3_col3\" class=\"data row3 col3\" >1.000</td>\n",
       "                        <td id=\"T_c5811_row3_col4\" class=\"data row3 col4\" >0.869</td>\n",
       "                        <td id=\"T_c5811_row3_col5\" class=\"data row3 col5\" >0.785</td>\n",
       "                        <td id=\"T_c5811_row3_col6\" class=\"data row3 col6\" >0.050</td>\n",
       "                        <td id=\"T_c5811_row3_col7\" class=\"data row3 col7\" >0.047</td>\n",
       "                        <td id=\"T_c5811_row3_col8\" class=\"data row3 col8\" >0.044</td>\n",
       "                        <td id=\"T_c5811_row3_col9\" class=\"data row3 col9\" >0.036</td>\n",
       "                        <td id=\"T_c5811_row3_col10\" class=\"data row3 col10\" >0.035</td>\n",
       "                        <td id=\"T_c5811_row3_col11\" class=\"data row3 col11\" >0.033</td>\n",
       "            </tr>\n",
       "            <tr>\n",
       "                        <th id=\"T_c5811_level0_row4\" class=\"row_heading level0 row4\" >open_count_last_30_days</th>\n",
       "                        <td id=\"T_c5811_row4_col0\" class=\"data row4 col0\" >-0.292</td>\n",
       "                        <td id=\"T_c5811_row4_col1\" class=\"data row4 col1\" >-0.014</td>\n",
       "                        <td id=\"T_c5811_row4_col2\" class=\"data row4 col2\" >0.007</td>\n",
       "                        <td id=\"T_c5811_row4_col3\" class=\"data row4 col3\" >0.869</td>\n",
       "                        <td id=\"T_c5811_row4_col4\" class=\"data row4 col4\" >1.000</td>\n",
       "                        <td id=\"T_c5811_row4_col5\" class=\"data row4 col5\" >0.936</td>\n",
       "                        <td id=\"T_c5811_row4_col6\" class=\"data row4 col6\" >0.041</td>\n",
       "                        <td id=\"T_c5811_row4_col7\" class=\"data row4 col7\" >0.047</td>\n",
       "                        <td id=\"T_c5811_row4_col8\" class=\"data row4 col8\" >0.048</td>\n",
       "                        <td id=\"T_c5811_row4_col9\" class=\"data row4 col9\" >0.026</td>\n",
       "                        <td id=\"T_c5811_row4_col10\" class=\"data row4 col10\" >0.033</td>\n",
       "                        <td id=\"T_c5811_row4_col11\" class=\"data row4 col11\" >0.037</td>\n",
       "            </tr>\n",
       "            <tr>\n",
       "                        <th id=\"T_c5811_level0_row5\" class=\"row_heading level0 row5\" >open_count_last_60_days</th>\n",
       "                        <td id=\"T_c5811_row5_col0\" class=\"data row5 col0\" >-0.275</td>\n",
       "                        <td id=\"T_c5811_row5_col1\" class=\"data row5 col1\" >-0.008</td>\n",
       "                        <td id=\"T_c5811_row5_col2\" class=\"data row5 col2\" >0.015</td>\n",
       "                        <td id=\"T_c5811_row5_col3\" class=\"data row5 col3\" >0.785</td>\n",
       "                        <td id=\"T_c5811_row5_col4\" class=\"data row5 col4\" >0.936</td>\n",
       "                        <td id=\"T_c5811_row5_col5\" class=\"data row5 col5\" >1.000</td>\n",
       "                        <td id=\"T_c5811_row5_col6\" class=\"data row5 col6\" >0.039</td>\n",
       "                        <td id=\"T_c5811_row5_col7\" class=\"data row5 col7\" >0.044</td>\n",
       "                        <td id=\"T_c5811_row5_col8\" class=\"data row5 col8\" >0.054</td>\n",
       "                        <td id=\"T_c5811_row5_col9\" class=\"data row5 col9\" >0.027</td>\n",
       "                        <td id=\"T_c5811_row5_col10\" class=\"data row5 col10\" >0.031</td>\n",
       "                        <td id=\"T_c5811_row5_col11\" class=\"data row5 col11\" >0.042</td>\n",
       "            </tr>\n",
       "            <tr>\n",
       "                        <th id=\"T_c5811_level0_row6\" class=\"row_heading level0 row6\" >login_count_last_10_days</th>\n",
       "                        <td id=\"T_c5811_row6_col0\" class=\"data row6 col0\" >0.004</td>\n",
       "                        <td id=\"T_c5811_row6_col1\" class=\"data row6 col1\" >-0.317</td>\n",
       "                        <td id=\"T_c5811_row6_col2\" class=\"data row6 col2\" >-0.214</td>\n",
       "                        <td id=\"T_c5811_row6_col3\" class=\"data row6 col3\" >0.050</td>\n",
       "                        <td id=\"T_c5811_row6_col4\" class=\"data row6 col4\" >0.041</td>\n",
       "                        <td id=\"T_c5811_row6_col5\" class=\"data row6 col5\" >0.039</td>\n",
       "                        <td id=\"T_c5811_row6_col6\" class=\"data row6 col6\" >1.000</td>\n",
       "                        <td id=\"T_c5811_row6_col7\" class=\"data row6 col7\" >0.933</td>\n",
       "                        <td id=\"T_c5811_row6_col8\" class=\"data row6 col8\" >0.885</td>\n",
       "                        <td id=\"T_c5811_row6_col9\" class=\"data row6 col9\" >0.581</td>\n",
       "                        <td id=\"T_c5811_row6_col10\" class=\"data row6 col10\" >0.593</td>\n",
       "                        <td id=\"T_c5811_row6_col11\" class=\"data row6 col11\" >0.577</td>\n",
       "            </tr>\n",
       "            <tr>\n",
       "                        <th id=\"T_c5811_level0_row7\" class=\"row_heading level0 row7\" >login_count_last_30_days</th>\n",
       "                        <td id=\"T_c5811_row7_col0\" class=\"data row7 col0\" >0.009</td>\n",
       "                        <td id=\"T_c5811_row7_col1\" class=\"data row7 col1\" >-0.334</td>\n",
       "                        <td id=\"T_c5811_row7_col2\" class=\"data row7 col2\" >-0.220</td>\n",
       "                        <td id=\"T_c5811_row7_col3\" class=\"data row7 col3\" >0.047</td>\n",
       "                        <td id=\"T_c5811_row7_col4\" class=\"data row7 col4\" >0.047</td>\n",
       "                        <td id=\"T_c5811_row7_col5\" class=\"data row7 col5\" >0.044</td>\n",
       "                        <td id=\"T_c5811_row7_col6\" class=\"data row7 col6\" >0.933</td>\n",
       "                        <td id=\"T_c5811_row7_col7\" class=\"data row7 col7\" >1.000</td>\n",
       "                        <td id=\"T_c5811_row7_col8\" class=\"data row7 col8\" >0.961</td>\n",
       "                        <td id=\"T_c5811_row7_col9\" class=\"data row7 col9\" >0.513</td>\n",
       "                        <td id=\"T_c5811_row7_col10\" class=\"data row7 col10\" >0.626</td>\n",
       "                        <td id=\"T_c5811_row7_col11\" class=\"data row7 col11\" >0.624</td>\n",
       "            </tr>\n",
       "            <tr>\n",
       "                        <th id=\"T_c5811_level0_row8\" class=\"row_heading level0 row8\" >login_count_last_60_days</th>\n",
       "                        <td id=\"T_c5811_row8_col0\" class=\"data row8 col0\" >0.029</td>\n",
       "                        <td id=\"T_c5811_row8_col1\" class=\"data row8 col1\" >-0.337</td>\n",
       "                        <td id=\"T_c5811_row8_col2\" class=\"data row8 col2\" >-0.211</td>\n",
       "                        <td id=\"T_c5811_row8_col3\" class=\"data row8 col3\" >0.044</td>\n",
       "                        <td id=\"T_c5811_row8_col4\" class=\"data row8 col4\" >0.048</td>\n",
       "                        <td id=\"T_c5811_row8_col5\" class=\"data row8 col5\" >0.054</td>\n",
       "                        <td id=\"T_c5811_row8_col6\" class=\"data row8 col6\" >0.885</td>\n",
       "                        <td id=\"T_c5811_row8_col7\" class=\"data row8 col7\" >0.961</td>\n",
       "                        <td id=\"T_c5811_row8_col8\" class=\"data row8 col8\" >1.000</td>\n",
       "                        <td id=\"T_c5811_row8_col9\" class=\"data row8 col9\" >0.485</td>\n",
       "                        <td id=\"T_c5811_row8_col10\" class=\"data row8 col10\" >0.590</td>\n",
       "                        <td id=\"T_c5811_row8_col11\" class=\"data row8 col11\" >0.646</td>\n",
       "            </tr>\n",
       "            <tr>\n",
       "                        <th id=\"T_c5811_level0_row9\" class=\"row_heading level0 row9\" >checkout_count_last_10_days</th>\n",
       "                        <td id=\"T_c5811_row9_col0\" class=\"data row9 col0\" >0.005</td>\n",
       "                        <td id=\"T_c5811_row9_col1\" class=\"data row9 col1\" >-0.223</td>\n",
       "                        <td id=\"T_c5811_row9_col2\" class=\"data row9 col2\" >-0.204</td>\n",
       "                        <td id=\"T_c5811_row9_col3\" class=\"data row9 col3\" >0.036</td>\n",
       "                        <td id=\"T_c5811_row9_col4\" class=\"data row9 col4\" >0.026</td>\n",
       "                        <td id=\"T_c5811_row9_col5\" class=\"data row9 col5\" >0.027</td>\n",
       "                        <td id=\"T_c5811_row9_col6\" class=\"data row9 col6\" >0.581</td>\n",
       "                        <td id=\"T_c5811_row9_col7\" class=\"data row9 col7\" >0.513</td>\n",
       "                        <td id=\"T_c5811_row9_col8\" class=\"data row9 col8\" >0.485</td>\n",
       "                        <td id=\"T_c5811_row9_col9\" class=\"data row9 col9\" >1.000</td>\n",
       "                        <td id=\"T_c5811_row9_col10\" class=\"data row9 col10\" >0.803</td>\n",
       "                        <td id=\"T_c5811_row9_col11\" class=\"data row9 col11\" >0.728</td>\n",
       "            </tr>\n",
       "            <tr>\n",
       "                        <th id=\"T_c5811_level0_row10\" class=\"row_heading level0 row10\" >checkout_count_last_30_days</th>\n",
       "                        <td id=\"T_c5811_row10_col0\" class=\"data row10 col0\" >0.004</td>\n",
       "                        <td id=\"T_c5811_row10_col1\" class=\"data row10 col1\" >-0.259</td>\n",
       "                        <td id=\"T_c5811_row10_col2\" class=\"data row10 col2\" >-0.225</td>\n",
       "                        <td id=\"T_c5811_row10_col3\" class=\"data row10 col3\" >0.035</td>\n",
       "                        <td id=\"T_c5811_row10_col4\" class=\"data row10 col4\" >0.033</td>\n",
       "                        <td id=\"T_c5811_row10_col5\" class=\"data row10 col5\" >0.031</td>\n",
       "                        <td id=\"T_c5811_row10_col6\" class=\"data row10 col6\" >0.593</td>\n",
       "                        <td id=\"T_c5811_row10_col7\" class=\"data row10 col7\" >0.626</td>\n",
       "                        <td id=\"T_c5811_row10_col8\" class=\"data row10 col8\" >0.590</td>\n",
       "                        <td id=\"T_c5811_row10_col9\" class=\"data row10 col9\" >0.803</td>\n",
       "                        <td id=\"T_c5811_row10_col10\" class=\"data row10 col10\" >1.000</td>\n",
       "                        <td id=\"T_c5811_row10_col11\" class=\"data row10 col11\" >0.910</td>\n",
       "            </tr>\n",
       "            <tr>\n",
       "                        <th id=\"T_c5811_level0_row11\" class=\"row_heading level0 row11\" >checkout_count_last_60_days</th>\n",
       "                        <td id=\"T_c5811_row11_col0\" class=\"data row11 col0\" >0.020</td>\n",
       "                        <td id=\"T_c5811_row11_col1\" class=\"data row11 col1\" >-0.271</td>\n",
       "                        <td id=\"T_c5811_row11_col2\" class=\"data row11 col2\" >-0.224</td>\n",
       "                        <td id=\"T_c5811_row11_col3\" class=\"data row11 col3\" >0.033</td>\n",
       "                        <td id=\"T_c5811_row11_col4\" class=\"data row11 col4\" >0.037</td>\n",
       "                        <td id=\"T_c5811_row11_col5\" class=\"data row11 col5\" >0.042</td>\n",
       "                        <td id=\"T_c5811_row11_col6\" class=\"data row11 col6\" >0.577</td>\n",
       "                        <td id=\"T_c5811_row11_col7\" class=\"data row11 col7\" >0.624</td>\n",
       "                        <td id=\"T_c5811_row11_col8\" class=\"data row11 col8\" >0.646</td>\n",
       "                        <td id=\"T_c5811_row11_col9\" class=\"data row11 col9\" >0.728</td>\n",
       "                        <td id=\"T_c5811_row11_col10\" class=\"data row11 col10\" >0.910</td>\n",
       "                        <td id=\"T_c5811_row11_col11\" class=\"data row11 col11\" >1.000</td>\n",
       "            </tr>\n",
       "    </tbody></table>"
      ],
      "text/plain": [
       "<pandas.io.formats.style.Styler at 0x2312ca02b80>"
      ]
     },
     "execution_count": 106,
     "metadata": {},
     "output_type": "execute_result"
    }
   ],
   "source": [
    "corr_profit.style.background_gradient().set_precision(3)"
   ]
  },
  {
   "cell_type": "markdown",
   "id": "bdc314fb",
   "metadata": {},
   "source": [
    "After winsorizing the data, the correlation of login_count and checkout_count are still high,\\\n",
    "and the correlation between e-mail and other non-open-e-mail behavior are still low."
   ]
  },
  {
   "cell_type": "markdown",
   "id": "9898c412",
   "metadata": {},
   "source": [
    "# A/B testing"
   ]
  },
  {
   "cell_type": "markdown",
   "id": "6a29592c",
   "metadata": {},
   "source": [
    "We use `test.csv` to be the sample data for the A/B test."
   ]
  },
  {
   "cell_type": "markdown",
   "id": "77a5f7f2",
   "metadata": {},
   "source": [
    "Test variable: subject_line_length\n",
    "Target : Open_flag、checkout_count_last_[10/30/60]_days"
   ]
  },
  {
   "cell_type": "markdown",
   "id": "5da15871",
   "metadata": {},
   "source": [
    "## Since I can not actually conduct A/B test to Shopee users, <br>\n",
    "## I rather make assumptions of A/B test as follows:\n",
    "\n",
    "We use `subject_line_length` to see whether it affects the number of purchases of user. \\\n",
    "The way how we do that is we assume the the users receive e-mail with `subject_line_length` <= 40 as 1 group, \\\n",
    "the others receive e-mail with `subject_line_length` longer than 40 as another group. \\\n",
    "Every other things remain the same, and under the adaquate testing time span, \\\n",
    "we see the result of numbers of purchases of each group and give a conclusion of this test. "
   ]
  },
  {
   "cell_type": "code",
   "execution_count": 107,
   "id": "c7623c40",
   "metadata": {},
   "outputs": [],
   "source": [
    "test_data = pd.read_csv(path+'/'+file[1])"
   ]
  },
  {
   "cell_type": "code",
   "execution_count": 108,
   "id": "6284fa0e",
   "metadata": {},
   "outputs": [
    {
     "name": "stdout",
     "output_type": "stream",
     "text": [
      "<class 'pandas.core.frame.DataFrame'>\n",
      "RangeIndex: 55970 entries, 0 to 55969\n",
      "Data columns (total 17 columns):\n",
      " #   Column                       Non-Null Count  Dtype \n",
      "---  ------                       --------------  ----- \n",
      " 0   country_code                 55970 non-null  int64 \n",
      " 1   grass_date                   55970 non-null  object\n",
      " 2   user_id                      55970 non-null  int64 \n",
      " 3   subject_line_length          55970 non-null  int64 \n",
      " 4   last_open_day                55970 non-null  object\n",
      " 5   last_login_day               55970 non-null  object\n",
      " 6   last_checkout_day            55970 non-null  object\n",
      " 7   open_count_last_10_days      55970 non-null  int64 \n",
      " 8   open_count_last_30_days      55970 non-null  int64 \n",
      " 9   open_count_last_60_days      55970 non-null  int64 \n",
      " 10  login_count_last_10_days     55970 non-null  int64 \n",
      " 11  login_count_last_30_days     55970 non-null  int64 \n",
      " 12  login_count_last_60_days     55970 non-null  int64 \n",
      " 13  checkout_count_last_10_days  55970 non-null  int64 \n",
      " 14  checkout_count_last_30_days  55970 non-null  int64 \n",
      " 15  checkout_count_last_60_days  55970 non-null  int64 \n",
      " 16  row_id                       55970 non-null  int64 \n",
      "dtypes: int64(13), object(4)\n",
      "memory usage: 7.3+ MB\n"
     ]
    }
   ],
   "source": [
    "test_data.info()"
   ]
  },
  {
   "cell_type": "code",
   "execution_count": 109,
   "id": "f28199b2",
   "metadata": {},
   "outputs": [],
   "source": [
    "subject_length_test = test_data.subject_line_length.apply(lambda x: round(int((x + 9) / 10) * 10))"
   ]
  },
  {
   "cell_type": "code",
   "execution_count": 110,
   "id": "c4d871cf",
   "metadata": {},
   "outputs": [
    {
     "data": {
      "text/plain": [
       "50    19650\n",
       "40    17900\n",
       "60     5869\n",
       "30     5848\n",
       "70     2829\n",
       "80     2084\n",
       "20     1790\n",
       "Name: subject_line_length, dtype: int64"
      ]
     },
     "execution_count": 110,
     "metadata": {},
     "output_type": "execute_result"
    }
   ],
   "source": [
    "subject_length_test.value_counts()"
   ]
  },
  {
   "cell_type": "code",
   "execution_count": 111,
   "id": "5ed6491e",
   "metadata": {},
   "outputs": [],
   "source": [
    "train_group_1 = df.loc[df.subject_line_length <=40,:]"
   ]
  },
  {
   "cell_type": "code",
   "execution_count": 112,
   "id": "a092a5b7",
   "metadata": {},
   "outputs": [],
   "source": [
    "train_group_2 = df.loc[df.subject_line_length >40,:]"
   ]
  },
  {
   "cell_type": "code",
   "execution_count": 113,
   "id": "4b040822",
   "metadata": {},
   "outputs": [
    {
     "data": {
      "text/plain": [
       "count    31678.000000\n",
       "mean         0.728676\n",
       "std          1.467766\n",
       "min          0.000000\n",
       "25%          0.000000\n",
       "50%          0.000000\n",
       "75%          1.000000\n",
       "max          6.000000\n",
       "Name: checkout_count_last_10_days, dtype: float64"
      ]
     },
     "execution_count": 113,
     "metadata": {},
     "output_type": "execute_result"
    }
   ],
   "source": [
    "train_group_1.checkout_count_last_10_days.describe()"
   ]
  },
  {
   "cell_type": "code",
   "execution_count": 114,
   "id": "a8638f4a",
   "metadata": {},
   "outputs": [
    {
     "data": {
      "text/plain": [
       "count    41861.000000\n",
       "mean         0.713385\n",
       "std          1.503024\n",
       "min          0.000000\n",
       "25%          0.000000\n",
       "50%          0.000000\n",
       "75%          1.000000\n",
       "max          6.000000\n",
       "Name: checkout_count_last_10_days, dtype: float64"
      ]
     },
     "execution_count": 114,
     "metadata": {},
     "output_type": "execute_result"
    }
   ],
   "source": [
    "train_group_2.checkout_count_last_10_days.describe()"
   ]
  },
  {
   "cell_type": "code",
   "execution_count": null,
   "id": "a8361a2a",
   "metadata": {},
   "outputs": [],
   "source": []
  },
  {
   "cell_type": "code",
   "execution_count": null,
   "id": "b019c200",
   "metadata": {},
   "outputs": [],
   "source": []
  },
  {
   "cell_type": "code",
   "execution_count": 115,
   "id": "9259de7a",
   "metadata": {},
   "outputs": [],
   "source": [
    "test_group_1 = test_data.loc[test_data.subject_line_length <=40,:]"
   ]
  },
  {
   "cell_type": "code",
   "execution_count": 116,
   "id": "f4475a70",
   "metadata": {
    "scrolled": true
   },
   "outputs": [],
   "source": [
    "test_group_2 = test_data.loc[test_data.subject_line_length >40,:]"
   ]
  },
  {
   "cell_type": "code",
   "execution_count": 117,
   "id": "54ae51cc",
   "metadata": {
    "scrolled": true
   },
   "outputs": [
    {
     "data": {
      "text/plain": [
       "count    25538.000000\n",
       "mean         1.083914\n",
       "std          3.059481\n",
       "min          0.000000\n",
       "25%          0.000000\n",
       "50%          0.000000\n",
       "75%          1.000000\n",
       "max        222.000000\n",
       "Name: checkout_count_last_10_days, dtype: float64"
      ]
     },
     "execution_count": 117,
     "metadata": {},
     "output_type": "execute_result"
    }
   ],
   "source": [
    "test_group_1.checkout_count_last_10_days.describe()"
   ]
  },
  {
   "cell_type": "code",
   "execution_count": 118,
   "id": "4b8e6989",
   "metadata": {},
   "outputs": [
    {
     "data": {
      "text/plain": [
       "count    30432.000000\n",
       "mean         1.158879\n",
       "std          3.831679\n",
       "min          0.000000\n",
       "25%          0.000000\n",
       "50%          0.000000\n",
       "75%          1.000000\n",
       "max        252.000000\n",
       "Name: checkout_count_last_10_days, dtype: float64"
      ]
     },
     "execution_count": 118,
     "metadata": {},
     "output_type": "execute_result"
    }
   ],
   "source": [
    "test_group_2.checkout_count_last_10_days.describe()"
   ]
  },
  {
   "cell_type": "code",
   "execution_count": 119,
   "id": "050e5b20",
   "metadata": {},
   "outputs": [
    {
     "data": {
      "text/plain": [
       "1"
      ]
     },
     "execution_count": 119,
     "metadata": {},
     "output_type": "execute_result"
    }
   ],
   "source": [
    "(test_group_1.checkout_count_last_10_days > 100).sum()"
   ]
  },
  {
   "cell_type": "code",
   "execution_count": 120,
   "id": "5cf22c54",
   "metadata": {},
   "outputs": [
    {
     "data": {
      "text/plain": [
       "3"
      ]
     },
     "execution_count": 120,
     "metadata": {},
     "output_type": "execute_result"
    }
   ],
   "source": [
    "(test_group_2.checkout_count_last_10_days > 100).sum()"
   ]
  },
  {
   "cell_type": "code",
   "execution_count": 121,
   "id": "85c0ef96",
   "metadata": {},
   "outputs": [],
   "source": [
    "import scipy.stats as stats"
   ]
  },
  {
   "cell_type": "markdown",
   "id": "2ccd3987",
   "metadata": {},
   "source": [
    "Test1 : use t-test to test about \\\n",
    "$\\mu_1 := \\text{mean of last check out number of 10 days with subject line length <=40 in train data}$\\\n",
    "$\\mu_2 := \\text{mean of last check out number of 10 days with subject line length <=40 in test data}$"
   ]
  },
  {
   "cell_type": "markdown",
   "id": "cc0cecc6",
   "metadata": {},
   "source": [
    "Null hypothesis $H_0$ : $\\mu_1 < \\mu_2$ \\\n",
    "Alternative hypothesis $H_1$ : $\\mu_1 \\ge \\mu_2$ \\\n",
    "confidence level : 95% i.e. $\\alpha = 0.05$ \\\n",
    "And we do the same test about groups of subject line length > 40.\\\n",
    "Note that we first assume that the variances are equal. (we'll test later)"
   ]
  },
  {
   "cell_type": "code",
   "execution_count": 122,
   "id": "c507d115",
   "metadata": {},
   "outputs": [
    {
     "data": {
      "text/plain": [
       "Ttest_indResult(statistic=-18.227077334225363, pvalue=2.5513112677034304e-74)"
      ]
     },
     "execution_count": 122,
     "metadata": {},
     "output_type": "execute_result"
    }
   ],
   "source": [
    "stats.ttest_ind(a=train_group_1.checkout_count_last_10_days, \n",
    "                b=test_group_1.checkout_count_last_10_days, \n",
    "                equal_var=True,\n",
    "               alternative='less')"
   ]
  },
  {
   "cell_type": "code",
   "execution_count": 123,
   "id": "1b34ca87",
   "metadata": {},
   "outputs": [
    {
     "data": {
      "text/plain": [
       "Ttest_indResult(statistic=-21.6106816390112, pvalue=1.515107393549514e-103)"
      ]
     },
     "execution_count": 123,
     "metadata": {},
     "output_type": "execute_result"
    }
   ],
   "source": [
    "stats.ttest_ind(a=train_group_2.checkout_count_last_10_days, \n",
    "                b=test_group_2.checkout_count_last_10_days, \n",
    "                equal_var=True,\n",
    "               alternative='less')"
   ]
  },
  {
   "cell_type": "markdown",
   "id": "a3d0e7d1",
   "metadata": {},
   "source": [
    "It seems like we reject the null hypothesis.\\\n",
    "But what if we drop the outliers and doing the same test?"
   ]
  },
  {
   "cell_type": "markdown",
   "id": "f1484b06",
   "metadata": {},
   "source": [
    "For simplicity, we see 50 and more as outliers."
   ]
  },
  {
   "cell_type": "code",
   "execution_count": 124,
   "id": "0eb4c664",
   "metadata": {},
   "outputs": [],
   "source": [
    "train_group_1_less_50 = train_group_1.loc[train_group_1.checkout_count_last_10_days<50,:]"
   ]
  },
  {
   "cell_type": "code",
   "execution_count": 125,
   "id": "91971086",
   "metadata": {},
   "outputs": [],
   "source": [
    "train_group_2_less_50 = train_group_2.loc[train_group_2.checkout_count_last_10_days<50,:]"
   ]
  },
  {
   "cell_type": "code",
   "execution_count": 126,
   "id": "aa3c5890",
   "metadata": {},
   "outputs": [],
   "source": [
    "test_group_1_less_50 = test_group_1.loc[test_group_1.checkout_count_last_10_days<50,:]\n",
    "test_group_2_less_50 = test_group_2.loc[test_group_2.checkout_count_last_10_days<50,:]"
   ]
  },
  {
   "cell_type": "code",
   "execution_count": 127,
   "id": "bd9e471b",
   "metadata": {},
   "outputs": [
    {
     "data": {
      "text/plain": [
       "Ttest_indResult(statistic=-19.3549700940459, pvalue=1.7099372024762207e-83)"
      ]
     },
     "execution_count": 127,
     "metadata": {},
     "output_type": "execute_result"
    }
   ],
   "source": [
    "stats.ttest_ind(a=train_group_1_less_50.checkout_count_last_10_days, \n",
    "                b=test_group_1_less_50.checkout_count_last_10_days, \n",
    "                equal_var=True,\n",
    "               alternative='less')"
   ]
  },
  {
   "cell_type": "code",
   "execution_count": 128,
   "id": "6615520d",
   "metadata": {},
   "outputs": [
    {
     "data": {
      "text/plain": [
       "Ttest_indResult(statistic=-23.22502336073413, pvalue=3.4762728239718304e-119)"
      ]
     },
     "execution_count": 128,
     "metadata": {},
     "output_type": "execute_result"
    }
   ],
   "source": [
    "stats.ttest_ind(a=train_group_2_less_50.checkout_count_last_10_days, \n",
    "                b=test_group_2_less_50.checkout_count_last_10_days, \n",
    "                equal_var=True,\n",
    "               alternative='less')"
   ]
  },
  {
   "cell_type": "markdown",
   "id": "e438cd6e",
   "metadata": {},
   "source": [
    "Next, we test about the equalness of 2 variances."
   ]
  },
  {
   "cell_type": "code",
   "execution_count": 129,
   "id": "1b9552f3",
   "metadata": {},
   "outputs": [
    {
     "data": {
      "text/plain": [
       "BartlettResult(statistic=14749.413915847676, pvalue=0.0)"
      ]
     },
     "execution_count": 129,
     "metadata": {},
     "output_type": "execute_result"
    }
   ],
   "source": [
    "stats.bartlett(train_group_1.checkout_count_last_10_days,\n",
    "               test_group_1.checkout_count_last_10_days)"
   ]
  },
  {
   "cell_type": "code",
   "execution_count": 130,
   "id": "b46c7271",
   "metadata": {},
   "outputs": [
    {
     "data": {
      "text/plain": [
       "BartlettResult(statistic=29677.022710602272, pvalue=0.0)"
      ]
     },
     "execution_count": 130,
     "metadata": {},
     "output_type": "execute_result"
    }
   ],
   "source": [
    "stats.bartlett(train_group_2.checkout_count_last_10_days,\n",
    "               test_group_2.checkout_count_last_10_days)"
   ]
  },
  {
   "cell_type": "markdown",
   "id": "42bf2dc4",
   "metadata": {},
   "source": [
    "Also, we drop the outliers and doing the same test"
   ]
  },
  {
   "cell_type": "code",
   "execution_count": 131,
   "id": "7c80d909",
   "metadata": {},
   "outputs": [
    {
     "data": {
      "text/plain": [
       "BartlettResult(statistic=9382.236487810982, pvalue=0.0)"
      ]
     },
     "execution_count": 131,
     "metadata": {},
     "output_type": "execute_result"
    }
   ],
   "source": [
    "stats.bartlett(train_group_1_less_50.checkout_count_last_10_days,\n",
    "               test_group_1_less_50.checkout_count_last_10_days)"
   ]
  },
  {
   "cell_type": "code",
   "execution_count": 132,
   "id": "c85c9ad0",
   "metadata": {},
   "outputs": [
    {
     "data": {
      "text/plain": [
       "BartlettResult(statistic=16010.379569495673, pvalue=0.0)"
      ]
     },
     "execution_count": 132,
     "metadata": {},
     "output_type": "execute_result"
    }
   ],
   "source": [
    "stats.bartlett(train_group_2_less_50.checkout_count_last_10_days,\n",
    "               test_group_2_less_50.checkout_count_last_10_days)"
   ]
  },
  {
   "cell_type": "markdown",
   "id": "97cd1674",
   "metadata": {},
   "source": [
    "Variance test shows that the 2 variances between train and test data are the same,\\\n",
    "and hence the above test of 2 mean holds."
   ]
  },
  {
   "cell_type": "markdown",
   "id": "a1382517",
   "metadata": {},
   "source": [
    "Though we drop the outliers, we still reject the null hypothesis.\\\n",
    "The longer of subject line does not significantly increase the purchase number of Shopee users."
   ]
  },
  {
   "cell_type": "markdown",
   "id": "c5bcc094",
   "metadata": {},
   "source": [
    "# Create Dashboard"
   ]
  },
  {
   "cell_type": "markdown",
   "id": "0b4aaaee",
   "metadata": {},
   "source": [
    "There may be some metric we have interest in, including\n",
    "* the ratio of purchase and login number."
   ]
  },
  {
   "cell_type": "markdown",
   "id": "0a53bcb0",
   "metadata": {},
   "source": [
    "We create dashboard for this ratio by `plotly` and `dash`."
   ]
  },
  {
   "cell_type": "code",
   "execution_count": 133,
   "id": "72af7a7f",
   "metadata": {},
   "outputs": [],
   "source": [
    "#!pip install plotly==4.14.3 > log.txt\n",
    "#!pip install jupyter-dash > log.txt"
   ]
  },
  {
   "cell_type": "code",
   "execution_count": 134,
   "id": "821e2a66",
   "metadata": {},
   "outputs": [],
   "source": [
    "from plotly.subplots import make_subplots\n",
    "import plotly.graph_objects as go\n",
    "from dash import Dash\n",
    "from dash import html\n",
    "from dash import dcc\n",
    "from dash.dependencies import Input, Output"
   ]
  },
  {
   "cell_type": "markdown",
   "id": "03ebdfa0",
   "metadata": {},
   "source": [
    "We separate user into 3 groups: \n",
    "1. Buying frequently (equal or more than 5 times in last 10 days)\n",
    "2. Buying often (more than 2 times but less than 5 times in last 10 days)\n",
    "3. seldom buying(equal or less than 2 times in last 10 days)"
   ]
  },
  {
   "cell_type": "markdown",
   "id": "5790c916",
   "metadata": {
    "scrolled": true
   },
   "source": [
    "We monitor the ratio of purchase and login number in 3 groups to see the outcome."
   ]
  },
  {
   "cell_type": "code",
   "execution_count": 135,
   "id": "38b0fd4d",
   "metadata": {},
   "outputs": [
    {
     "data": {
      "text/html": [
       "<div>\n",
       "<style scoped>\n",
       "    .dataframe tbody tr th:only-of-type {\n",
       "        vertical-align: middle;\n",
       "    }\n",
       "\n",
       "    .dataframe tbody tr th {\n",
       "        vertical-align: top;\n",
       "    }\n",
       "\n",
       "    .dataframe thead th {\n",
       "        text-align: right;\n",
       "    }\n",
       "</style>\n",
       "<table border=\"1\" class=\"dataframe\">\n",
       "  <thead>\n",
       "    <tr style=\"text-align: right;\">\n",
       "      <th></th>\n",
       "      <th>country_code</th>\n",
       "      <th>grass_date</th>\n",
       "      <th>user_id</th>\n",
       "      <th>subject_line_length</th>\n",
       "      <th>last_open_day</th>\n",
       "      <th>last_login_day</th>\n",
       "      <th>last_checkout_day</th>\n",
       "      <th>open_count_last_10_days</th>\n",
       "      <th>open_count_last_30_days</th>\n",
       "      <th>open_count_last_60_days</th>\n",
       "      <th>login_count_last_10_days</th>\n",
       "      <th>login_count_last_30_days</th>\n",
       "      <th>login_count_last_60_days</th>\n",
       "      <th>checkout_count_last_10_days</th>\n",
       "      <th>checkout_count_last_30_days</th>\n",
       "      <th>checkout_count_last_60_days</th>\n",
       "      <th>open_flag</th>\n",
       "      <th>row_id</th>\n",
       "    </tr>\n",
       "  </thead>\n",
       "  <tbody>\n",
       "    <tr>\n",
       "      <th>2</th>\n",
       "      <td>6</td>\n",
       "      <td>2019-07-16 00:00:00+08:00</td>\n",
       "      <td>177</td>\n",
       "      <td>49</td>\n",
       "      <td>14.0</td>\n",
       "      <td>5.0</td>\n",
       "      <td>5.0</td>\n",
       "      <td>0.0</td>\n",
       "      <td>4.0</td>\n",
       "      <td>12.0</td>\n",
       "      <td>24.0</td>\n",
       "      <td>69.0</td>\n",
       "      <td>119.0</td>\n",
       "      <td>5.0</td>\n",
       "      <td>17.0</td>\n",
       "      <td>27.0</td>\n",
       "      <td>0</td>\n",
       "      <td>2</td>\n",
       "    </tr>\n",
       "    <tr>\n",
       "      <th>15</th>\n",
       "      <td>6</td>\n",
       "      <td>2019-07-16 00:00:00+08:00</td>\n",
       "      <td>663</td>\n",
       "      <td>49</td>\n",
       "      <td>4.0</td>\n",
       "      <td>2.0</td>\n",
       "      <td>2.0</td>\n",
       "      <td>7.0</td>\n",
       "      <td>18.0</td>\n",
       "      <td>32.0</td>\n",
       "      <td>18.0</td>\n",
       "      <td>40.0</td>\n",
       "      <td>68.0</td>\n",
       "      <td>6.0</td>\n",
       "      <td>9.0</td>\n",
       "      <td>14.0</td>\n",
       "      <td>1</td>\n",
       "      <td>15</td>\n",
       "    </tr>\n",
       "    <tr>\n",
       "      <th>18</th>\n",
       "      <td>5</td>\n",
       "      <td>2019-07-16 00:00:00+08:00</td>\n",
       "      <td>740</td>\n",
       "      <td>43</td>\n",
       "      <td>28.0</td>\n",
       "      <td>1.0</td>\n",
       "      <td>3.0</td>\n",
       "      <td>0.0</td>\n",
       "      <td>0.0</td>\n",
       "      <td>0.0</td>\n",
       "      <td>16.0</td>\n",
       "      <td>54.0</td>\n",
       "      <td>93.0</td>\n",
       "      <td>5.0</td>\n",
       "      <td>12.0</td>\n",
       "      <td>24.0</td>\n",
       "      <td>0</td>\n",
       "      <td>18</td>\n",
       "    </tr>\n",
       "    <tr>\n",
       "      <th>19</th>\n",
       "      <td>5</td>\n",
       "      <td>2019-07-16 00:00:00+08:00</td>\n",
       "      <td>749</td>\n",
       "      <td>43</td>\n",
       "      <td>12.0</td>\n",
       "      <td>1.0</td>\n",
       "      <td>2.0</td>\n",
       "      <td>0.0</td>\n",
       "      <td>0.0</td>\n",
       "      <td>0.0</td>\n",
       "      <td>18.0</td>\n",
       "      <td>43.0</td>\n",
       "      <td>93.0</td>\n",
       "      <td>6.0</td>\n",
       "      <td>12.0</td>\n",
       "      <td>16.0</td>\n",
       "      <td>0</td>\n",
       "      <td>19</td>\n",
       "    </tr>\n",
       "    <tr>\n",
       "      <th>42</th>\n",
       "      <td>4</td>\n",
       "      <td>2019-07-16 00:00:00+08:00</td>\n",
       "      <td>2076</td>\n",
       "      <td>44</td>\n",
       "      <td>10.0</td>\n",
       "      <td>3.0</td>\n",
       "      <td>5.0</td>\n",
       "      <td>1.0</td>\n",
       "      <td>7.0</td>\n",
       "      <td>10.0</td>\n",
       "      <td>48.0</td>\n",
       "      <td>137.0</td>\n",
       "      <td>262.0</td>\n",
       "      <td>6.0</td>\n",
       "      <td>17.0</td>\n",
       "      <td>31.0</td>\n",
       "      <td>0</td>\n",
       "      <td>42</td>\n",
       "    </tr>\n",
       "    <tr>\n",
       "      <th>...</th>\n",
       "      <td>...</td>\n",
       "      <td>...</td>\n",
       "      <td>...</td>\n",
       "      <td>...</td>\n",
       "      <td>...</td>\n",
       "      <td>...</td>\n",
       "      <td>...</td>\n",
       "      <td>...</td>\n",
       "      <td>...</td>\n",
       "      <td>...</td>\n",
       "      <td>...</td>\n",
       "      <td>...</td>\n",
       "      <td>...</td>\n",
       "      <td>...</td>\n",
       "      <td>...</td>\n",
       "      <td>...</td>\n",
       "      <td>...</td>\n",
       "      <td>...</td>\n",
       "    </tr>\n",
       "    <tr>\n",
       "      <th>73342</th>\n",
       "      <td>1</td>\n",
       "      <td>2019-09-02 00:00:00+08:00</td>\n",
       "      <td>121854</td>\n",
       "      <td>33</td>\n",
       "      <td>20.0</td>\n",
       "      <td>1.0</td>\n",
       "      <td>1.0</td>\n",
       "      <td>0.0</td>\n",
       "      <td>0.0</td>\n",
       "      <td>0.0</td>\n",
       "      <td>48.0</td>\n",
       "      <td>137.0</td>\n",
       "      <td>164.0</td>\n",
       "      <td>6.0</td>\n",
       "      <td>15.0</td>\n",
       "      <td>15.0</td>\n",
       "      <td>0</td>\n",
       "      <td>73342</td>\n",
       "    </tr>\n",
       "    <tr>\n",
       "      <th>73368</th>\n",
       "      <td>3</td>\n",
       "      <td>2019-09-02 00:00:00+08:00</td>\n",
       "      <td>122208</td>\n",
       "      <td>64</td>\n",
       "      <td>-20.0</td>\n",
       "      <td>1.0</td>\n",
       "      <td>1.0</td>\n",
       "      <td>0.0</td>\n",
       "      <td>0.0</td>\n",
       "      <td>0.0</td>\n",
       "      <td>13.0</td>\n",
       "      <td>24.0</td>\n",
       "      <td>24.0</td>\n",
       "      <td>6.0</td>\n",
       "      <td>17.0</td>\n",
       "      <td>24.0</td>\n",
       "      <td>0</td>\n",
       "      <td>73368</td>\n",
       "    </tr>\n",
       "    <tr>\n",
       "      <th>73377</th>\n",
       "      <td>1</td>\n",
       "      <td>2019-09-02 00:00:00+08:00</td>\n",
       "      <td>122327</td>\n",
       "      <td>33</td>\n",
       "      <td>1.0</td>\n",
       "      <td>1.0</td>\n",
       "      <td>1.0</td>\n",
       "      <td>5.0</td>\n",
       "      <td>5.0</td>\n",
       "      <td>5.0</td>\n",
       "      <td>17.0</td>\n",
       "      <td>28.0</td>\n",
       "      <td>28.0</td>\n",
       "      <td>6.0</td>\n",
       "      <td>10.0</td>\n",
       "      <td>10.0</td>\n",
       "      <td>1</td>\n",
       "      <td>73377</td>\n",
       "    </tr>\n",
       "    <tr>\n",
       "      <th>73406</th>\n",
       "      <td>3</td>\n",
       "      <td>2019-09-02 00:00:00+08:00</td>\n",
       "      <td>122726</td>\n",
       "      <td>49</td>\n",
       "      <td>-20.0</td>\n",
       "      <td>1.0</td>\n",
       "      <td>1.0</td>\n",
       "      <td>0.0</td>\n",
       "      <td>0.0</td>\n",
       "      <td>0.0</td>\n",
       "      <td>10.0</td>\n",
       "      <td>34.0</td>\n",
       "      <td>34.0</td>\n",
       "      <td>5.0</td>\n",
       "      <td>6.0</td>\n",
       "      <td>6.0</td>\n",
       "      <td>0</td>\n",
       "      <td>73406</td>\n",
       "    </tr>\n",
       "    <tr>\n",
       "      <th>73454</th>\n",
       "      <td>1</td>\n",
       "      <td>2019-09-02 00:00:00+08:00</td>\n",
       "      <td>123280</td>\n",
       "      <td>33</td>\n",
       "      <td>13.0</td>\n",
       "      <td>1.0</td>\n",
       "      <td>-20.0</td>\n",
       "      <td>0.0</td>\n",
       "      <td>0.0</td>\n",
       "      <td>0.0</td>\n",
       "      <td>11.0</td>\n",
       "      <td>20.0</td>\n",
       "      <td>20.0</td>\n",
       "      <td>6.0</td>\n",
       "      <td>17.0</td>\n",
       "      <td>31.0</td>\n",
       "      <td>0</td>\n",
       "      <td>73454</td>\n",
       "    </tr>\n",
       "  </tbody>\n",
       "</table>\n",
       "<p>3814 rows × 18 columns</p>\n",
       "</div>"
      ],
      "text/plain": [
       "       country_code                 grass_date  user_id  subject_line_length  \\\n",
       "2                 6  2019-07-16 00:00:00+08:00      177                   49   \n",
       "15                6  2019-07-16 00:00:00+08:00      663                   49   \n",
       "18                5  2019-07-16 00:00:00+08:00      740                   43   \n",
       "19                5  2019-07-16 00:00:00+08:00      749                   43   \n",
       "42                4  2019-07-16 00:00:00+08:00     2076                   44   \n",
       "...             ...                        ...      ...                  ...   \n",
       "73342             1  2019-09-02 00:00:00+08:00   121854                   33   \n",
       "73368             3  2019-09-02 00:00:00+08:00   122208                   64   \n",
       "73377             1  2019-09-02 00:00:00+08:00   122327                   33   \n",
       "73406             3  2019-09-02 00:00:00+08:00   122726                   49   \n",
       "73454             1  2019-09-02 00:00:00+08:00   123280                   33   \n",
       "\n",
       "       last_open_day  last_login_day  last_checkout_day  \\\n",
       "2               14.0             5.0                5.0   \n",
       "15               4.0             2.0                2.0   \n",
       "18              28.0             1.0                3.0   \n",
       "19              12.0             1.0                2.0   \n",
       "42              10.0             3.0                5.0   \n",
       "...              ...             ...                ...   \n",
       "73342           20.0             1.0                1.0   \n",
       "73368          -20.0             1.0                1.0   \n",
       "73377            1.0             1.0                1.0   \n",
       "73406          -20.0             1.0                1.0   \n",
       "73454           13.0             1.0              -20.0   \n",
       "\n",
       "       open_count_last_10_days  open_count_last_30_days  \\\n",
       "2                          0.0                      4.0   \n",
       "15                         7.0                     18.0   \n",
       "18                         0.0                      0.0   \n",
       "19                         0.0                      0.0   \n",
       "42                         1.0                      7.0   \n",
       "...                        ...                      ...   \n",
       "73342                      0.0                      0.0   \n",
       "73368                      0.0                      0.0   \n",
       "73377                      5.0                      5.0   \n",
       "73406                      0.0                      0.0   \n",
       "73454                      0.0                      0.0   \n",
       "\n",
       "       open_count_last_60_days  login_count_last_10_days  \\\n",
       "2                         12.0                      24.0   \n",
       "15                        32.0                      18.0   \n",
       "18                         0.0                      16.0   \n",
       "19                         0.0                      18.0   \n",
       "42                        10.0                      48.0   \n",
       "...                        ...                       ...   \n",
       "73342                      0.0                      48.0   \n",
       "73368                      0.0                      13.0   \n",
       "73377                      5.0                      17.0   \n",
       "73406                      0.0                      10.0   \n",
       "73454                      0.0                      11.0   \n",
       "\n",
       "       login_count_last_30_days  login_count_last_60_days  \\\n",
       "2                          69.0                     119.0   \n",
       "15                         40.0                      68.0   \n",
       "18                         54.0                      93.0   \n",
       "19                         43.0                      93.0   \n",
       "42                        137.0                     262.0   \n",
       "...                         ...                       ...   \n",
       "73342                     137.0                     164.0   \n",
       "73368                      24.0                      24.0   \n",
       "73377                      28.0                      28.0   \n",
       "73406                      34.0                      34.0   \n",
       "73454                      20.0                      20.0   \n",
       "\n",
       "       checkout_count_last_10_days  checkout_count_last_30_days  \\\n",
       "2                              5.0                         17.0   \n",
       "15                             6.0                          9.0   \n",
       "18                             5.0                         12.0   \n",
       "19                             6.0                         12.0   \n",
       "42                             6.0                         17.0   \n",
       "...                            ...                          ...   \n",
       "73342                          6.0                         15.0   \n",
       "73368                          6.0                         17.0   \n",
       "73377                          6.0                         10.0   \n",
       "73406                          5.0                          6.0   \n",
       "73454                          6.0                         17.0   \n",
       "\n",
       "       checkout_count_last_60_days  open_flag  row_id  \n",
       "2                             27.0          0       2  \n",
       "15                            14.0          1      15  \n",
       "18                            24.0          0      18  \n",
       "19                            16.0          0      19  \n",
       "42                            31.0          0      42  \n",
       "...                            ...        ...     ...  \n",
       "73342                         15.0          0   73342  \n",
       "73368                         24.0          0   73368  \n",
       "73377                         10.0          1   73377  \n",
       "73406                          6.0          0   73406  \n",
       "73454                         31.0          0   73454  \n",
       "\n",
       "[3814 rows x 18 columns]"
      ]
     },
     "execution_count": 135,
     "metadata": {},
     "output_type": "execute_result"
    }
   ],
   "source": [
    "df.query(\"checkout_count_last_10_days >= 5\")"
   ]
  },
  {
   "cell_type": "code",
   "execution_count": 136,
   "id": "9b0c7ee9",
   "metadata": {},
   "outputs": [],
   "source": [
    "df3 = df.query(\"checkout_count_last_10_days >= 5\")"
   ]
  },
  {
   "cell_type": "code",
   "execution_count": 137,
   "id": "c4e8716a",
   "metadata": {},
   "outputs": [],
   "source": [
    "cond = df3['login_count_last_10_days'].le(0)"
   ]
  },
  {
   "cell_type": "code",
   "execution_count": 138,
   "id": "df72c5ec",
   "metadata": {},
   "outputs": [
    {
     "data": {
      "text/plain": [
       "2        False\n",
       "15       False\n",
       "18       False\n",
       "19       False\n",
       "42       False\n",
       "         ...  \n",
       "73342    False\n",
       "73368    False\n",
       "73377    False\n",
       "73406    False\n",
       "73454    False\n",
       "Name: login_count_last_10_days, Length: 3814, dtype: bool"
      ]
     },
     "execution_count": 138,
     "metadata": {},
     "output_type": "execute_result"
    }
   ],
   "source": [
    "cond"
   ]
  },
  {
   "cell_type": "code",
   "execution_count": 139,
   "id": "799d4887",
   "metadata": {},
   "outputs": [
    {
     "name": "stderr",
     "output_type": "stream",
     "text": [
      "C:\\Users\\2022080101\\AppData\\Local\\Temp\\ipykernel_8148\\2930692321.py:1: SettingWithCopyWarning: \n",
      "A value is trying to be set on a copy of a slice from a DataFrame.\n",
      "Try using .loc[row_indexer,col_indexer] = value instead\n",
      "\n",
      "See the caveats in the documentation: https://pandas.pydata.org/pandas-docs/stable/user_guide/indexing.html#returning-a-view-versus-a-copy\n",
      "  df3['purchase/login_ratio'] = df3.checkout_count_last_10_days.div(\n"
     ]
    }
   ],
   "source": [
    "df3['purchase/login_ratio'] = df3.checkout_count_last_10_days.div(\n",
    "                                    df3.login_count_last_10_days.mask(cond,np.inf))"
   ]
  },
  {
   "cell_type": "code",
   "execution_count": 140,
   "id": "e991dce0",
   "metadata": {},
   "outputs": [
    {
     "data": {
      "text/plain": [
       "count    3814.000000\n",
       "mean        0.304404\n",
       "std         0.225708\n",
       "min         0.104167\n",
       "25%         0.162162\n",
       "50%         0.240000\n",
       "75%         0.375000\n",
       "max         5.000000\n",
       "Name: purchase/login_ratio, dtype: float64"
      ]
     },
     "execution_count": 140,
     "metadata": {},
     "output_type": "execute_result"
    }
   ],
   "source": [
    "df3['purchase/login_ratio'].describe()"
   ]
  },
  {
   "cell_type": "code",
   "execution_count": 141,
   "id": "04c57bb9",
   "metadata": {},
   "outputs": [
    {
     "data": {
      "text/plain": [
       "0.3044042238205343"
      ]
     },
     "execution_count": 141,
     "metadata": {},
     "output_type": "execute_result"
    }
   ],
   "source": [
    "df3['purchase/login_ratio'].mean()"
   ]
  },
  {
   "cell_type": "code",
   "execution_count": 142,
   "id": "ea5e4992",
   "metadata": {},
   "outputs": [],
   "source": [
    "df4 = df.query(\"checkout_count_last_10_days < 5 and checkout_count_last_10_days >= 2\")"
   ]
  },
  {
   "cell_type": "code",
   "execution_count": 143,
   "id": "50a5aa76",
   "metadata": {},
   "outputs": [
    {
     "name": "stderr",
     "output_type": "stream",
     "text": [
      "C:\\Users\\2022080101\\AppData\\Local\\Temp\\ipykernel_8148\\2199150282.py:2: SettingWithCopyWarning: \n",
      "A value is trying to be set on a copy of a slice from a DataFrame.\n",
      "Try using .loc[row_indexer,col_indexer] = value instead\n",
      "\n",
      "See the caveats in the documentation: https://pandas.pydata.org/pandas-docs/stable/user_guide/indexing.html#returning-a-view-versus-a-copy\n",
      "  df4['purchase/login_ratio'] = df4.checkout_count_last_10_days.div(\n"
     ]
    }
   ],
   "source": [
    "cond2 = df4['login_count_last_10_days'].le(0)\n",
    "df4['purchase/login_ratio'] = df4.checkout_count_last_10_days.div(\n",
    "                                    df4.login_count_last_10_days.mask(cond2,np.inf))"
   ]
  },
  {
   "cell_type": "code",
   "execution_count": 144,
   "id": "2373e0ba",
   "metadata": {},
   "outputs": [
    {
     "data": {
      "text/plain": [
       "count    8664.000000\n",
       "mean        0.219339\n",
       "std         0.232399\n",
       "min         0.000000\n",
       "25%         0.105263\n",
       "50%         0.166667\n",
       "75%         0.250000\n",
       "max         4.000000\n",
       "Name: purchase/login_ratio, dtype: float64"
      ]
     },
     "execution_count": 144,
     "metadata": {},
     "output_type": "execute_result"
    }
   ],
   "source": [
    "df4['purchase/login_ratio'].describe()"
   ]
  },
  {
   "cell_type": "code",
   "execution_count": 145,
   "id": "b81f8811",
   "metadata": {},
   "outputs": [],
   "source": [
    "df5 = df.query(\"checkout_count_last_10_days < 2\")"
   ]
  },
  {
   "cell_type": "code",
   "execution_count": 146,
   "id": "b19b2db6",
   "metadata": {},
   "outputs": [
    {
     "name": "stderr",
     "output_type": "stream",
     "text": [
      "C:\\Users\\2022080101\\AppData\\Local\\Temp\\ipykernel_8148\\3976898148.py:2: SettingWithCopyWarning: \n",
      "A value is trying to be set on a copy of a slice from a DataFrame.\n",
      "Try using .loc[row_indexer,col_indexer] = value instead\n",
      "\n",
      "See the caveats in the documentation: https://pandas.pydata.org/pandas-docs/stable/user_guide/indexing.html#returning-a-view-versus-a-copy\n",
      "  df5['purchase/login_ratio'] = df5.checkout_count_last_10_days.div(\n"
     ]
    }
   ],
   "source": [
    "cond3 = df5['login_count_last_10_days'].le(0)\n",
    "df5['purchase/login_ratio'] = df5.checkout_count_last_10_days.div(\n",
    "                                    df5.login_count_last_10_days.mask(cond3,np.inf))"
   ]
  },
  {
   "cell_type": "code",
   "execution_count": 147,
   "id": "4253c322",
   "metadata": {},
   "outputs": [
    {
     "data": {
      "text/plain": [
       "count    61061.000000\n",
       "mean         0.018215\n",
       "std          0.074137\n",
       "min          0.000000\n",
       "25%          0.000000\n",
       "50%          0.000000\n",
       "75%          0.000000\n",
       "max          1.000000\n",
       "Name: purchase/login_ratio, dtype: float64"
      ]
     },
     "execution_count": 147,
     "metadata": {},
     "output_type": "execute_result"
    }
   ],
   "source": [
    "df5['purchase/login_ratio'].describe()"
   ]
  },
  {
   "cell_type": "markdown",
   "id": "8113c0f2",
   "metadata": {},
   "source": [
    "Observation: The more frequently the user buying, the higher the purchase/open mail ratio."
   ]
  },
  {
   "cell_type": "markdown",
   "id": "df0e38ae",
   "metadata": {},
   "source": [
    "Assumption: We can monitor the purchase/open_mail_ratio of each group of users(especially frequently buyer) \\\n",
    "and the number of e-mail each group of users open to approximate the activity of each group of users."
   ]
  },
  {
   "cell_type": "code",
   "execution_count": 148,
   "id": "65f8f842",
   "metadata": {
    "scrolled": true
   },
   "outputs": [
    {
     "data": {
      "text/html": [
       "\n",
       "        <iframe\n",
       "            width=\"100%\"\n",
       "            height=\"650\"\n",
       "            src=\"http://127.0.0.1:8050/\"\n",
       "            frameborder=\"0\"\n",
       "            allowfullscreen\n",
       "            \n",
       "        ></iframe>\n",
       "        "
      ],
      "text/plain": [
       "<IPython.lib.display.IFrame at 0x23131584d90>"
      ]
     },
     "metadata": {},
     "output_type": "display_data"
    }
   ],
   "source": [
    "app = Dash(__name__)\n",
    "app.layout = html.Div(children=[\n",
    "    html.Div([\n",
    "    html.H1(children='Some Ratio We Want to Monitor'),\n",
    "\n",
    "    html.Div(children='''\n",
    "        The figures are shown below.\n",
    "    '''),\n",
    "\n",
    "    dcc.Graph(\n",
    "    id = \"fig1\",\n",
    "    figure={\n",
    "        'data': [\n",
    "            {'x': ['frequently','often','seldom'], \n",
    "             'y': [df3['purchase/login_ratio'].mean(), df4['purchase/login_ratio'].mean(), df5['purchase/login_ratio'].mean()], 'type': 'bar', 'name': 'mean'},\n",
    "        ],\n",
    "        'layout': {\n",
    "            'title': 'Purchase/Login Ratio',\n",
    "            'xaxis':{\n",
    "                    'title':'Buying Frequency of Shopee Users'\n",
    "                },\n",
    "                'yaxis':{\n",
    "                    'title':'Ratio'\n",
    "                }\n",
    "        }\n",
    "    }\n",
    "),\n",
    "    ]),\n",
    "    html.Div(\n",
    "\n",
    "    dcc.Graph(\n",
    "    id = 'fig2',\n",
    "        figure={\n",
    "        'data': [\n",
    "            {'x': ['frequently','often','seldom'], \n",
    "             'y': [df3['checkout_count_last_10_days'].mean(), \n",
    "                   df4['checkout_count_last_10_days'].mean(), \n",
    "                   df5['checkout_count_last_10_days'].mean()], 'type': 'bar', 'name': 'mean'},\n",
    "        ],\n",
    "        'layout': {\n",
    "            'title': 'Mean Purchase Number of Each Group of Users',\n",
    "            'xaxis':{\n",
    "                    'title':'Buying Frequency of Shopee Users'\n",
    "                },\n",
    "                'yaxis':{\n",
    "                    'title':'Number of Buying'\n",
    "                }\n",
    "        }\n",
    "    }\n",
    "),\n",
    ")\n",
    "])\n",
    "\n",
    "if __name__ == '__main__':\n",
    "    app.run(debug=True)"
   ]
  }
 ],
 "metadata": {
  "kernelspec": {
   "display_name": "Python 3 (ipykernel)",
   "language": "python",
   "name": "python3"
  },
  "language_info": {
   "codemirror_mode": {
    "name": "ipython",
    "version": 3
   },
   "file_extension": ".py",
   "mimetype": "text/x-python",
   "name": "python",
   "nbconvert_exporter": "python",
   "pygments_lexer": "ipython3",
   "version": "3.9.12"
  }
 },
 "nbformat": 4,
 "nbformat_minor": 5
}
